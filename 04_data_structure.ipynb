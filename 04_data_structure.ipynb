{
 "cells": [
  {
   "cell_type": "markdown",
   "id": "adb1cf5e-0053-46ad-9b2a-199794e98e5f",
   "metadata": {},
   "source": [
    "# 자료구조\n",
    "> 여러가지 자료구조가 가지고 있는 메소드(함수) 알아보기"
   ]
  },
  {
   "cell_type": "code",
   "execution_count": 2,
   "id": "c4c35af5-b6e9-4a64-a772-b98b5d18c8f1",
   "metadata": {},
   "outputs": [
    {
     "name": "stdout",
     "output_type": "stream",
     "text": [
      "['__add__', '__class__', '__contains__', '__delattr__', '__dir__', '__doc__', '__eq__', '__format__', '__ge__', '__getattribute__', '__getitem__', '__getnewargs__', '__getstate__', '__gt__', '__hash__', '__init__', '__init_subclass__', '__iter__', '__le__', '__len__', '__lt__', '__mod__', '__mul__', '__ne__', '__new__', '__reduce__', '__reduce_ex__', '__repr__', '__rmod__', '__rmul__', '__setattr__', '__sizeof__', '__str__', '__subclasshook__', 'capitalize', 'casefold', 'center', 'count', 'encode', 'endswith', 'expandtabs', 'find', 'format', 'format_map', 'index', 'isalnum', 'isalpha', 'isascii', 'isdecimal', 'isdigit', 'isidentifier', 'islower', 'isnumeric', 'isprintable', 'isspace', 'istitle', 'isupper', 'join', 'ljust', 'lower', 'lstrip', 'maketrans', 'partition', 'removeprefix', 'removesuffix', 'replace', 'rfind', 'rindex', 'rjust', 'rpartition', 'rsplit', 'rstrip', 'split', 'splitlines', 'startswith', 'strip', 'swapcase', 'title', 'translate', 'upper', 'zfill']\n"
     ]
    }
   ],
   "source": [
    "print(dir('hello'))"
   ]
  },
  {
   "cell_type": "markdown",
   "id": "a15fa23a-5703-401d-9a7d-115ead92bdad",
   "metadata": {},
   "source": [
    "### 문자열 메소드"
   ]
  },
  {
   "cell_type": "code",
   "execution_count": 4,
   "id": "3b1b3d6e-7a70-43a2-9824-07a6a4e2c014",
   "metadata": {},
   "outputs": [],
   "source": [
    "a = 'hello my name is hong'"
   ]
  },
  {
   "cell_type": "code",
   "execution_count": 7,
   "id": "d9d30d3e-b516-42fb-a9d4-de0c9aa1bcf1",
   "metadata": {},
   "outputs": [
    {
     "name": "stdout",
     "output_type": "stream",
     "text": [
      "hello my name is hong\n"
     ]
    }
   ],
   "source": [
    "print(a)"
   ]
  },
  {
   "cell_type": "code",
   "execution_count": 248,
   "id": "3cf2a831-6aa0-4a1e-aaca-6b30816df841",
   "metadata": {},
   "outputs": [
    {
     "ename": "TypeError",
     "evalue": "'str' object does not support item assignment",
     "output_type": "error",
     "traceback": [
      "\u001b[1;31m---------------------------------------------------------------------------\u001b[0m",
      "\u001b[1;31mTypeError\u001b[0m                                 Traceback (most recent call last)",
      "Cell \u001b[1;32mIn[248], line 1\u001b[0m\n\u001b[1;32m----> 1\u001b[0m \u001b[43ma\u001b[49m\u001b[43m[\u001b[49m\u001b[38;5;241;43m0\u001b[39;49m\u001b[43m]\u001b[49m \u001b[38;5;241m=\u001b[39m \u001b[38;5;124m'\u001b[39m\u001b[38;5;124mH\u001b[39m\u001b[38;5;124m'\u001b[39m   \u001b[38;5;66;03m# str 수정불가능, 재할당 해야함\u001b[39;00m\n",
      "\u001b[1;31mTypeError\u001b[0m: 'str' object does not support item assignment"
     ]
    }
   ],
   "source": [
    "a[0] = 'H'   # str 수정불가능, 재할당 해야함"
   ]
  },
  {
   "cell_type": "code",
   "execution_count": 15,
   "id": "967489a7-ea4f-4ef4-84f0-9c021f332176",
   "metadata": {},
   "outputs": [
    {
     "data": {
      "text/plain": [
       "'Hello my name is hong'"
      ]
     },
     "execution_count": 15,
     "metadata": {},
     "output_type": "execute_result"
    }
   ],
   "source": [
    "a.capitalize()"
   ]
  },
  {
   "cell_type": "code",
   "execution_count": 17,
   "id": "b46f6e3d-5534-486e-9899-27ee54465e8d",
   "metadata": {},
   "outputs": [],
   "source": [
    "b = 'what do you want to eat for lunch?'"
   ]
  },
  {
   "cell_type": "code",
   "execution_count": 18,
   "id": "bab771e2-8f71-44e4-b98f-5b65d01f2260",
   "metadata": {},
   "outputs": [
    {
     "name": "stdout",
     "output_type": "stream",
     "text": [
      "what do you want to eat for lunch?\n"
     ]
    }
   ],
   "source": [
    "print(b)"
   ]
  },
  {
   "cell_type": "code",
   "execution_count": 20,
   "id": "747435e1-271e-4b25-8b56-181d98eecb58",
   "metadata": {},
   "outputs": [
    {
     "ename": "TypeError",
     "evalue": "'str' object does not support item assignment",
     "output_type": "error",
     "traceback": [
      "\u001b[1;31m---------------------------------------------------------------------------\u001b[0m",
      "\u001b[1;31mTypeError\u001b[0m                                 Traceback (most recent call last)",
      "Cell \u001b[1;32mIn[20], line 1\u001b[0m\n\u001b[1;32m----> 1\u001b[0m \u001b[43mb\u001b[49m\u001b[43m[\u001b[49m\u001b[38;5;241;43m0\u001b[39;49m\u001b[43m]\u001b[49m \u001b[38;5;241m=\u001b[39m \u001b[38;5;124m'\u001b[39m\u001b[38;5;124mW\u001b[39m\u001b[38;5;124m'\u001b[39m\n",
      "\u001b[1;31mTypeError\u001b[0m: 'str' object does not support item assignment"
     ]
    }
   ],
   "source": [
    "b[0] = 'W'"
   ]
  },
  {
   "cell_type": "code",
   "execution_count": 31,
   "id": "1d15bc00-2c9b-43ea-a5c2-e674667a0e4e",
   "metadata": {},
   "outputs": [],
   "source": [
    "b= b.capitalize()  # return이 출력된거, print(()) 형태로 데이터로 저장. or b = b.()형태."
   ]
  },
  {
   "cell_type": "code",
   "execution_count": 32,
   "id": "4f865d54-9171-47a1-bebe-393da46bde06",
   "metadata": {},
   "outputs": [
    {
     "name": "stdout",
     "output_type": "stream",
     "text": [
      "What do you want to eat for lunch?\n"
     ]
    }
   ],
   "source": [
    "print(b)"
   ]
  },
  {
   "cell_type": "code",
   "execution_count": 35,
   "id": "94ccfcb4-2fb9-4242-9ff1-df4510d36fec",
   "metadata": {},
   "outputs": [
    {
     "data": {
      "text/plain": [
       "'Hello My Name Is Hong'"
      ]
     },
     "execution_count": 35,
     "metadata": {},
     "output_type": "execute_result"
    }
   ],
   "source": [
    "a.title()  # 단어 맨 첫번째 대문자."
   ]
  },
  {
   "cell_type": "code",
   "execution_count": 37,
   "id": "98d49848-afdd-4da7-9059-88c2f3dd1a17",
   "metadata": {},
   "outputs": [
    {
     "data": {
      "text/plain": [
       "'hello my name is hong'"
      ]
     },
     "execution_count": 37,
     "metadata": {},
     "output_type": "execute_result"
    }
   ],
   "source": [
    "a.lower()  # 전부 소문자."
   ]
  },
  {
   "cell_type": "code",
   "execution_count": 39,
   "id": "6a51d457-cd68-4639-aaa1-74caeff1dc12",
   "metadata": {},
   "outputs": [
    {
     "data": {
      "text/plain": [
       "'HELLO MY NAME IS HONG'"
      ]
     },
     "execution_count": 39,
     "metadata": {},
     "output_type": "execute_result"
    }
   ],
   "source": [
    "a.upper() # 전부 대문자."
   ]
  },
  {
   "cell_type": "code",
   "execution_count": 46,
   "id": "d142f2ad-b950-43af-a776-66cdf0fcd7d9",
   "metadata": {},
   "outputs": [
    {
     "data": {
      "text/plain": [
       "'my!name!is'"
      ]
     },
     "execution_count": 46,
     "metadata": {},
     "output_type": "execute_result"
    }
   ],
   "source": [
    "my_list = ['my', 'name', 'is']\n",
    "'!'.join(my_list)"
   ]
  },
  {
   "cell_type": "code",
   "execution_count": 51,
   "id": "eb5552eb-88be-4c67-9d33-4061dddfd5d3",
   "metadata": {},
   "outputs": [
    {
     "data": {
      "text/plain": [
       "'배?고?프?다'"
      ]
     },
     "execution_count": 51,
     "metadata": {},
     "output_type": "execute_result"
    }
   ],
   "source": [
    "'?'.join('배고프다')  "
   ]
  },
  {
   "cell_type": "code",
   "execution_count": 58,
   "id": "12c97807-6f7a-4ef0-9b18-3c50ab2f923a",
   "metadata": {},
   "outputs": [
    {
     "name": "stdout",
     "output_type": "stream",
     "text": [
      "          hello          \n",
      "\n"
     ]
    }
   ],
   "source": [
    "a = '          hello          \\n'\n",
    "print(a)"
   ]
  },
  {
   "cell_type": "code",
   "execution_count": 59,
   "id": "19ff5dbe-82e2-4eb0-88d7-42e2ec929448",
   "metadata": {},
   "outputs": [
    {
     "name": "stdout",
     "output_type": "stream",
     "text": [
      "26\n"
     ]
    }
   ],
   "source": [
    "a = '          hello          \\n'\n",
    "print(len(a))"
   ]
  },
  {
   "cell_type": "code",
   "execution_count": 61,
   "id": "cc990266-a680-4974-9742-9094073528e5",
   "metadata": {},
   "outputs": [
    {
     "data": {
      "text/plain": [
       "'hello'"
      ]
     },
     "execution_count": 61,
     "metadata": {},
     "output_type": "execute_result"
    }
   ],
   "source": [
    "a = '     \\t     hello          \\n'\n",
    "a.strip()  # 좌우 여백으로 생각하는 것들 지워주는 역할."
   ]
  },
  {
   "cell_type": "code",
   "execution_count": 70,
   "id": "9df768f6-4846-4017-adae-d920a800153a",
   "metadata": {},
   "outputs": [
    {
     "data": {
      "text/plain": [
       "'hello'"
      ]
     },
     "execution_count": 70,
     "metadata": {},
     "output_type": "execute_result"
    }
   ],
   "source": [
    "a = '!!!!!!!!!!!hello???????????'\n",
    "a.strip('!''?')\n",
    "\n",
    "# def strip(char = ' ')"
   ]
  },
  {
   "cell_type": "code",
   "execution_count": 74,
   "id": "8990bb67-e45c-455b-813f-6158a17cd3c4",
   "metadata": {},
   "outputs": [
    {
     "data": {
      "text/plain": [
       "'hello-----'"
      ]
     },
     "execution_count": 74,
     "metadata": {},
     "output_type": "execute_result"
    }
   ],
   "source": [
    "a = '-----hello-----'\n",
    "a.lstrip('-')"
   ]
  },
  {
   "cell_type": "code",
   "execution_count": 76,
   "id": "e80572d3-ad13-4076-8b9d-312500a874c3",
   "metadata": {},
   "outputs": [
    {
     "data": {
      "text/plain": [
       "'-----hello'"
      ]
     },
     "execution_count": 76,
     "metadata": {},
     "output_type": "execute_result"
    }
   ],
   "source": [
    "a = '-----hello-----'\n",
    "a.rstrip('-')"
   ]
  },
  {
   "cell_type": "code",
   "execution_count": 85,
   "id": "cfe94ecf-e94f-4a28-8f8d-06bd450a8b72",
   "metadata": {},
   "outputs": [
    {
     "data": {
      "text/plain": [
       "'w!!!!!!!!!!oow'"
      ]
     },
     "execution_count": 85,
     "metadata": {},
     "output_type": "execute_result"
    }
   ],
   "source": [
    "a = 'woooooooooooow'\n",
    "a.replace('o', '!', 10)"
   ]
  },
  {
   "cell_type": "code",
   "execution_count": 92,
   "id": "4a9b0ae9-ceb6-400e-b325-b6adaa500567",
   "metadata": {},
   "outputs": [
    {
     "data": {
      "text/plain": [
       "-1"
      ]
     },
     "execution_count": 92,
     "metadata": {},
     "output_type": "execute_result"
    }
   ],
   "source": [
    "a = 'apple'\n",
    "a.find('a') # => 0\n",
    "a.find('l') # => 3\n",
    "a.find('p') # => 1\n",
    "a.find('z') # => -1(없음.)"
   ]
  },
  {
   "cell_type": "code",
   "execution_count": 97,
   "id": "4fc4bc8a-1599-448c-b3b9-a4cf144dee9d",
   "metadata": {},
   "outputs": [
    {
     "ename": "ValueError",
     "evalue": "substring not found",
     "output_type": "error",
     "traceback": [
      "\u001b[1;31m---------------------------------------------------------------------------\u001b[0m",
      "\u001b[1;31mValueError\u001b[0m                                Traceback (most recent call last)",
      "Cell \u001b[1;32mIn[97], line 5\u001b[0m\n\u001b[0;32m      3\u001b[0m a\u001b[38;5;241m.\u001b[39mindex(\u001b[38;5;124m'\u001b[39m\u001b[38;5;124ml\u001b[39m\u001b[38;5;124m'\u001b[39m)\n\u001b[0;32m      4\u001b[0m a\u001b[38;5;241m.\u001b[39mindex(\u001b[38;5;124m'\u001b[39m\u001b[38;5;124mp\u001b[39m\u001b[38;5;124m'\u001b[39m)\n\u001b[1;32m----> 5\u001b[0m \u001b[43ma\u001b[49m\u001b[38;5;241;43m.\u001b[39;49m\u001b[43mindex\u001b[49m\u001b[43m(\u001b[49m\u001b[38;5;124;43m'\u001b[39;49m\u001b[38;5;124;43mx\u001b[39;49m\u001b[38;5;124;43m'\u001b[39;49m\u001b[43m)\u001b[49m\n",
      "\u001b[1;31mValueError\u001b[0m: substring not found"
     ]
    }
   ],
   "source": [
    "a = 'apple'\n",
    "a.index('a')\n",
    "a.index('l')\n",
    "a.index('p')\n",
    "a.index('x')"
   ]
  },
  {
   "cell_type": "code",
   "execution_count": 100,
   "id": "39accb8d-dcad-4a59-a9fd-831e29f83066",
   "metadata": {},
   "outputs": [],
   "source": [
    "# find는 인덱스 위치를 찾아주고 없을 시 -1을 뱉는다. index도 위치를 찾지만, 없을 시 에러발생."
   ]
  },
  {
   "cell_type": "code",
   "execution_count": 247,
   "id": "5649f297-c596-4b33-bc14-72a4ff1730a0",
   "metadata": {},
   "outputs": [
    {
     "data": {
      "text/plain": [
       "['my', 'name', 'is', 'kim']"
      ]
     },
     "execution_count": 247,
     "metadata": {},
     "output_type": "execute_result"
    }
   ],
   "source": [
    "a = 'my name is kim'\n",
    "a.split()  # split 각각의 데이터를 잘라주고, 그 결과를 list로 만들어줌."
   ]
  },
  {
   "cell_type": "code",
   "execution_count": 106,
   "id": "e4dc84d4-07d3-49f5-8f1f-1b188efd4d08",
   "metadata": {},
   "outputs": [
    {
     "data": {
      "text/plain": [
       "['my', 'name', 'is', 'kim']"
      ]
     },
     "execution_count": 106,
     "metadata": {},
     "output_type": "execute_result"
    }
   ],
   "source": [
    "a = 'my!name!is!kim'\n",
    "a.split('!')"
   ]
  },
  {
   "cell_type": "code",
   "execution_count": 108,
   "id": "f6deeb15-8e64-4603-9da5-cee75a2ccc8a",
   "metadata": {},
   "outputs": [
    {
     "data": {
      "text/plain": [
       "['my', 'name', 'is?kim']"
      ]
     },
     "execution_count": 108,
     "metadata": {},
     "output_type": "execute_result"
    }
   ],
   "source": [
    "a = 'my!name!is?kim'\n",
    "a.split('!')"
   ]
  },
  {
   "cell_type": "code",
   "execution_count": 110,
   "id": "6be122b4-5402-4066-be2b-ce34ab1a7fad",
   "metadata": {},
   "outputs": [
    {
     "data": {
      "text/plain": [
       "6"
      ]
     },
     "execution_count": 110,
     "metadata": {},
     "output_type": "execute_result"
    }
   ],
   "source": [
    "a = 'woooooow'\n",
    "a.count('o')"
   ]
  },
  {
   "cell_type": "markdown",
   "id": "ee1fbd4c-30bc-4f04-b537-55d46b3219ea",
   "metadata": {},
   "source": [
    "## 리스트 메소드"
   ]
  },
  {
   "cell_type": "code",
   "execution_count": 113,
   "id": "dccc0baa-84d6-4aa5-8219-25ff4648a0dd",
   "metadata": {},
   "outputs": [],
   "source": [
    "numbers = [2, 3, 4, 5, 6, 7]"
   ]
  },
  {
   "cell_type": "code",
   "execution_count": 153,
   "id": "2073b3da-8e4a-4bc8-baa3-bc3f8b7c3f2f",
   "metadata": {},
   "outputs": [],
   "source": [
    "numbers.append(10)  # 맨 마지막에 데이터를 넣을 때 사용."
   ]
  },
  {
   "cell_type": "code",
   "execution_count": 116,
   "id": "4b1c4d6a-783c-4258-93b9-693d95a93126",
   "metadata": {},
   "outputs": [
    {
     "name": "stdout",
     "output_type": "stream",
     "text": [
      "[2, 3, 4, 5, 6, 7, 10]\n"
     ]
    }
   ],
   "source": [
    "print(numbers)"
   ]
  },
  {
   "cell_type": "code",
   "execution_count": 118,
   "id": "577917e0-a4fd-4386-91eb-d2966babd64d",
   "metadata": {},
   "outputs": [],
   "source": [
    "a = [99, 100]"
   ]
  },
  {
   "cell_type": "code",
   "execution_count": 127,
   "id": "3e004576-c842-4a0f-b32c-cc0133c9486c",
   "metadata": {},
   "outputs": [
    {
     "name": "stdout",
     "output_type": "stream",
     "text": [
      "[2, 3, 4, 5, 6, 7, 10, 99, 100, 99, 100, 99, 100, 99, 100, 99, 100, 99, 100, 99, 100, 99, 100, 99, 100]\n"
     ]
    }
   ],
   "source": [
    "numbers.extend(a)\n",
    "print(numbers)  # 여러 개 데이터 추가.  extend === numbers + a"
   ]
  },
  {
   "cell_type": "code",
   "execution_count": 132,
   "id": "9bab1391-f0d3-4a86-b8fa-4e49b1016f0a",
   "metadata": {},
   "outputs": [
    {
     "name": "stdout",
     "output_type": "stream",
     "text": [
      "[2, 3, 4, 5, 5, 5, 6, 7, 10, 99, 99, 100, 99, 100, 99, 100, 99, 100, 99, 100, 99, 100, 99, 100, 99, 100, 5]\n"
     ]
    }
   ],
   "source": [
    "numbers.insert(3, 5)\n",
    "print(numbers)  # 원하는 공간에 데이터 넣기."
   ]
  },
  {
   "cell_type": "code",
   "execution_count": 144,
   "id": "cb30d022-8de1-4be5-99b9-e086a853c9d2",
   "metadata": {},
   "outputs": [
    {
     "name": "stdout",
     "output_type": "stream",
     "text": [
      "[2, 3, 4, 5, 5, 5, 6, 7, 10, 99, 99, 99, 99, 99, 99, 5]\n"
     ]
    }
   ],
   "source": [
    "# 첫번째 x를 찾아서 제거하고, 없으면 오류.\n",
    "numbers.remove(99)\n",
    "print(numbers)  "
   ]
  },
  {
   "cell_type": "code",
   "execution_count": 152,
   "id": "6c81f878-bcbd-4aa0-91f5-26be6c5d7ea2",
   "metadata": {},
   "outputs": [
    {
     "name": "stdout",
     "output_type": "stream",
     "text": [
      "[2, 3, 4, 5, 5, 5, 6, 7]\n"
     ]
    }
   ],
   "source": [
    "# 맨 마지막 데이터를 제거할 때 사용.\n",
    "numbers.pop()\n",
    "print(numbers)"
   ]
  },
  {
   "cell_type": "code",
   "execution_count": 156,
   "id": "a3302283-128a-4192-a658-044e0442a85c",
   "metadata": {},
   "outputs": [
    {
     "name": "stdout",
     "output_type": "stream",
     "text": [
      "[5, 5, 5, 6, 7, 10]\n"
     ]
    }
   ],
   "source": [
    "numbers.pop(0)  # Q처럼 사용도 가능. pop안에 숫자를 넣어서.\n",
    "print(numbers)"
   ]
  },
  {
   "cell_type": "code",
   "execution_count": 161,
   "id": "9e4d2fce-aff2-41e1-81d2-61f6cf6c4ce9",
   "metadata": {},
   "outputs": [
    {
     "name": "stdout",
     "output_type": "stream",
     "text": [
      "[5, 5, 5, 6, 7, 10]\n"
     ]
    }
   ],
   "source": [
    "numbers.sort()   # 오름차순으로 정렬.\n",
    "print(numbers)"
   ]
  },
  {
   "cell_type": "code",
   "execution_count": 163,
   "id": "76886116-7305-4d1b-b212-9315058dfb55",
   "metadata": {},
   "outputs": [
    {
     "name": "stdout",
     "output_type": "stream",
     "text": [
      "[10, 7, 6, 5, 5, 5]\n"
     ]
    }
   ],
   "source": [
    "numbers.sort(reverse=True)  # 내림차순으로 정렬.\n",
    "print(numbers)"
   ]
  },
  {
   "cell_type": "code",
   "execution_count": 168,
   "id": "2e81f512-389e-4d00-9382-547fe9c7010d",
   "metadata": {},
   "outputs": [
    {
     "name": "stdout",
     "output_type": "stream",
     "text": [
      "[1, 2, 3, 5, 7, 8]\n",
      "[5, 3, 2, 7, 8, 1]\n"
     ]
    }
   ],
   "source": [
    "a = [5, 3, 2, 7, 8, 1]\n",
    "print(sorted(a))  \n",
    "print(a)  # sorted는 원본을 바꾸는 차이점 있다. "
   ]
  },
  {
   "cell_type": "code",
   "execution_count": 176,
   "id": "037ee1d3-97b5-4896-9016-8758357882fb",
   "metadata": {},
   "outputs": [
    {
     "name": "stdout",
     "output_type": "stream",
     "text": [
      "['a', 'o', 'z', '나', '수']\n"
     ]
    }
   ],
   "source": [
    "my_list = ['a', '수', 'o', '나', 'z']\n",
    "my_list.sort()\n",
    "print(my_list)  # 글자도 유니코드 순서로 정렬 가능."
   ]
  },
  {
   "cell_type": "code",
   "execution_count": 179,
   "id": "1f177324-cd59-42da-b10c-b229b0786a30",
   "metadata": {},
   "outputs": [
    {
     "name": "stdout",
     "output_type": "stream",
     "text": [
      "[10, 7, 6, 5, 5, 5]\n",
      "[5, 5, 5, 6, 7, 10]\n"
     ]
    }
   ],
   "source": [
    "print(numbers)\n",
    "numbers.reverse()\n",
    "print(numbers)"
   ]
  },
  {
   "cell_type": "code",
   "execution_count": 184,
   "id": "0b6a8102-8a34-4fc2-9501-3e35c6b911f2",
   "metadata": {},
   "outputs": [
    {
     "data": {
      "text/plain": [
       "3"
      ]
     },
     "execution_count": 184,
     "metadata": {},
     "output_type": "execute_result"
    }
   ],
   "source": [
    "numbers.count(5)"
   ]
  },
  {
   "cell_type": "markdown",
   "id": "094353d7-f21f-4ea5-bee1-9b4c5c46df0d",
   "metadata": {},
   "source": [
    "### list copy"
   ]
  },
  {
   "cell_type": "code",
   "execution_count": 186,
   "id": "37384036-1778-4409-b892-37d29e50e7b4",
   "metadata": {},
   "outputs": [],
   "source": [
    "origin_list = [1, 2, 3]\n",
    "copy_list = origin_list"
   ]
  },
  {
   "cell_type": "code",
   "execution_count": 188,
   "id": "1fd12a3f-718d-4abc-9a95-12780a334170",
   "metadata": {},
   "outputs": [
    {
     "name": "stdout",
     "output_type": "stream",
     "text": [
      "[1, 2, 3]\n",
      "[1, 2, 3]\n"
     ]
    }
   ],
   "source": [
    "print(origin_list)\n",
    "print(copy_list)"
   ]
  },
  {
   "cell_type": "code",
   "execution_count": 189,
   "id": "5fed7640-4fce-462e-ba12-5f1dc9c4d38c",
   "metadata": {},
   "outputs": [
    {
     "name": "stdout",
     "output_type": "stream",
     "text": [
      "[100, 2, 3]\n",
      "[100, 2, 3]\n"
     ]
    }
   ],
   "source": [
    "copy_list[0] = 100\n",
    "print(origin_list)\n",
    "print(copy_list)"
   ]
  },
  {
   "cell_type": "code",
   "execution_count": 190,
   "id": "15ef3fa4-2204-47ef-960f-9aa3ab7a5c54",
   "metadata": {},
   "outputs": [
    {
     "name": "stdout",
     "output_type": "stream",
     "text": [
      "[1, 2, 3]\n",
      "[100, 2, 3]\n"
     ]
    }
   ],
   "source": [
    "origin_list = [1, 2, 3]\n",
    "copy_list = origin_list[:]\n",
    "\n",
    "copy_list[0] = 100\n",
    "\n",
    "print(origin_list)\n",
    "print(copy_list) "
   ]
  },
  {
   "cell_type": "code",
   "execution_count": 191,
   "id": "ecbc1dc6-101f-4a81-a774-1a34548c5db3",
   "metadata": {},
   "outputs": [
    {
     "name": "stdout",
     "output_type": "stream",
     "text": [
      "[1, 2, [-10, 11]]\n",
      "[100, 2, [-10, 11]]\n"
     ]
    }
   ],
   "source": [
    "o_l = [1, 2, [10, 11]]\n",
    "c_l = o_l[:] \n",
    "\n",
    "c_l [0] = 100\n",
    "c_l [2][0] = -10\n",
    "\n",
    "print(o_l)\n",
    "print(c_l)\n"
   ]
  },
  {
   "cell_type": "code",
   "execution_count": 193,
   "id": "3f8c975f-e5f3-4353-8156-93b7fb1058dd",
   "metadata": {},
   "outputs": [
    {
     "name": "stdout",
     "output_type": "stream",
     "text": [
      "[1, 2, [10, 11]]\n",
      "[100, 2, [10, -11]]\n"
     ]
    }
   ],
   "source": [
    "import copy  \n",
    "o_l = [1, 2, [10, 11]]\n",
    "c_l = copy.deepcopy(o_l)\n",
    "\n",
    "c_l[0] = 100\n",
    "c_l[2][1] = -11\n",
    "\n",
    "print(o_l)\n",
    "print(c_l)"
   ]
  },
  {
   "cell_type": "markdown",
   "id": "19c4feb2-72e9-4c45-8564-1233e3f81f75",
   "metadata": {},
   "source": [
    "## list comprehension"
   ]
  },
  {
   "cell_type": "code",
   "execution_count": 195,
   "id": "7b39865c-3f9e-495c-882d-bf151ce5913b",
   "metadata": {},
   "outputs": [
    {
     "name": "stdout",
     "output_type": "stream",
     "text": [
      "[1, 2, 3, 4, 5, 6, 7, 8, 9, 10]\n"
     ]
    }
   ],
   "source": [
    "numbers = list(range(1, 11))\n",
    "print(numbers)"
   ]
  },
  {
   "cell_type": "code",
   "execution_count": 198,
   "id": "308bb694-b586-4987-b11e-d7c2b2cb0546",
   "metadata": {},
   "outputs": [
    {
     "name": "stdout",
     "output_type": "stream",
     "text": [
      "[1, 8, 27, 64, 125, 216, 343, 512, 729, 1000]\n"
     ]
    }
   ],
   "source": [
    "result = []\n",
    "\n",
    "for number in numbers:   # -> 반복 작업.\n",
    "    temp = number ** 3   # -> **:제곱\n",
    "    result.append(temp)\n",
    "\n",
    "print(result)"
   ]
  },
  {
   "cell_type": "code",
   "execution_count": 204,
   "id": "ae0e3e65-f48a-441d-a444-d1fc99fdb1d8",
   "metadata": {},
   "outputs": [
    {
     "name": "stdout",
     "output_type": "stream",
     "text": [
      "[1, 8, 27, 64, 125, 216, 343, 512, 729, 1000]\n"
     ]
    }
   ],
   "source": [
    "result = [number ** 3 for number in numbers] \n",
    "# result = [number1 ** 3, number2 ** 3, number3 ** 3]\n",
    "print(result)"
   ]
  },
  {
   "cell_type": "code",
   "execution_count": 208,
   "id": "cd1e31c2-05bd-4bdd-b473-067f2ab9751d",
   "metadata": {},
   "outputs": [
    {
     "name": "stdout",
     "output_type": "stream",
     "text": [
      "[2, 4, 6, 8, 10, 12, 14, 16, 18, 20, 22, 24, 26, 28, 30]\n"
     ]
    }
   ],
   "source": [
    "# 짝수만 고르기\n",
    "numbers = list(range(1, 31))\n",
    "\n",
    "result = []\n",
    "for number in numbers:\n",
    "    if number % 2 == 0:\n",
    "        result.append(number)\n",
    "\n",
    "print(result)"
   ]
  },
  {
   "cell_type": "code",
   "execution_count": 212,
   "id": "726cd9e8-d790-49ce-a994-96db91d275e0",
   "metadata": {},
   "outputs": [
    {
     "name": "stdout",
     "output_type": "stream",
     "text": [
      "[2, 4, 6, 8, 10, 12, 14, 16, 18, 20, 22, 24, 26, 28, 30]\n"
     ]
    }
   ],
   "source": [
    "numbers = list(range(1, 31))\n",
    "result = [number for number in numbers if number % 2 == 0]\n",
    "print(result)"
   ]
  },
  {
   "cell_type": "code",
   "execution_count": 215,
   "id": "c043627b-569b-41fa-a295-b0db21babb55",
   "metadata": {},
   "outputs": [
    {
     "name": "stdout",
     "output_type": "stream",
     "text": [
      "[4, 8, 12, 16, 20, 24, 28, 32, 36, 40, 44, 48, 52, 56, 60]\n"
     ]
    }
   ],
   "source": [
    "numbers = list(range(1, 31))\n",
    "result = [number * 2 for number in numbers if number % 2 == 0]  # -> 최종적으로 보여주고 싶은 것은 number\n",
    "print(result)"
   ]
  },
  {
   "cell_type": "code",
   "execution_count": 216,
   "id": "ca9ac022-8e9e-437f-be13-d70f92f4df02",
   "metadata": {},
   "outputs": [],
   "source": [
    "# 연습! 모음제거\n",
    "words = 'my name is hong'\n",
    "\n",
    "# => my nm s hng "
   ]
  },
  {
   "cell_type": "code",
   "execution_count": 254,
   "id": "6a63944c-3717-4150-8a44-9c004ccebdc5",
   "metadata": {},
   "outputs": [
    {
     "name": "stdout",
     "output_type": "stream",
     "text": [
      "['m', 'y', ' ', 'n', 'm', ' ', 's', ' ', 'h', 'n', 'g']\n",
      "my nm s hng\n"
     ]
    }
   ],
   "source": [
    "# 1. for / if -- 강사님 풀이(자음을 선택하는 방식)\n",
    "\n",
    "vowels = ['a', 'e', 'i', 'o', 'u']\n",
    "result = []\n",
    "\n",
    "for char in words:\n",
    "    if char in vowels: # ---> 캐릭터가 모음 목록에 있다면\n",
    "        pass\n",
    "    else:\n",
    "        result.append(char)  # ---> 자음인 경우\n",
    "\n",
    "print(result)\n",
    "print(''.join(result))"
   ]
  },
  {
   "cell_type": "code",
   "execution_count": 259,
   "id": "570086be-9ac1-4bdc-9869-f910edf7da8c",
   "metadata": {},
   "outputs": [
    {
     "name": "stdout",
     "output_type": "stream",
     "text": [
      "['m', 'y', ' ', 'n', 'm', ' ', 's', ' ', 'h', 'n', 'g']\n",
      "my nm s hng\n"
     ]
    }
   ],
   "source": [
    "# 강사님 풀이2(모음을 선택하는 방식)\n",
    "\n",
    "vowels = ['a', 'e', 'i', 'o', 'u']\n",
    "result = []\n",
    "\n",
    "for char in words:\n",
    "    if char not in vowels: # ---> 캐릭터가 모음 목록에 없다면\n",
    "        result.append(char)\n",
    "    # else:\n",
    "        # result.append(char)  # ---> 자음인 경우\n",
    "\n",
    "print(result)\n",
    "print(''.join(result))"
   ]
  },
  {
   "cell_type": "code",
   "execution_count": 261,
   "id": "94124e22-0403-4ead-9c78-41892be4b545",
   "metadata": {},
   "outputs": [
    {
     "name": "stdout",
     "output_type": "stream",
     "text": [
      "['m', 'y', ' ', 'n', 'm', ' ', 's', ' ', 'h', 'n', 'g']\n",
      "my nm s hng\n"
     ]
    }
   ],
   "source": [
    "# 강사님 풀이3(조금 더 간편하게)\n",
    "# vowels = ['a', 'e', 'i', 'o', 'u']\n",
    "\n",
    "vowels = 'aeiou' # --- 위의 나열과 똑같음.\n",
    "result = []\n",
    "\n",
    "for char in words:\n",
    "    if char not in 'aeiou': # ---> 캐릭터가 모음 목록에 없다면\n",
    "        result.append(char)\n",
    "    # else:\n",
    "        # result.append(char)  # ---> 자음인 경우\n",
    "\n",
    "print(result)\n",
    "print(''.join(result))"
   ]
  },
  {
   "cell_type": "code",
   "execution_count": 258,
   "id": "499c0c80-90a3-4ff6-bb7c-28d127c72e2c",
   "metadata": {},
   "outputs": [
    {
     "ename": "SyntaxError",
     "evalue": "invalid syntax (3886525803.py, line 6)",
     "output_type": "error",
     "traceback": [
      "\u001b[1;36m  Cell \u001b[1;32mIn[258], line 6\u001b[1;36m\u001b[0m\n\u001b[1;33m    if numbers ==\u001b[0m\n\u001b[1;37m                  ^\u001b[0m\n\u001b[1;31mSyntaxError\u001b[0m\u001b[1;31m:\u001b[0m invalid syntax\n"
     ]
    }
   ],
   "source": [
    "# 1. 내 풀이 ----- 자음을 남기는 방법, 모음을 없애는 방법....\n",
    "result = []  # --- 공간을 만드는 형식\n",
    "words = 'my name is hong'\n",
    "\n",
    "for number in numbers:\n",
    "    if numbers == \n",
    "    result.remove('consonant')\n",
    "\n",
    "print(result)"
   ]
  },
  {
   "cell_type": "code",
   "execution_count": 267,
   "id": "58f963d7-bbb9-46a3-b72e-ea62e087c335",
   "metadata": {},
   "outputs": [
    {
     "name": "stdout",
     "output_type": "stream",
     "text": [
      "<class 'list'>\n",
      "my nm s hng\n"
     ]
    }
   ],
   "source": [
    "# 2. list comprehension --- 강사님 풀이\n",
    "\n",
    "vowels = 'aeiou'\n",
    "result = [char for char in words if char not in vowels]\n",
    "print(list)\n",
    "print(''.join(result))"
   ]
  },
  {
   "cell_type": "code",
   "execution_count": 266,
   "id": "df21159b-01c8-46c6-a050-cc6f297ac0f1",
   "metadata": {},
   "outputs": [
    {
     "ename": "SyntaxError",
     "evalue": "invalid syntax (2931435440.py, line 3)",
     "output_type": "error",
     "traceback": [
      "\u001b[1;36m  Cell \u001b[1;32mIn[266], line 3\u001b[1;36m\u001b[0m\n\u001b[1;33m    result = [number for number in numbers result.remove(consonant)]\u001b[0m\n\u001b[1;37m                                           ^\u001b[0m\n\u001b[1;31mSyntaxError\u001b[0m\u001b[1;31m:\u001b[0m invalid syntax\n"
     ]
    }
   ],
   "source": [
    "# 2. 내 풀이\n",
    "numbers = list(range('my', 'name', 'is', 'hong'))\n",
    "result = [number for number in numbers result.remove(consonant)]\n",
    "print(result)"
   ]
  },
  {
   "cell_type": "code",
   "execution_count": 279,
   "id": "d80738e7-3d14-4714-8504-c606fff70bfb",
   "metadata": {},
   "outputs": [
    {
     "name": "stdout",
     "output_type": "stream",
     "text": [
      "my nm s hng\n"
     ]
    }
   ],
   "source": [
    "# 3. replace 메소드 -- 원본 덮어씌우기를 하면서 하겠다.\n",
    "vowels = 'aeiou'\n",
    "\n",
    "for char in vowels:\n",
    "    words = words.replace(char, '')\n",
    "\n",
    "print(words)"
   ]
  },
  {
   "cell_type": "code",
   "execution_count": null,
   "id": "4917fe3e-b1b7-4152-aa02-98811225b7c3",
   "metadata": {},
   "outputs": [],
   "source": []
  }
 ],
 "metadata": {
  "kernelspec": {
   "display_name": "Python 3 (ipykernel)",
   "language": "python",
   "name": "python3"
  },
  "language_info": {
   "codemirror_mode": {
    "name": "ipython",
    "version": 3
   },
   "file_extension": ".py",
   "mimetype": "text/x-python",
   "name": "python",
   "nbconvert_exporter": "python",
   "pygments_lexer": "ipython3",
   "version": "3.13.2"
  }
 },
 "nbformat": 4,
 "nbformat_minor": 5
}
