{
 "cells": [
  {
   "cell_type": "markdown",
   "id": "adb1cf5e-0053-46ad-9b2a-199794e98e5f",
   "metadata": {},
   "source": [
    "# 자료구조\n",
    "> 여러가지 자료구조가 가지고 있는 메소드(함수) 알아보기"
   ]
  },
  {
   "cell_type": "code",
   "execution_count": 2,
   "id": "c4c35af5-b6e9-4a64-a772-b98b5d18c8f1",
   "metadata": {},
   "outputs": [
    {
     "name": "stdout",
     "output_type": "stream",
     "text": [
      "['__add__', '__class__', '__contains__', '__delattr__', '__dir__', '__doc__', '__eq__', '__format__', '__ge__', '__getattribute__', '__getitem__', '__getnewargs__', '__getstate__', '__gt__', '__hash__', '__init__', '__init_subclass__', '__iter__', '__le__', '__len__', '__lt__', '__mod__', '__mul__', '__ne__', '__new__', '__reduce__', '__reduce_ex__', '__repr__', '__rmod__', '__rmul__', '__setattr__', '__sizeof__', '__str__', '__subclasshook__', 'capitalize', 'casefold', 'center', 'count', 'encode', 'endswith', 'expandtabs', 'find', 'format', 'format_map', 'index', 'isalnum', 'isalpha', 'isascii', 'isdecimal', 'isdigit', 'isidentifier', 'islower', 'isnumeric', 'isprintable', 'isspace', 'istitle', 'isupper', 'join', 'ljust', 'lower', 'lstrip', 'maketrans', 'partition', 'removeprefix', 'removesuffix', 'replace', 'rfind', 'rindex', 'rjust', 'rpartition', 'rsplit', 'rstrip', 'split', 'splitlines', 'startswith', 'strip', 'swapcase', 'title', 'translate', 'upper', 'zfill']\n"
     ]
    }
   ],
   "source": [
    "print(dir('hello'))"
   ]
  },
  {
   "cell_type": "markdown",
   "id": "a15fa23a-5703-401d-9a7d-115ead92bdad",
   "metadata": {},
   "source": [
    "### 문자열 메소드"
   ]
  },
  {
   "cell_type": "code",
   "execution_count": 4,
   "id": "3b1b3d6e-7a70-43a2-9824-07a6a4e2c014",
   "metadata": {},
   "outputs": [],
   "source": [
    "a = 'hello my name is hong'"
   ]
  },
  {
   "cell_type": "code",
   "execution_count": 7,
   "id": "d9d30d3e-b516-42fb-a9d4-de0c9aa1bcf1",
   "metadata": {},
   "outputs": [
    {
     "name": "stdout",
     "output_type": "stream",
     "text": [
      "hello my name is hong\n"
     ]
    }
   ],
   "source": [
    "print(a)"
   ]
  },
  {
   "cell_type": "code",
   "execution_count": 248,
   "id": "3cf2a831-6aa0-4a1e-aaca-6b30816df841",
   "metadata": {},
   "outputs": [
    {
     "ename": "TypeError",
     "evalue": "'str' object does not support item assignment",
     "output_type": "error",
     "traceback": [
      "\u001b[1;31m---------------------------------------------------------------------------\u001b[0m",
      "\u001b[1;31mTypeError\u001b[0m                                 Traceback (most recent call last)",
      "Cell \u001b[1;32mIn[248], line 1\u001b[0m\n\u001b[1;32m----> 1\u001b[0m \u001b[43ma\u001b[49m\u001b[43m[\u001b[49m\u001b[38;5;241;43m0\u001b[39;49m\u001b[43m]\u001b[49m \u001b[38;5;241m=\u001b[39m \u001b[38;5;124m'\u001b[39m\u001b[38;5;124mH\u001b[39m\u001b[38;5;124m'\u001b[39m   \u001b[38;5;66;03m# str 수정불가능, 재할당 해야함\u001b[39;00m\n",
      "\u001b[1;31mTypeError\u001b[0m: 'str' object does not support item assignment"
     ]
    }
   ],
   "source": [
    "a[0] = 'H'   # str 수정불가능, 재할당 해야함"
   ]
  },
  {
   "cell_type": "code",
   "execution_count": 15,
   "id": "967489a7-ea4f-4ef4-84f0-9c021f332176",
   "metadata": {},
   "outputs": [
    {
     "data": {
      "text/plain": [
       "'Hello my name is hong'"
      ]
     },
     "execution_count": 15,
     "metadata": {},
     "output_type": "execute_result"
    }
   ],
   "source": [
    "a.capitalize()"
   ]
  },
  {
   "cell_type": "code",
   "execution_count": 17,
   "id": "b46f6e3d-5534-486e-9899-27ee54465e8d",
   "metadata": {},
   "outputs": [],
   "source": [
    "b = 'what do you want to eat for lunch?'"
   ]
  },
  {
   "cell_type": "code",
   "execution_count": 18,
   "id": "bab771e2-8f71-44e4-b98f-5b65d01f2260",
   "metadata": {},
   "outputs": [
    {
     "name": "stdout",
     "output_type": "stream",
     "text": [
      "what do you want to eat for lunch?\n"
     ]
    }
   ],
   "source": [
    "print(b)"
   ]
  },
  {
   "cell_type": "code",
   "execution_count": 20,
   "id": "747435e1-271e-4b25-8b56-181d98eecb58",
   "metadata": {},
   "outputs": [
    {
     "ename": "TypeError",
     "evalue": "'str' object does not support item assignment",
     "output_type": "error",
     "traceback": [
      "\u001b[1;31m---------------------------------------------------------------------------\u001b[0m",
      "\u001b[1;31mTypeError\u001b[0m                                 Traceback (most recent call last)",
      "Cell \u001b[1;32mIn[20], line 1\u001b[0m\n\u001b[1;32m----> 1\u001b[0m \u001b[43mb\u001b[49m\u001b[43m[\u001b[49m\u001b[38;5;241;43m0\u001b[39;49m\u001b[43m]\u001b[49m \u001b[38;5;241m=\u001b[39m \u001b[38;5;124m'\u001b[39m\u001b[38;5;124mW\u001b[39m\u001b[38;5;124m'\u001b[39m\n",
      "\u001b[1;31mTypeError\u001b[0m: 'str' object does not support item assignment"
     ]
    }
   ],
   "source": [
    "b[0] = 'W'"
   ]
  },
  {
   "cell_type": "code",
   "execution_count": 31,
   "id": "1d15bc00-2c9b-43ea-a5c2-e674667a0e4e",
   "metadata": {},
   "outputs": [],
   "source": [
    "b= b.capitalize()  # return이 출력된거, print(()) 형태로 데이터로 저장. or b = b.()형태."
   ]
  },
  {
   "cell_type": "code",
   "execution_count": 32,
   "id": "4f865d54-9171-47a1-bebe-393da46bde06",
   "metadata": {},
   "outputs": [
    {
     "name": "stdout",
     "output_type": "stream",
     "text": [
      "What do you want to eat for lunch?\n"
     ]
    }
   ],
   "source": [
    "print(b)"
   ]
  },
  {
   "cell_type": "code",
   "execution_count": 35,
   "id": "94ccfcb4-2fb9-4242-9ff1-df4510d36fec",
   "metadata": {},
   "outputs": [
    {
     "data": {
      "text/plain": [
       "'Hello My Name Is Hong'"
      ]
     },
     "execution_count": 35,
     "metadata": {},
     "output_type": "execute_result"
    }
   ],
   "source": [
    "a.title()  # 단어 맨 첫번째 대문자."
   ]
  },
  {
   "cell_type": "code",
   "execution_count": 37,
   "id": "98d49848-afdd-4da7-9059-88c2f3dd1a17",
   "metadata": {},
   "outputs": [
    {
     "data": {
      "text/plain": [
       "'hello my name is hong'"
      ]
     },
     "execution_count": 37,
     "metadata": {},
     "output_type": "execute_result"
    }
   ],
   "source": [
    "a.lower()  # 전부 소문자."
   ]
  },
  {
   "cell_type": "code",
   "execution_count": 39,
   "id": "6a51d457-cd68-4639-aaa1-74caeff1dc12",
   "metadata": {},
   "outputs": [
    {
     "data": {
      "text/plain": [
       "'HELLO MY NAME IS HONG'"
      ]
     },
     "execution_count": 39,
     "metadata": {},
     "output_type": "execute_result"
    }
   ],
   "source": [
    "a.upper() # 전부 대문자."
   ]
  },
  {
   "cell_type": "code",
   "execution_count": 46,
   "id": "d142f2ad-b950-43af-a776-66cdf0fcd7d9",
   "metadata": {},
   "outputs": [
    {
     "data": {
      "text/plain": [
       "'my!name!is'"
      ]
     },
     "execution_count": 46,
     "metadata": {},
     "output_type": "execute_result"
    }
   ],
   "source": [
    "my_list = ['my', 'name', 'is']\n",
    "'!'.join(my_list)"
   ]
  },
  {
   "cell_type": "code",
   "execution_count": 51,
   "id": "eb5552eb-88be-4c67-9d33-4061dddfd5d3",
   "metadata": {},
   "outputs": [
    {
     "data": {
      "text/plain": [
       "'배?고?프?다'"
      ]
     },
     "execution_count": 51,
     "metadata": {},
     "output_type": "execute_result"
    }
   ],
   "source": [
    "'?'.join('배고프다')  "
   ]
  },
  {
   "cell_type": "code",
   "execution_count": 58,
   "id": "12c97807-6f7a-4ef0-9b18-3c50ab2f923a",
   "metadata": {},
   "outputs": [
    {
     "name": "stdout",
     "output_type": "stream",
     "text": [
      "          hello          \n",
      "\n"
     ]
    }
   ],
   "source": [
    "a = '          hello          \\n'\n",
    "print(a)"
   ]
  },
  {
   "cell_type": "code",
   "execution_count": 59,
   "id": "19ff5dbe-82e2-4eb0-88d7-42e2ec929448",
   "metadata": {},
   "outputs": [
    {
     "name": "stdout",
     "output_type": "stream",
     "text": [
      "26\n"
     ]
    }
   ],
   "source": [
    "a = '          hello          \\n'\n",
    "print(len(a))"
   ]
  },
  {
   "cell_type": "code",
   "execution_count": 61,
   "id": "cc990266-a680-4974-9742-9094073528e5",
   "metadata": {},
   "outputs": [
    {
     "data": {
      "text/plain": [
       "'hello'"
      ]
     },
     "execution_count": 61,
     "metadata": {},
     "output_type": "execute_result"
    }
   ],
   "source": [
    "a = '     \\t     hello          \\n'\n",
    "a.strip()  # 좌우 여백으로 생각하는 것들 지워주는 역할."
   ]
  },
  {
   "cell_type": "code",
   "execution_count": 70,
   "id": "9df768f6-4846-4017-adae-d920a800153a",
   "metadata": {},
   "outputs": [
    {
     "data": {
      "text/plain": [
       "'hello'"
      ]
     },
     "execution_count": 70,
     "metadata": {},
     "output_type": "execute_result"
    }
   ],
   "source": [
    "a = '!!!!!!!!!!!hello???????????'\n",
    "a.strip('!''?')\n",
    "\n",
    "# def strip(char = ' ')"
   ]
  },
  {
   "cell_type": "code",
   "execution_count": 74,
   "id": "8990bb67-e45c-455b-813f-6158a17cd3c4",
   "metadata": {},
   "outputs": [
    {
     "data": {
      "text/plain": [
       "'hello-----'"
      ]
     },
     "execution_count": 74,
     "metadata": {},
     "output_type": "execute_result"
    }
   ],
   "source": [
    "a = '-----hello-----'\n",
    "a.lstrip('-')"
   ]
  },
  {
   "cell_type": "code",
   "execution_count": 76,
   "id": "e80572d3-ad13-4076-8b9d-312500a874c3",
   "metadata": {},
   "outputs": [
    {
     "data": {
      "text/plain": [
       "'-----hello'"
      ]
     },
     "execution_count": 76,
     "metadata": {},
     "output_type": "execute_result"
    }
   ],
   "source": [
    "a = '-----hello-----'\n",
    "a.rstrip('-')"
   ]
  },
  {
   "cell_type": "code",
   "execution_count": 85,
   "id": "cfe94ecf-e94f-4a28-8f8d-06bd450a8b72",
   "metadata": {},
   "outputs": [
    {
     "data": {
      "text/plain": [
       "'w!!!!!!!!!!oow'"
      ]
     },
     "execution_count": 85,
     "metadata": {},
     "output_type": "execute_result"
    }
   ],
   "source": [
    "a = 'woooooooooooow'\n",
    "a.replace('o', '!', 10)"
   ]
  },
  {
   "cell_type": "code",
   "execution_count": 92,
   "id": "4a9b0ae9-ceb6-400e-b325-b6adaa500567",
   "metadata": {},
   "outputs": [
    {
     "data": {
      "text/plain": [
       "-1"
      ]
     },
     "execution_count": 92,
     "metadata": {},
     "output_type": "execute_result"
    }
   ],
   "source": [
    "a = 'apple'\n",
    "a.find('a') # => 0\n",
    "a.find('l') # => 3\n",
    "a.find('p') # => 1\n",
    "a.find('z') # => -1(없음.)"
   ]
  },
  {
   "cell_type": "code",
   "execution_count": 97,
   "id": "4fc4bc8a-1599-448c-b3b9-a4cf144dee9d",
   "metadata": {},
   "outputs": [
    {
     "ename": "ValueError",
     "evalue": "substring not found",
     "output_type": "error",
     "traceback": [
      "\u001b[1;31m---------------------------------------------------------------------------\u001b[0m",
      "\u001b[1;31mValueError\u001b[0m                                Traceback (most recent call last)",
      "Cell \u001b[1;32mIn[97], line 5\u001b[0m\n\u001b[0;32m      3\u001b[0m a\u001b[38;5;241m.\u001b[39mindex(\u001b[38;5;124m'\u001b[39m\u001b[38;5;124ml\u001b[39m\u001b[38;5;124m'\u001b[39m)\n\u001b[0;32m      4\u001b[0m a\u001b[38;5;241m.\u001b[39mindex(\u001b[38;5;124m'\u001b[39m\u001b[38;5;124mp\u001b[39m\u001b[38;5;124m'\u001b[39m)\n\u001b[1;32m----> 5\u001b[0m \u001b[43ma\u001b[49m\u001b[38;5;241;43m.\u001b[39;49m\u001b[43mindex\u001b[49m\u001b[43m(\u001b[49m\u001b[38;5;124;43m'\u001b[39;49m\u001b[38;5;124;43mx\u001b[39;49m\u001b[38;5;124;43m'\u001b[39;49m\u001b[43m)\u001b[49m\n",
      "\u001b[1;31mValueError\u001b[0m: substring not found"
     ]
    }
   ],
   "source": [
    "a = 'apple'\n",
    "a.index('a')\n",
    "a.index('l')\n",
    "a.index('p')\n",
    "a.index('x')"
   ]
  },
  {
   "cell_type": "code",
   "execution_count": 100,
   "id": "39accb8d-dcad-4a59-a9fd-831e29f83066",
   "metadata": {},
   "outputs": [],
   "source": [
    "# find는 인덱스 위치를 찾아주고 없을 시 -1을 뱉는다. index도 위치를 찾지만, 없을 시 에러발생."
   ]
  },
  {
   "cell_type": "code",
   "execution_count": 247,
   "id": "5649f297-c596-4b33-bc14-72a4ff1730a0",
   "metadata": {},
   "outputs": [
    {
     "data": {
      "text/plain": [
       "['my', 'name', 'is', 'kim']"
      ]
     },
     "execution_count": 247,
     "metadata": {},
     "output_type": "execute_result"
    }
   ],
   "source": [
    "a = 'my name is kim'\n",
    "a.split()  # split 각각의 데이터를 잘라주고, 그 결과를 list로 만들어줌."
   ]
  },
  {
   "cell_type": "code",
   "execution_count": 106,
   "id": "e4dc84d4-07d3-49f5-8f1f-1b188efd4d08",
   "metadata": {},
   "outputs": [
    {
     "data": {
      "text/plain": [
       "['my', 'name', 'is', 'kim']"
      ]
     },
     "execution_count": 106,
     "metadata": {},
     "output_type": "execute_result"
    }
   ],
   "source": [
    "a = 'my!name!is!kim'\n",
    "a.split('!')"
   ]
  },
  {
   "cell_type": "code",
   "execution_count": 108,
   "id": "f6deeb15-8e64-4603-9da5-cee75a2ccc8a",
   "metadata": {},
   "outputs": [
    {
     "data": {
      "text/plain": [
       "['my', 'name', 'is?kim']"
      ]
     },
     "execution_count": 108,
     "metadata": {},
     "output_type": "execute_result"
    }
   ],
   "source": [
    "a = 'my!name!is?kim'\n",
    "a.split('!')"
   ]
  },
  {
   "cell_type": "code",
   "execution_count": 110,
   "id": "6be122b4-5402-4066-be2b-ce34ab1a7fad",
   "metadata": {},
   "outputs": [
    {
     "data": {
      "text/plain": [
       "6"
      ]
     },
     "execution_count": 110,
     "metadata": {},
     "output_type": "execute_result"
    }
   ],
   "source": [
    "a = 'woooooow'\n",
    "a.count('o')"
   ]
  },
  {
   "cell_type": "markdown",
   "id": "ee1fbd4c-30bc-4f04-b537-55d46b3219ea",
   "metadata": {},
   "source": [
    "## 리스트 메소드"
   ]
  },
  {
   "cell_type": "code",
   "execution_count": 113,
   "id": "dccc0baa-84d6-4aa5-8219-25ff4648a0dd",
   "metadata": {},
   "outputs": [],
   "source": [
    "numbers = [2, 3, 4, 5, 6, 7]"
   ]
  },
  {
   "cell_type": "code",
   "execution_count": 153,
   "id": "2073b3da-8e4a-4bc8-baa3-bc3f8b7c3f2f",
   "metadata": {},
   "outputs": [],
   "source": [
    "numbers.append(10)  # 맨 마지막에 데이터를 넣을 때 사용."
   ]
  },
  {
   "cell_type": "code",
   "execution_count": 116,
   "id": "4b1c4d6a-783c-4258-93b9-693d95a93126",
   "metadata": {},
   "outputs": [
    {
     "name": "stdout",
     "output_type": "stream",
     "text": [
      "[2, 3, 4, 5, 6, 7, 10]\n"
     ]
    }
   ],
   "source": [
    "print(numbers)"
   ]
  },
  {
   "cell_type": "code",
   "execution_count": 118,
   "id": "577917e0-a4fd-4386-91eb-d2966babd64d",
   "metadata": {},
   "outputs": [],
   "source": [
    "a = [99, 100]"
   ]
  },
  {
   "cell_type": "code",
   "execution_count": 127,
   "id": "3e004576-c842-4a0f-b32c-cc0133c9486c",
   "metadata": {},
   "outputs": [
    {
     "name": "stdout",
     "output_type": "stream",
     "text": [
      "[2, 3, 4, 5, 6, 7, 10, 99, 100, 99, 100, 99, 100, 99, 100, 99, 100, 99, 100, 99, 100, 99, 100, 99, 100]\n"
     ]
    }
   ],
   "source": [
    "numbers.extend(a)\n",
    "print(numbers)  # 여러 개 데이터 추가.  extend === numbers + a"
   ]
  },
  {
   "cell_type": "code",
   "execution_count": 132,
   "id": "9bab1391-f0d3-4a86-b8fa-4e49b1016f0a",
   "metadata": {},
   "outputs": [
    {
     "name": "stdout",
     "output_type": "stream",
     "text": [
      "[2, 3, 4, 5, 5, 5, 6, 7, 10, 99, 99, 100, 99, 100, 99, 100, 99, 100, 99, 100, 99, 100, 99, 100, 99, 100, 5]\n"
     ]
    }
   ],
   "source": [
    "numbers.insert(3, 5)\n",
    "print(numbers)  # 원하는 공간에 데이터 넣기."
   ]
  },
  {
   "cell_type": "code",
   "execution_count": 144,
   "id": "cb30d022-8de1-4be5-99b9-e086a853c9d2",
   "metadata": {},
   "outputs": [
    {
     "name": "stdout",
     "output_type": "stream",
     "text": [
      "[2, 3, 4, 5, 5, 5, 6, 7, 10, 99, 99, 99, 99, 99, 99, 5]\n"
     ]
    }
   ],
   "source": [
    "# 첫번째 x를 찾아서 제거하고, 없으면 오류.\n",
    "numbers.remove(99)\n",
    "print(numbers)  "
   ]
  },
  {
   "cell_type": "code",
   "execution_count": 152,
   "id": "6c81f878-bcbd-4aa0-91f5-26be6c5d7ea2",
   "metadata": {},
   "outputs": [
    {
     "name": "stdout",
     "output_type": "stream",
     "text": [
      "[2, 3, 4, 5, 5, 5, 6, 7]\n"
     ]
    }
   ],
   "source": [
    "# 맨 마지막 데이터를 제거할 때 사용.\n",
    "numbers.pop()\n",
    "print(numbers)"
   ]
  },
  {
   "cell_type": "code",
   "execution_count": 156,
   "id": "a3302283-128a-4192-a658-044e0442a85c",
   "metadata": {},
   "outputs": [
    {
     "name": "stdout",
     "output_type": "stream",
     "text": [
      "[5, 5, 5, 6, 7, 10]\n"
     ]
    }
   ],
   "source": [
    "numbers.pop(0)  # Q처럼 사용도 가능. pop안에 숫자를 넣어서.\n",
    "print(numbers)"
   ]
  },
  {
   "cell_type": "code",
   "execution_count": 161,
   "id": "9e4d2fce-aff2-41e1-81d2-61f6cf6c4ce9",
   "metadata": {},
   "outputs": [
    {
     "name": "stdout",
     "output_type": "stream",
     "text": [
      "[5, 5, 5, 6, 7, 10]\n"
     ]
    }
   ],
   "source": [
    "numbers.sort()   # 오름차순으로 정렬.\n",
    "print(numbers)"
   ]
  },
  {
   "cell_type": "code",
   "execution_count": 163,
   "id": "76886116-7305-4d1b-b212-9315058dfb55",
   "metadata": {},
   "outputs": [
    {
     "name": "stdout",
     "output_type": "stream",
     "text": [
      "[10, 7, 6, 5, 5, 5]\n"
     ]
    }
   ],
   "source": [
    "numbers.sort(reverse=True)  # 내림차순으로 정렬.\n",
    "print(numbers)"
   ]
  },
  {
   "cell_type": "code",
   "execution_count": 168,
   "id": "2e81f512-389e-4d00-9382-547fe9c7010d",
   "metadata": {},
   "outputs": [
    {
     "name": "stdout",
     "output_type": "stream",
     "text": [
      "[1, 2, 3, 5, 7, 8]\n",
      "[5, 3, 2, 7, 8, 1]\n"
     ]
    }
   ],
   "source": [
    "a = [5, 3, 2, 7, 8, 1]\n",
    "print(sorted(a))  \n",
    "print(a)  # sorted는 원본을 바꾸는 차이점 있다. "
   ]
  },
  {
   "cell_type": "code",
   "execution_count": 176,
   "id": "037ee1d3-97b5-4896-9016-8758357882fb",
   "metadata": {},
   "outputs": [
    {
     "name": "stdout",
     "output_type": "stream",
     "text": [
      "['a', 'o', 'z', '나', '수']\n"
     ]
    }
   ],
   "source": [
    "my_list = ['a', '수', 'o', '나', 'z']\n",
    "my_list.sort()\n",
    "print(my_list)  # 글자도 유니코드 순서로 정렬 가능."
   ]
  },
  {
   "cell_type": "code",
   "execution_count": 179,
   "id": "1f177324-cd59-42da-b10c-b229b0786a30",
   "metadata": {},
   "outputs": [
    {
     "name": "stdout",
     "output_type": "stream",
     "text": [
      "[10, 7, 6, 5, 5, 5]\n",
      "[5, 5, 5, 6, 7, 10]\n"
     ]
    }
   ],
   "source": [
    "print(numbers)\n",
    "numbers.reverse()\n",
    "print(numbers)"
   ]
  },
  {
   "cell_type": "code",
   "execution_count": 184,
   "id": "0b6a8102-8a34-4fc2-9501-3e35c6b911f2",
   "metadata": {},
   "outputs": [
    {
     "data": {
      "text/plain": [
       "3"
      ]
     },
     "execution_count": 184,
     "metadata": {},
     "output_type": "execute_result"
    }
   ],
   "source": [
    "numbers.count(5)"
   ]
  },
  {
   "cell_type": "markdown",
   "id": "094353d7-f21f-4ea5-bee1-9b4c5c46df0d",
   "metadata": {},
   "source": [
    "### list copy"
   ]
  },
  {
   "cell_type": "code",
   "execution_count": 186,
   "id": "37384036-1778-4409-b892-37d29e50e7b4",
   "metadata": {},
   "outputs": [],
   "source": [
    "origin_list = [1, 2, 3]\n",
    "copy_list = origin_list"
   ]
  },
  {
   "cell_type": "code",
   "execution_count": 188,
   "id": "1fd12a3f-718d-4abc-9a95-12780a334170",
   "metadata": {},
   "outputs": [
    {
     "name": "stdout",
     "output_type": "stream",
     "text": [
      "[1, 2, 3]\n",
      "[1, 2, 3]\n"
     ]
    }
   ],
   "source": [
    "print(origin_list)\n",
    "print(copy_list)"
   ]
  },
  {
   "cell_type": "code",
   "execution_count": 189,
   "id": "5fed7640-4fce-462e-ba12-5f1dc9c4d38c",
   "metadata": {},
   "outputs": [
    {
     "name": "stdout",
     "output_type": "stream",
     "text": [
      "[100, 2, 3]\n",
      "[100, 2, 3]\n"
     ]
    }
   ],
   "source": [
    "copy_list[0] = 100\n",
    "print(origin_list)\n",
    "print(copy_list)"
   ]
  },
  {
   "cell_type": "code",
   "execution_count": 190,
   "id": "15ef3fa4-2204-47ef-960f-9aa3ab7a5c54",
   "metadata": {},
   "outputs": [
    {
     "name": "stdout",
     "output_type": "stream",
     "text": [
      "[1, 2, 3]\n",
      "[100, 2, 3]\n"
     ]
    }
   ],
   "source": [
    "origin_list = [1, 2, 3]\n",
    "copy_list = origin_list[:]\n",
    "\n",
    "copy_list[0] = 100\n",
    "\n",
    "print(origin_list)\n",
    "print(copy_list) "
   ]
  },
  {
   "cell_type": "code",
   "execution_count": 191,
   "id": "ecbc1dc6-101f-4a81-a774-1a34548c5db3",
   "metadata": {},
   "outputs": [
    {
     "name": "stdout",
     "output_type": "stream",
     "text": [
      "[1, 2, [-10, 11]]\n",
      "[100, 2, [-10, 11]]\n"
     ]
    }
   ],
   "source": [
    "o_l = [1, 2, [10, 11]]\n",
    "c_l = o_l[:] \n",
    "\n",
    "c_l [0] = 100\n",
    "c_l [2][0] = -10\n",
    "\n",
    "print(o_l)\n",
    "print(c_l)\n"
   ]
  },
  {
   "cell_type": "code",
   "execution_count": 193,
   "id": "3f8c975f-e5f3-4353-8156-93b7fb1058dd",
   "metadata": {},
   "outputs": [
    {
     "name": "stdout",
     "output_type": "stream",
     "text": [
      "[1, 2, [10, 11]]\n",
      "[100, 2, [10, -11]]\n"
     ]
    }
   ],
   "source": [
    "import copy  \n",
    "o_l = [1, 2, [10, 11]]\n",
    "c_l = copy.deepcopy(o_l)\n",
    "\n",
    "c_l[0] = 100\n",
    "c_l[2][1] = -11\n",
    "\n",
    "print(o_l)\n",
    "print(c_l)"
   ]
  },
  {
   "cell_type": "markdown",
   "id": "19c4feb2-72e9-4c45-8564-1233e3f81f75",
   "metadata": {},
   "source": [
    "## list comprehension"
   ]
  },
  {
   "cell_type": "code",
   "execution_count": 195,
   "id": "7b39865c-3f9e-495c-882d-bf151ce5913b",
   "metadata": {},
   "outputs": [
    {
     "name": "stdout",
     "output_type": "stream",
     "text": [
      "[1, 2, 3, 4, 5, 6, 7, 8, 9, 10]\n"
     ]
    }
   ],
   "source": [
    "numbers = list(range(1, 11))\n",
    "print(numbers)"
   ]
  },
  {
   "cell_type": "code",
   "execution_count": 198,
   "id": "308bb694-b586-4987-b11e-d7c2b2cb0546",
   "metadata": {},
   "outputs": [
    {
     "name": "stdout",
     "output_type": "stream",
     "text": [
      "[1, 8, 27, 64, 125, 216, 343, 512, 729, 1000]\n"
     ]
    }
   ],
   "source": [
    "result = []\n",
    "\n",
    "for number in numbers:   # -> 반복 작업.\n",
    "    temp = number ** 3   # -> **:제곱\n",
    "    result.append(temp)\n",
    "\n",
    "print(result)"
   ]
  },
  {
   "cell_type": "code",
   "execution_count": 204,
   "id": "ae0e3e65-f48a-441d-a444-d1fc99fdb1d8",
   "metadata": {},
   "outputs": [
    {
     "name": "stdout",
     "output_type": "stream",
     "text": [
      "[1, 8, 27, 64, 125, 216, 343, 512, 729, 1000]\n"
     ]
    }
   ],
   "source": [
    "result = [number ** 3 for number in numbers] \n",
    "# result = [number1 ** 3, number2 ** 3, number3 ** 3]\n",
    "print(result)"
   ]
  },
  {
   "cell_type": "code",
   "execution_count": 208,
   "id": "cd1e31c2-05bd-4bdd-b473-067f2ab9751d",
   "metadata": {},
   "outputs": [
    {
     "name": "stdout",
     "output_type": "stream",
     "text": [
      "[2, 4, 6, 8, 10, 12, 14, 16, 18, 20, 22, 24, 26, 28, 30]\n"
     ]
    }
   ],
   "source": [
    "# 짝수만 고르기\n",
    "numbers = list(range(1, 31))\n",
    "\n",
    "result = []\n",
    "for number in numbers:\n",
    "    if number % 2 == 0:\n",
    "        result.append(number)\n",
    "\n",
    "print(result)"
   ]
  },
  {
   "cell_type": "code",
   "execution_count": 212,
   "id": "726cd9e8-d790-49ce-a994-96db91d275e0",
   "metadata": {},
   "outputs": [
    {
     "name": "stdout",
     "output_type": "stream",
     "text": [
      "[2, 4, 6, 8, 10, 12, 14, 16, 18, 20, 22, 24, 26, 28, 30]\n"
     ]
    }
   ],
   "source": [
    "numbers = list(range(1, 31))\n",
    "result = [number for number in numbers if number % 2 == 0]\n",
    "print(result)"
   ]
  },
  {
   "cell_type": "code",
   "execution_count": 215,
   "id": "c043627b-569b-41fa-a295-b0db21babb55",
   "metadata": {},
   "outputs": [
    {
     "name": "stdout",
     "output_type": "stream",
     "text": [
      "[4, 8, 12, 16, 20, 24, 28, 32, 36, 40, 44, 48, 52, 56, 60]\n"
     ]
    }
   ],
   "source": [
    "numbers = list(range(1, 31))\n",
    "result = [number * 2 for number in numbers if number % 2 == 0]  # -> 최종적으로 보여주고 싶은 것은 number\n",
    "print(result)"
   ]
  },
  {
   "cell_type": "code",
   "execution_count": 216,
   "id": "ca9ac022-8e9e-437f-be13-d70f92f4df02",
   "metadata": {},
   "outputs": [],
   "source": [
    "# 연습! 모음제거\n",
    "words = 'my name is hong'\n",
    "\n",
    "# => my nm s hng "
   ]
  },
  {
   "cell_type": "code",
   "execution_count": 254,
   "id": "6a63944c-3717-4150-8a44-9c004ccebdc5",
   "metadata": {},
   "outputs": [
    {
     "name": "stdout",
     "output_type": "stream",
     "text": [
      "['m', 'y', ' ', 'n', 'm', ' ', 's', ' ', 'h', 'n', 'g']\n",
      "my nm s hng\n"
     ]
    }
   ],
   "source": [
    "# 1. for / if -- 강사님 풀이(자음을 선택하는 방식)\n",
    "\n",
    "vowels = ['a', 'e', 'i', 'o', 'u']\n",
    "result = []\n",
    "\n",
    "for char in words:\n",
    "    if char in vowels: # ---> 캐릭터가 모음 목록에 있다면\n",
    "        pass\n",
    "    else:\n",
    "        result.append(char)  # ---> 자음인 경우\n",
    "\n",
    "print(result)\n",
    "print(''.join(result))"
   ]
  },
  {
   "cell_type": "code",
   "execution_count": 259,
   "id": "570086be-9ac1-4bdc-9869-f910edf7da8c",
   "metadata": {
    "jupyter": {
     "source_hidden": true
    }
   },
   "outputs": [
    {
     "name": "stdout",
     "output_type": "stream",
     "text": [
      "['m', 'y', ' ', 'n', 'm', ' ', 's', ' ', 'h', 'n', 'g']\n",
      "my nm s hng\n"
     ]
    }
   ],
   "source": [
    "# 강사님 풀이2(모음을 선택하는 방식)\n",
    "\n",
    "vowels = ['a', 'e', 'i', 'o', 'u']\n",
    "result = []\n",
    "\n",
    "for char in words:\n",
    "    if char not in vowels: # ---> 캐릭터가 모음 목록에 없다면\n",
    "        result.append(char)\n",
    "    # else:\n",
    "        # result.append(char)  # ---> 자음인 경우\n",
    "\n",
    "print(result)\n",
    "print(''.join(result))"
   ]
  },
  {
   "cell_type": "code",
   "execution_count": 261,
   "id": "94124e22-0403-4ead-9c78-41892be4b545",
   "metadata": {},
   "outputs": [
    {
     "name": "stdout",
     "output_type": "stream",
     "text": [
      "['m', 'y', ' ', 'n', 'm', ' ', 's', ' ', 'h', 'n', 'g']\n",
      "my nm s hng\n"
     ]
    }
   ],
   "source": [
    "# 강사님 풀이3(조금 더 간편하게)\n",
    "# vowels = ['a', 'e', 'i', 'o', 'u']\n",
    "\n",
    "vowels = 'aeiou' # --- 위의 나열과 똑같음.\n",
    "result = []\n",
    "\n",
    "for char in words:\n",
    "    if char not in 'aeiou': # ---> 캐릭터가 모음 목록에 없다면\n",
    "        result.append(char)\n",
    "    # else:\n",
    "        # result.append(char)  # ---> 자음인 경우\n",
    "\n",
    "print(result)\n",
    "print(''.join(result))"
   ]
  },
  {
   "cell_type": "code",
   "execution_count": 258,
   "id": "499c0c80-90a3-4ff6-bb7c-28d127c72e2c",
   "metadata": {},
   "outputs": [
    {
     "ename": "SyntaxError",
     "evalue": "invalid syntax (3886525803.py, line 6)",
     "output_type": "error",
     "traceback": [
      "\u001b[1;36m  Cell \u001b[1;32mIn[258], line 6\u001b[1;36m\u001b[0m\n\u001b[1;33m    if numbers ==\u001b[0m\n\u001b[1;37m                  ^\u001b[0m\n\u001b[1;31mSyntaxError\u001b[0m\u001b[1;31m:\u001b[0m invalid syntax\n"
     ]
    }
   ],
   "source": [
    "# 1. 내 풀이 ----- 자음을 남기는 방법, 모음을 없애는 방법....\n",
    "result = []  # --- 공간을 만드는 형식\n",
    "words = 'my name is hong'\n",
    "\n",
    "for number in numbers:\n",
    "    if numbers == \n",
    "    result.remove('consonant')\n",
    "\n",
    "print(result)"
   ]
  },
  {
   "cell_type": "code",
   "execution_count": 267,
   "id": "58f963d7-bbb9-46a3-b72e-ea62e087c335",
   "metadata": {},
   "outputs": [
    {
     "name": "stdout",
     "output_type": "stream",
     "text": [
      "<class 'list'>\n",
      "my nm s hng\n"
     ]
    }
   ],
   "source": [
    "# 2. list comprehension --- 강사님 풀이\n",
    "\n",
    "vowels = 'aeiou'\n",
    "result = [char for char in words if char not in vowels]\n",
    "print(list)\n",
    "print(''.join(result))"
   ]
  },
  {
   "cell_type": "code",
   "execution_count": 266,
   "id": "df21159b-01c8-46c6-a050-cc6f297ac0f1",
   "metadata": {},
   "outputs": [
    {
     "ename": "SyntaxError",
     "evalue": "invalid syntax (2931435440.py, line 3)",
     "output_type": "error",
     "traceback": [
      "\u001b[1;36m  Cell \u001b[1;32mIn[266], line 3\u001b[1;36m\u001b[0m\n\u001b[1;33m    result = [number for number in numbers result.remove(consonant)]\u001b[0m\n\u001b[1;37m                                           ^\u001b[0m\n\u001b[1;31mSyntaxError\u001b[0m\u001b[1;31m:\u001b[0m invalid syntax\n"
     ]
    }
   ],
   "source": [
    "# 2. 내 풀이\n",
    "numbers = list(range('my', 'name', 'is', 'hong'))\n",
    "result = [number for number in numbers result.remove(consonant)]\n",
    "print(result)"
   ]
  },
  {
   "cell_type": "code",
   "execution_count": 279,
   "id": "d80738e7-3d14-4714-8504-c606fff70bfb",
   "metadata": {},
   "outputs": [
    {
     "name": "stdout",
     "output_type": "stream",
     "text": [
      "my nm s hng\n"
     ]
    }
   ],
   "source": [
    "# 3. replace 메소드 -- 원본 덮어씌우기를 하면서 하겠다.\n",
    "vowels = 'aeiou'\n",
    "\n",
    "for char in vowels:\n",
    "    words = words.replace(char, '')\n",
    "\n",
    "print(words)"
   ]
  },
  {
   "cell_type": "code",
   "execution_count": 1,
   "id": "4917fe3e-b1b7-4152-aa02-98811225b7c3",
   "metadata": {},
   "outputs": [
    {
     "ename": "TypeError",
     "evalue": "solution() takes 1 positional argument but 2 were given",
     "output_type": "error",
     "traceback": [
      "\u001b[1;31m---------------------------------------------------------------------------\u001b[0m",
      "\u001b[1;31mTypeError\u001b[0m                                 Traceback (most recent call last)",
      "Cell \u001b[1;32mIn[1], line 8\u001b[0m\n\u001b[0;32m      4\u001b[0m     \u001b[38;5;28;01mreturn\u001b[39;00m [n\u001b[38;5;241m+\u001b[39m\u001b[38;5;241m1\u001b[39m \u001b[38;5;28;01mfor\u001b[39;00m number \u001b[38;5;129;01min\u001b[39;00m numbers]\n\u001b[0;32m      6\u001b[0m     \u001b[38;5;28;01mreturn\u001b[39;00m answer\n\u001b[1;32m----> 8\u001b[0m \u001b[38;5;28mprint\u001b[39m(\u001b[43msolution\u001b[49m\u001b[43m(\u001b[49m\u001b[38;5;241;43m1234\u001b[39;49m\u001b[43m,\u001b[49m\u001b[43m \u001b[49m\u001b[38;5;241;43m10\u001b[39;49m\u001b[43m)\u001b[49m)\n\u001b[0;32m      9\u001b[0m \u001b[38;5;28mprint\u001b[39m(solution(\u001b[38;5;241m930211\u001b[39m, \u001b[38;5;241m16\u001b[39m))\n",
      "\u001b[1;31mTypeError\u001b[0m: solution() takes 1 positional argument but 2 were given"
     ]
    }
   ],
   "source": [
    "def solution(n):\n",
    "    answer = 0\n",
    "\n",
    "    return [n+1 for number in numbers]\n",
    "\n",
    "    return answer\n",
    "\n",
    "print(solution(1234, 10))\n",
    "print(solution(930211, 16))"
   ]
  },
  {
   "cell_type": "markdown",
   "id": "541725df-2b67-4b76-9d74-200d6025f7f7",
   "metadata": {},
   "source": [
    "## dictionary 메소드"
   ]
  },
  {
   "cell_type": "code",
   "execution_count": 9,
   "id": "dfa9f36b-9da5-4804-b5ec-102065577062",
   "metadata": {},
   "outputs": [],
   "source": [
    "info = {\n",
    "    'name': 'hong',\n",
    "    'location': 'seoul',\n",
    "    'age': 20,\n",
    "    'phone_book':{\n",
    "        'kim': '010-7564-4482',\n",
    "        'park': '010-3435-3523'\n",
    "    },\n",
    "    'models': ['iphone', 'ipad'],\n",
    "    \n",
    "}"
   ]
  },
  {
   "cell_type": "code",
   "execution_count": 10,
   "id": "9bb94db9-7543-41c7-bcef-33e73d2edf46",
   "metadata": {},
   "outputs": [
    {
     "name": "stdout",
     "output_type": "stream",
     "text": [
      "hong\n",
      "20\n",
      "010-3435-3523\n",
      "ipad\n"
     ]
    }
   ],
   "source": [
    "print(info['name'])\n",
    "print(info['age'])\n",
    "print(info['phone_book']['park'])\n",
    "print(info['models'][1])"
   ]
  },
  {
   "cell_type": "code",
   "execution_count": 16,
   "id": "fd1737ea-db3e-4805-9986-e8cb9a3ba01a",
   "metadata": {},
   "outputs": [
    {
     "name": "stdout",
     "output_type": "stream",
     "text": [
      "{'name': 'lee', 'location': 'seoul', 'age': 20, 'phone_book': {'kim': '010-7564-4482', 'park': '010-3435-3523'}, 'models': ['iphone', 'ipad']}\n"
     ]
    }
   ],
   "source": [
    "info['name'] = 'lee' \n",
    "print(info)"
   ]
  },
  {
   "cell_type": "code",
   "execution_count": 18,
   "id": "0d530e56-c7a7-4de6-ad90-dd2c876fe900",
   "metadata": {},
   "outputs": [
    {
     "name": "stdout",
     "output_type": "stream",
     "text": [
      "{'name': 'chio', 'location': 'seoul', 'age': 20, 'phone_book': {'kim': '010-7564-4482', 'park': '010-3435-3523'}, 'models': ['iphone', 'ipad']}\n"
     ]
    }
   ],
   "source": [
    "info.update(name = 'chio')\n",
    "print(info)"
   ]
  },
  {
   "cell_type": "code",
   "execution_count": 20,
   "id": "a3faf7b0-1cb9-4826-a30f-c84fccdf7554",
   "metadata": {},
   "outputs": [
    {
     "name": "stdout",
     "output_type": "stream",
     "text": [
      "{'name': 'chio', 'location': 'seoul', 'age': '22', 'phone_book': {'kim': '010-7564-4482', 'park': '010-3435-3523'}, 'models': ['iphone', 'ipad']}\n"
     ]
    }
   ],
   "source": [
    "info.update(age = '22')\n",
    "print(info)"
   ]
  },
  {
   "cell_type": "code",
   "execution_count": 39,
   "id": "789d2aae-8a0b-44a5-8e63-2fc10271265a",
   "metadata": {},
   "outputs": [
    {
     "ename": "KeyError",
     "evalue": "'location'",
     "output_type": "error",
     "traceback": [
      "\u001b[1;31m---------------------------------------------------------------------------\u001b[0m",
      "\u001b[1;31mKeyError\u001b[0m                                  Traceback (most recent call last)",
      "Cell \u001b[1;32mIn[39], line 1\u001b[0m\n\u001b[1;32m----> 1\u001b[0m \u001b[43minfo\u001b[49m\u001b[38;5;241;43m.\u001b[39;49m\u001b[43mpop\u001b[49m\u001b[43m(\u001b[49m\u001b[38;5;124;43m'\u001b[39;49m\u001b[38;5;124;43mlocation\u001b[39;49m\u001b[38;5;124;43m'\u001b[39;49m\u001b[43m)\u001b[49m\n\u001b[0;32m      2\u001b[0m \u001b[38;5;28mprint\u001b[39m(info)\n",
      "\u001b[1;31mKeyError\u001b[0m: 'location'"
     ]
    }
   ],
   "source": [
    "info.pop('location')\n",
    "print(info)"
   ]
  },
  {
   "cell_type": "code",
   "execution_count": 28,
   "id": "81ed1e3c-b85e-4d30-b209-b6fe39ec1a90",
   "metadata": {},
   "outputs": [
    {
     "name": "stdout",
     "output_type": "stream",
     "text": [
      "chio\n",
      "chio\n"
     ]
    }
   ],
   "source": [
    "print(info.get('name'))\n",
    "print(info['name'])"
   ]
  },
  {
   "cell_type": "code",
   "execution_count": 38,
   "id": "011bf4e4-3952-4247-aeb5-a81838e3922d",
   "metadata": {},
   "outputs": [
    {
     "name": "stdout",
     "output_type": "stream",
     "text": [
      "None\n"
     ]
    }
   ],
   "source": [
    "print(info.get('birth')) # --> get은 none반환."
   ]
  },
  {
   "cell_type": "code",
   "execution_count": 35,
   "id": "62e1490e-fba9-4a93-9cb1-1a04ec0290f0",
   "metadata": {},
   "outputs": [
    {
     "ename": "KeyError",
     "evalue": "'birth'",
     "output_type": "error",
     "traceback": [
      "\u001b[1;31m---------------------------------------------------------------------------\u001b[0m",
      "\u001b[1;31mKeyError\u001b[0m                                  Traceback (most recent call last)",
      "Cell \u001b[1;32mIn[35], line 1\u001b[0m\n\u001b[1;32m----> 1\u001b[0m \u001b[38;5;28mprint\u001b[39m(\u001b[43minfo\u001b[49m\u001b[43m[\u001b[49m\u001b[38;5;124;43m'\u001b[39;49m\u001b[38;5;124;43mbirth\u001b[39;49m\u001b[38;5;124;43m'\u001b[39;49m\u001b[43m]\u001b[49m)\n",
      "\u001b[1;31mKeyError\u001b[0m: 'birth'"
     ]
    }
   ],
   "source": [
    "print(info['birth'])"
   ]
  },
  {
   "cell_type": "code",
   "execution_count": 68,
   "id": "285908ff-a868-4b51-adad-be0b31b72d8a",
   "metadata": {},
   "outputs": [
    {
     "name": "stdout",
     "output_type": "stream",
     "text": [
      "{'A': 4, 'B': 2, 'AB': 2, 'O': 1}\n"
     ]
    }
   ],
   "source": [
    "# 연습문제\n",
    "blood_type = ['A', 'B', 'A', 'B', 'O', 'AB', 'A', 'A', 'AB']\n",
    "# 더 많은 데이터가 들어있다고 헸을 때, 어떻게 셀 수 있을까..\n",
    "\n",
    "result = {\n",
    "    'A' : 0,\n",
    "    'B' : 0,\n",
    "    'AB' : 0,\n",
    "    'O' : 0,\n",
    "}\n",
    "\n",
    "for blood in blood_type:\n",
    "    # result ['A']\n",
    "    result[blood] += 1\n",
    "\n",
    "print(result)\n",
    "\n",
    "# 결과값=> {'A': 4, 'B':2, 'AB':2, 'O':1}"
   ]
  },
  {
   "cell_type": "code",
   "execution_count": 65,
   "id": "fd910636-369d-4e8d-98b4-1400eb3cb891",
   "metadata": {},
   "outputs": [
    {
     "name": "stdout",
     "output_type": "stream",
     "text": [
      "{'A': 4, 'B': 2, 'AB': 2, 'O': 1}\n"
     ]
    }
   ],
   "source": [
    "info = {\n",
    "    'A' : 4,\n",
    "    'B' : 2,\n",
    "    'AB': 2,\n",
    "    'O': 1\n",
    "}\n",
    "info['A'] = 4\n",
    "print(info)"
   ]
  },
  {
   "cell_type": "code",
   "execution_count": 59,
   "id": "f3d59988-df2c-4658-b894-aa5fac1f539c",
   "metadata": {},
   "outputs": [
    {
     "name": "stdout",
     "output_type": "stream",
     "text": [
      "4\n",
      "2\n",
      "2\n",
      "1\n"
     ]
    }
   ],
   "source": [
    "print(info['A'])\n",
    "print(info['B'])\n",
    "print(info['AB'])\n",
    "print(info['O'])"
   ]
  },
  {
   "cell_type": "code",
   "execution_count": 61,
   "id": "1be44422-26e7-4cdd-a947-626ab11fea85",
   "metadata": {},
   "outputs": [
    {
     "name": "stdout",
     "output_type": "stream",
     "text": [
      "{'A': 4, 'B': 2, 'AB': 2, 'O': 1}\n"
     ]
    }
   ],
   "source": [
    "info['A'] = 4\n",
    "print(info)"
   ]
  },
  {
   "cell_type": "code",
   "execution_count": 73,
   "id": "8b96677c-57cd-468e-aa70-c3236811c35d",
   "metadata": {},
   "outputs": [
    {
     "name": "stdout",
     "output_type": "stream",
     "text": [
      "{'서울': 2, '대전': 1, '대구': 1, '의성': 1}\n"
     ]
    }
   ],
   "source": [
    "# 연습문제2\n",
    "locations = ['서울', '서울', '대전', '대구', '의성']\n",
    "\n",
    "# 데이터가 정해지지 않은 상태에서 dictionary 방법.\n",
    "# 현재 목록에 있다면 +1, 없다면 새로 생성.\n",
    "\n",
    "result = {}\n",
    "\n",
    "# <순서>\n",
    "# for location in locations:\n",
    "    # if location이 result key 목록에 있으면?\n",
    "       # 기존 데이터에 +1\n",
    "# else: 목록에 없다면\n",
    "      # 새로운 키를 등록하고 기본값 1을 지정\n",
    "\n",
    "for location in locations:\n",
    "    # if location in result.keys():\n",
    "    if result.get(location):\n",
    "        result[location] += 1\n",
    "    else:\n",
    "        result[location] = 1\n",
    "print(result)"
   ]
  },
  {
   "cell_type": "markdown",
   "id": "54e66248-977f-4c58-af2f-d0e18cc9fac3",
   "metadata": {},
   "source": [
    "## dict comprehension"
   ]
  },
  {
   "cell_type": "code",
   "execution_count": 76,
   "id": "2958aaef-623f-4c2c-b2bc-687b540df5f5",
   "metadata": {},
   "outputs": [
    {
     "name": "stdout",
     "output_type": "stream",
     "text": [
      "{1: 1, 2: 8, 3: 27, 4: 64, 5: 125, 6: 216, 7: 343, 8: 512, 9: 729, 10: 1000}\n"
     ]
    }
   ],
   "source": [
    "# {1: 1, 2: 8, 3: 27, ... 10: 1000}\n",
    "\n",
    "result = {}\n",
    "numbers = range(1, 11)\n",
    "\n",
    "for number in numbers:\n",
    "    result[number] = number ** 3\n",
    "\n",
    "print(result)"
   ]
  },
  {
   "cell_type": "code",
   "execution_count": 77,
   "id": "2d82757e-7a6f-453e-acd3-cee496d25607",
   "metadata": {},
   "outputs": [
    {
     "name": "stdout",
     "output_type": "stream",
     "text": [
      "{1: 1, 2: 8, 3: 27, 4: 64, 5: 125, 6: 216, 7: 343, 8: 512, 9: 729, 10: 1000}\n"
     ]
    }
   ],
   "source": [
    "result = {number: number ** 3 for number in range(1, 11)}\n",
    "print(result)"
   ]
  },
  {
   "cell_type": "code",
   "execution_count": 78,
   "id": "d6803d6e-637d-4ba3-aa24-da477614cb3b",
   "metadata": {},
   "outputs": [],
   "source": [
    "dust = {\n",
    "    '서울': 50, \n",
    "    '인천': 60,\n",
    "    '수원': 30,\n",
    "    '남해': 10,\n",
    "}"
   ]
  },
  {
   "cell_type": "code",
   "execution_count": 86,
   "id": "61512dee-1d62-42dc-9655-2d53e761eb7e",
   "metadata": {},
   "outputs": [
    {
     "name": "stdout",
     "output_type": "stream",
     "text": [
      "{'서울': 50, '수원': 30, '남해': 10}\n"
     ]
    }
   ],
   "source": [
    "# 1. for\n",
    "result = {}\n",
    "for key, value in dust.items():\n",
    "    # key, value = ('서울', 50)\n",
    "    # item = ('서울', 50)\n",
    "    if value <= 50:\n",
    "        result[key] = value # --> 새로운 result에 등록.\n",
    "    \n",
    "print(result)"
   ]
  },
  {
   "cell_type": "code",
   "execution_count": 91,
   "id": "417a580c-d4e9-47c1-9504-1164f30979d8",
   "metadata": {},
   "outputs": [
    {
     "name": "stdout",
     "output_type": "stream",
     "text": [
      "{'서울': '매우 좋음', '수원': '매우 좋음', '남해': '매우 좋음'}\n"
     ]
    }
   ],
   "source": [
    "# 2. dic comprehension\n",
    "result = {k: '매우 좋음' for k, v in dust.items() if v <= 50}\n",
    "print(result)"
   ]
  },
  {
   "cell_type": "markdown",
   "id": "5a0625a3-97a5-4051-aa8d-87f110ff3a6c",
   "metadata": {},
   "source": [
    "## Set 메소드"
   ]
  },
  {
   "cell_type": "code",
   "execution_count": 97,
   "id": "9bc88e4f-d92a-4cf4-8376-aa72235a5f18",
   "metadata": {},
   "outputs": [],
   "source": [
    "fruits = {'apple', 'melon', 'kiwi'}"
   ]
  },
  {
   "cell_type": "code",
   "execution_count": 98,
   "id": "6f332836-1abc-4320-a30f-3d63ace045ac",
   "metadata": {},
   "outputs": [
    {
     "name": "stdout",
     "output_type": "stream",
     "text": [
      "{'apple', 'melon', 'kiwi'}\n"
     ]
    }
   ],
   "source": [
    "print(fruits)"
   ]
  },
  {
   "cell_type": "code",
   "execution_count": 107,
   "id": "bbcfbe55-2ad9-4b87-9ecd-9254cc73a9e6",
   "metadata": {},
   "outputs": [
    {
     "name": "stdout",
     "output_type": "stream",
     "text": [
      "{'melon', 'grape', 'orange', 'watermelon', 'kiwi'}\n"
     ]
    }
   ],
   "source": [
    "fruits.add('watermelon')  # 하나의 데이터 추가.\n",
    "print(fruits)"
   ]
  },
  {
   "cell_type": "code",
   "execution_count": 106,
   "id": "7a4f7891-42ac-4d12-87a0-9f137687a113",
   "metadata": {},
   "outputs": [
    {
     "name": "stdout",
     "output_type": "stream",
     "text": [
      "{'melon', 'grape', 'orange', 'watermelon', 'kiwi'}\n"
     ]
    }
   ],
   "source": [
    "fruits.update({'orange', 'grape'}) # 여러개 데이터 추가.\n",
    "print(fruits)"
   ]
  },
  {
   "cell_type": "code",
   "execution_count": 111,
   "id": "df325aea-0d15-44ad-a827-4b531dc6f24a",
   "metadata": {},
   "outputs": [
    {
     "name": "stdout",
     "output_type": "stream",
     "text": [
      "{'orange', 'watermelon', 'kiwi'}\n"
     ]
    }
   ],
   "source": [
    "fruits.remove('grape')\n",
    "print(fruits)"
   ]
  },
  {
   "cell_type": "code",
   "execution_count": 112,
   "id": "0fe33ecd-8899-4c46-9a89-047a02f3e348",
   "metadata": {},
   "outputs": [
    {
     "name": "stdout",
     "output_type": "stream",
     "text": [
      "{'watermelon', 'kiwi'}\n"
     ]
    }
   ],
   "source": [
    "fruits.pop()\n",
    "print(fruits)"
   ]
  },
  {
   "cell_type": "markdown",
   "id": "a16bd508-3680-4beb-be5c-e68deae8158d",
   "metadata": {},
   "source": [
    "## map, filter, zip"
   ]
  },
  {
   "cell_type": "markdown",
   "id": "5502c0a3-caf8-468a-ab5f-d4b452cfb3fc",
   "metadata": {},
   "source": [
    "### map -- 모든 데이터를 일괄처리.\n",
    "- map(function, iterable)\n",
    "    - iterable => 시퀀스타입"
   ]
  },
  {
   "cell_type": "code",
   "execution_count": 114,
   "id": "b5c188ed-0f25-4079-b760-0911e7f53a47",
   "metadata": {},
   "outputs": [
    {
     "name": "stdout",
     "output_type": "stream",
     "text": [
      "['1', '2', '3', '4', '5']\n"
     ]
    }
   ],
   "source": [
    "numbers = [1, 2, 3, 4, 5] # --> 숫자 1, 2, 3, 4, 5\n",
    "# => ['1', '2', '3', '4', '5']\n",
    "\n",
    "result = []\n",
    "for number in numbers:\n",
    "    result.append(str(number))\n",
    "print(result)\n",
    "# --> 이후에 나오는 답은 글자 1, 2, 3, 4, 5"
   ]
  },
  {
   "cell_type": "code",
   "execution_count": 117,
   "id": "50c514b8-9d72-4026-9de7-6c34479b47b3",
   "metadata": {},
   "outputs": [
    {
     "name": "stdout",
     "output_type": "stream",
     "text": [
      "<map object at 0x0000020A68E51EA0>\n",
      "['1', '2', '3', '4', '5']\n"
     ]
    }
   ],
   "source": [
    "result = map(str, numbers)\n",
    "print(result)\n",
    "print(list(result))"
   ]
  },
  {
   "cell_type": "code",
   "execution_count": 119,
   "id": "3642df09-8db3-4960-aaed-45350de90ef0",
   "metadata": {},
   "outputs": [
    {
     "name": "stdout",
     "output_type": "stream",
     "text": [
      "[1, 8, 27, 64, 125]\n"
     ]
    }
   ],
   "source": [
    "numbers = [1, 2, 3, 4, 5]\n",
    "# => [1, 8, 27, 64, 125]\n",
    "\n",
    "result = []\n",
    "for number in numbers:\n",
    "    result.append(number ** 3)\n",
    "\n",
    "print(result)"
   ]
  },
  {
   "cell_type": "code",
   "execution_count": 120,
   "id": "c05b7584-01fa-41b0-a1cd-e73ac278cd69",
   "metadata": {},
   "outputs": [],
   "source": [
    "def cube(x):\n",
    "    return x ** 3"
   ]
  },
  {
   "cell_type": "code",
   "execution_count": 124,
   "id": "0bba8ccd-8370-4cbf-bbb8-b96538cb44fa",
   "metadata": {},
   "outputs": [
    {
     "name": "stdout",
     "output_type": "stream",
     "text": [
      "<map object at 0x0000020A68C20AF0>\n",
      "[1, 8, 27, 64, 125]\n"
     ]
    }
   ],
   "source": [
    "result = map(cube, numbers)\n",
    "print(result)\n",
    "print(list(result))"
   ]
  },
  {
   "cell_type": "code",
   "execution_count": 128,
   "id": "ff5c2f3e-1b4b-41cd-a94d-b2c3a3891a9e",
   "metadata": {},
   "outputs": [
    {
     "name": "stdout",
     "output_type": "stream",
     "text": [
      "[1, 3, 5, 7, 9]\n"
     ]
    }
   ],
   "source": [
    "test_input = '1 3 5 7 9'  # -=> 숫자, '1' 글자.\n",
    "# 1. 띄어쓰기 기준으로 나눈다.\n",
    "test_input.split()\n",
    "# 2. 각 글자를 숫지로 바꾼다.\n",
    "map(int, test_input.split())\n",
    "# 3. 리스트에 저장한다.\n",
    "result = list(map(int, test_input.split()))\n",
    "\n",
    "print(result)"
   ]
  },
  {
   "cell_type": "markdown",
   "id": "27ac48f5-dc1b-4c7d-a373-02f300fc9d9c",
   "metadata": {},
   "source": [
    "## filter -- 필요 데이터만 추출할 때.\n",
    "- filter(function, iterable)"
   ]
  },
  {
   "cell_type": "code",
   "execution_count": 132,
   "id": "2ed134be-a35d-4bdb-9971-636f11bdb7b6",
   "metadata": {},
   "outputs": [
    {
     "name": "stdout",
     "output_type": "stream",
     "text": [
      "[1, 3, 5]\n"
     ]
    }
   ],
   "source": [
    "numbers = [1, 2, 3, 4, 5, 6]\n",
    "\n",
    "result = []  # --> 원래 사용했던 방법.\n",
    "for number in numbers:\n",
    "    if number % 2  == 1:\n",
    "        result.append(number)\n",
    "print(result)"
   ]
  },
  {
   "cell_type": "code",
   "execution_count": 129,
   "id": "378b9912-c04b-4859-a766-d2202c7d3c8e",
   "metadata": {},
   "outputs": [],
   "source": [
    "def is_odd(X):\n",
    "    return X % 2"
   ]
  },
  {
   "cell_type": "code",
   "execution_count": 133,
   "id": "633a2e2e-c2dd-4914-90e8-4cd6f2abcaaf",
   "metadata": {},
   "outputs": [
    {
     "name": "stdout",
     "output_type": "stream",
     "text": [
      "<filter object at 0x0000020A68C20AF0>\n",
      "[1, 3, 5]\n"
     ]
    }
   ],
   "source": [
    "result = filter(is_odd, numbers)\n",
    "print(result)\n",
    "print(list(result))"
   ]
  },
  {
   "cell_type": "markdown",
   "id": "f749b8ea-aa8a-4677-a666-38c5531686a9",
   "metadata": {},
   "source": [
    "## zip"
   ]
  },
  {
   "cell_type": "code",
   "execution_count": 137,
   "id": "b157666c-59ed-41fe-b8b9-956cbbaf9139",
   "metadata": {},
   "outputs": [
    {
     "name": "stdout",
     "output_type": "stream",
     "text": [
      "<zip object at 0x0000020A69446F00>\n",
      "[(1, 100), (2, 200), (3, 300)]\n"
     ]
    }
   ],
   "source": [
    "a = [1, 2, 3]\n",
    "b = [100, 200, 300]\n",
    "\n",
    "result = zip(a, b)\n",
    "print(result)\n",
    "print(list(result))"
   ]
  }
 ],
 "metadata": {
  "kernelspec": {
   "display_name": "Python 3 (ipykernel)",
   "language": "python",
   "name": "python3"
  },
  "language_info": {
   "codemirror_mode": {
    "name": "ipython",
    "version": 3
   },
   "file_extension": ".py",
   "mimetype": "text/x-python",
   "name": "python",
   "nbconvert_exporter": "python",
   "pygments_lexer": "ipython3",
   "version": "3.13.2"
  }
 },
 "nbformat": 4,
 "nbformat_minor": 5
}
