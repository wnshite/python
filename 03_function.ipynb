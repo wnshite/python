{
 "cells": [
  {
   "cell_type": "markdown",
   "id": "b7975119-e981-42a4-bd67-36fedd726e0a",
   "metadata": {},
   "source": [
    "## 함수(function)"
   ]
  },
  {
   "cell_type": "code",
   "execution_count": null,
   "id": "cdfde3e8-80b4-4047-a8e0-7cde64e59137",
   "metadata": {},
   "outputs": [],
   "source": [
    "# 사각형의 가로와 세로의 길이를 이용해서 면적과 둘레를 구하는 코드.\n",
    "height = 50\n",
    "width = 20\n",
    "\n",
    "area = height * width\n",
    "perimeter = (height + width) * 2\n",
    "print(f'사각형의 면접은 {area}이고 둘레는 {perimeter}입니다.')"
   ]
  },
  {
   "cell_type": "code",
   "execution_count": null,
   "id": "11a7e4c3-66cf-41c5-b3e2-c67e5b2b2c77",
   "metadata": {},
   "outputs": [],
   "source": [
    "print('height * width', ('height' + 'width') * 2) ------ 내가 짠 코드..."
   ]
  },
  {
   "cell_type": "code",
   "execution_count": null,
   "id": "5d550a7c-416c-4de2-aff0-71a2c3753543",
   "metadata": {},
   "outputs": [],
   "source": [
    "# 사각형의 가로와 세로의 길이를 이용해서 면적과 둘레를 구하는 코드.\n",
    "height2 = 50\n",
    "width2 = 50\n",
    "\n",
    "area2 = height2 * width2\n",
    "perimeter2 = (height2 + width2) * 2\n",
    "print(f'사각형의 면접은 {area2}이고 둘레는 {perimeter2}입니다.')"
   ]
  },
  {
   "cell_type": "markdown",
   "id": "c6651ef8-ed80-4bd6-8400-2e68a53ad9a2",
   "metadata": {},
   "source": [
    "## 함수의 선언과 호출\n",
    "- 선언\n",
    "```python\n",
    "def func_name(parameter1, parameter2, ...):\n",
    "    code1\n",
    "    code2\n",
    "    ...\n",
    "    return 0\n",
    "```\n",
    "\n",
    "- 호출\n",
    "    -`func_name(parameter1, parameter2, ...)`"
   ]
  },
  {
   "cell_type": "code",
   "execution_count": null,
   "id": "cc5e36be-eca8-4cc8-ab12-89ad31316f99",
   "metadata": {},
   "outputs": [],
   "source": [
    "def rectangle(height, width):\n",
    "    area = height * width\n",
    "    perimeter = (height + width) * 2\n",
    "    \n",
    "    print(f'사각형의 면접은 {area}입니다. 둘레는 {perimeter}입니다.')"
   ]
  },
  {
   "cell_type": "code",
   "execution_count": null,
   "id": "124033d5-88c3-44be-b20f-77020f78b322",
   "metadata": {},
   "outputs": [],
   "source": [
    "rectangle(50, 30)\n",
    "rectangle(20, 100)"
   ]
  },
  {
   "cell_type": "code",
   "execution_count": null,
   "id": "2b6d87ed-531f-4215-9fdf-257c79cc5575",
   "metadata": {},
   "outputs": [],
   "source": [
    "print('asdf')\n",
    "str(123) --- 숫자를 글자로 바꿔주는 함수."
   ]
  },
  {
   "cell_type": "code",
   "execution_count": null,
   "id": "2f53bb51-e21d-4061-871d-24139416ebb7",
   "metadata": {},
   "outputs": [],
   "source": [
    "dir(__builtins__) --- 세부 내용을 보여주는 함수."
   ]
  },
  {
   "cell_type": "code",
   "execution_count": 1,
   "id": "49229d68-3d80-42c7-9cf3-5bdbdd5e5e58",
   "metadata": {},
   "outputs": [
    {
     "data": {
      "text/plain": [
       "100"
      ]
     },
     "execution_count": 1,
     "metadata": {},
     "output_type": "execute_result"
    }
   ],
   "source": [
    "max(100, 2)"
   ]
  },
  {
   "cell_type": "code",
   "execution_count": 5,
   "id": "bc74fa2d-36a3-4120-856c-59470e8665fc",
   "metadata": {},
   "outputs": [],
   "source": [
    "def my_max(num1, num2):\n",
    "    if num1 > num2:\n",
    "        print(num1)\n",
    "    elif num1 < num2:\n",
    "        print(num2)\n",
    "    else:\n",
    "        print('같습니다.')"
   ]
  },
  {
   "cell_type": "code",
   "execution_count": 3,
   "id": "c90a6c60-8fe4-474e-8688-c33f63bf79f9",
   "metadata": {},
   "outputs": [
    {
     "name": "stdout",
     "output_type": "stream",
     "text": [
      "같습니다.\n"
     ]
    }
   ],
   "source": [
    "my_max(5, 5)"
   ]
  },
  {
   "cell_type": "markdown",
   "id": "052b86b6-ac44-4828-b126-d6519f66887c",
   "metadata": {},
   "source": [
    "## 함수의 return\n",
    "\n",
    "- 함수가 return을 만나면 해당값을 반환하고 함수를 종료.\n",
    "- 만약 return이 없는 경우, None을 자동으로 반환.\n",
    "- return은 오직 하나의 객체만 반환."
   ]
  },
  {
   "cell_type": "code",
   "execution_count": 11,
   "id": "be013736-1b64-4e62-8bba-bd4a0f780ede",
   "metadata": {},
   "outputs": [
    {
     "name": "stdout",
     "output_type": "stream",
     "text": [
      "2\n",
      "None\n"
     ]
    }
   ],
   "source": [
    "result = my_max(1, 2)\n",
    "print(result)\n",
    "# result * 2"
   ]
  },
  {
   "cell_type": "code",
   "execution_count": 14,
   "id": "46d4b772-b9a7-4b93-b74c-59709d3475c1",
   "metadata": {},
   "outputs": [],
   "source": [
    "def my_max2(num1, num2):\n",
    "    if num1 > num2:\n",
    "        return num1\n",
    "    else:\n",
    "        return num2"
   ]
  },
  {
   "cell_type": "code",
   "execution_count": 18,
   "id": "b436dc60-f1d6-4580-b1de-715e52fee991",
   "metadata": {},
   "outputs": [
    {
     "name": "stdout",
     "output_type": "stream",
     "text": [
      "2\n"
     ]
    }
   ],
   "source": [
    "result = my_max2(1, 2)\n",
    "print(result)"
   ]
  },
  {
   "cell_type": "code",
   "execution_count": 25,
   "id": "61331f8e-18a6-4b63-82f0-898b7d856155",
   "metadata": {},
   "outputs": [
    {
     "name": "stdout",
     "output_type": "stream",
     "text": [
      "0\n",
      "1\n",
      "2\n",
      "3\n"
     ]
    },
    {
     "data": {
      "text/plain": [
       "3"
      ]
     },
     "execution_count": 25,
     "metadata": {},
     "output_type": "execute_result"
    }
   ],
   "source": [
    "def my_for(X): \n",
    "    for i in range(X):\n",
    "        print(i)\n",
    "        if i == 3:\n",
    "            return i\n",
    "\n",
    "my_for(5)"
   ]
  },
  {
   "cell_type": "code",
   "execution_count": 29,
   "id": "dadbe2eb-8df8-4c49-8741-e584d886c542",
   "metadata": {},
   "outputs": [
    {
     "data": {
      "text/plain": [
       "(20, 10)"
      ]
     },
     "execution_count": 29,
     "metadata": {},
     "output_type": "execute_result"
    }
   ],
   "source": [
    "def my_def(x):\n",
    "    return x * 2, x\n",
    "\n",
    "my_def(10)"
   ]
  },
  {
   "cell_type": "code",
   "execution_count": 70,
   "id": "a4adbd03-8f16-4ea6-a047-46762978266b",
   "metadata": {},
   "outputs": [],
   "source": [
    "# version1\n",
    "def my_list_max(list1, list2):\n",
    "    # list1 = [1, 2, 3]\n",
    "    # list2 = [2, 3, 4]\n",
    "    \n",
    "    # list1의 총합, list2의 총합을 각각 먼저 구해야한다.\n",
    "\n",
    "    sum_of_list1 = list1[0] + list1[1] + list1[2]\n",
    "    sum_of_list2 = list2[0] + list2[1] + list2[2]\n",
    "\n",
    "    if sum_of_list1 > sum_of_list2:\n",
    "        return list1\n",
    "    else:\n",
    "        return list2"
   ]
  },
  {
   "cell_type": "code",
   "execution_count": 71,
   "id": "f276f00a-166e-4790-895b-5f9fa062c6e3",
   "metadata": {},
   "outputs": [
    {
     "data": {
      "text/plain": [
       "[2, 3, 4]"
      ]
     },
     "execution_count": 71,
     "metadata": {},
     "output_type": "execute_result"
    }
   ],
   "source": [
    "my_list_max([1, 2, 3], [2, 3, 4])"
   ]
  },
  {
   "cell_type": "code",
   "execution_count": 72,
   "id": "27b79c59-ebca-4868-9d05-27c8e32cec51",
   "metadata": {},
   "outputs": [],
   "source": [
    "# version2\n",
    "def my_list_max(list1, list2):\n",
    "    sum_of_list1 = 0 #비어있는 값이라는 뜻의 0.\n",
    "    # 리스트를 더해나갈 초기값 설정\n",
    "\n",
    "    for item in list1:\n",
    "        sum_of_list1 = sum_of_list1 + item\n",
    "\n",
    "    sum_of_list2 = 0\n",
    "    # 리스트를 더해나갈 초기값 설정 2\n",
    "    \n",
    "    for item in list2:\n",
    "        sum_of_list2 += item\n",
    "\n",
    "    # 합을 구했으니 비교 연산으로 마무리.\n",
    "    if sum_of_list1> sum_of_list2:\n",
    "        return list1\n",
    "    else:\n",
    "        return list2"
   ]
  },
  {
   "cell_type": "code",
   "execution_count": 73,
   "id": "f64e34a8-6ccd-4c79-ad9b-84d579a082cf",
   "metadata": {},
   "outputs": [
    {
     "data": {
      "text/plain": [
       "[2, 3, 4]"
      ]
     },
     "execution_count": 73,
     "metadata": {},
     "output_type": "execute_result"
    }
   ],
   "source": [
    "my_list_max([1, 2, 3], [2, 3, 4])"
   ]
  },
  {
   "cell_type": "code",
   "execution_count": 49,
   "id": "7b85ec6c-25ba-4add-8c31-6d197d8a8086",
   "metadata": {},
   "outputs": [
    {
     "ename": "NameError",
     "evalue": "name 'num1' is not defined",
     "output_type": "error",
     "traceback": [
      "\u001b[1;31m---------------------------------------------------------------------------\u001b[0m",
      "\u001b[1;31mNameError\u001b[0m                                 Traceback (most recent call last)",
      "Cell \u001b[1;32mIn[49], line 10\u001b[0m\n\u001b[0;32m      8\u001b[0m         \u001b[38;5;28;01mreturn\u001b[39;00m num2\n\u001b[0;32m      9\u001b[0m my_list_max([\u001b[38;5;241m1\u001b[39m, \u001b[38;5;241m2\u001b[39m, \u001b[38;5;241m3\u001b[39m], [\u001b[38;5;241m2\u001b[39m, \u001b[38;5;241m3\u001b[39m, \u001b[38;5;241m4\u001b[39m])\n\u001b[1;32m---> 10\u001b[0m \u001b[38;5;28mprint\u001b[39m(\u001b[38;5;28msum\u001b[39m(\u001b[43mnum1\u001b[49m, num2))\n\u001b[0;32m     11\u001b[0m     \u001b[38;5;66;03m# 첫번째 리스트 가져오기\u001b[39;00m\n",
      "\u001b[1;31mNameError\u001b[0m: name 'num1' is not defined"
     ]
    }
   ],
   "source": [
    "# my_list_max([1, 2, 3], [2, 3, 4])\n",
    "# => [2, 3, 4]\n",
    "\n",
    "def my_list_max(num1, num2):\n",
    "    if num1 > num2:\n",
    "        return num1\n",
    "    else:\n",
    "        return num2\n",
    "my_list_max([1, 2, 3], [2, 3, 4])\n",
    "print(sum(num1, num2))\n",
    "    # 첫번째 리스트 가져오기 ---------- ********** 내가 짠 코드...\n",
    "    "
   ]
  },
  {
   "cell_type": "code",
   "execution_count": 68,
   "id": "2a80c27f-fb02-4cac-81e1-0670929c03b9",
   "metadata": {},
   "outputs": [],
   "source": [
    "# version3 -- 아예 list를 다 더해주는 sum()함수를 사용하는 방법.\n",
    "def my_list_max(list1, list2):\n",
    "    sum_of_list1 = sum(list1)\n",
    "    sum_of_list2 = sum(list2)\n",
    "\n",
    "    if sum_of_list1 > sum_of_list2:\n",
    "        return list1\n",
    "    else:\n",
    "        return list2"
   ]
  },
  {
   "cell_type": "code",
   "execution_count": 69,
   "id": "f54a7b5e-3268-46e3-9052-7325de288cff",
   "metadata": {},
   "outputs": [
    {
     "data": {
      "text/plain": [
       "[2, 3, 4]"
      ]
     },
     "execution_count": 69,
     "metadata": {},
     "output_type": "execute_result"
    }
   ],
   "source": [
    "my_list_max([1, 2, 3], [2, 3, 4])\n",
    "# => [2, 3, 4]"
   ]
  },
  {
   "cell_type": "code",
   "execution_count": 86,
   "id": "bee136b4-dcc4-49c6-87b3-93540c04ffbf",
   "metadata": {},
   "outputs": [],
   "source": [
    "def apple(aha, baha):\n",
    "    sum_of_aha = sum(aha)\n",
    "    sum_of_baha = sum(baha)\n",
    "\n",
    "    if sum_of_aha > sum_of_baha:\n",
    "        return aha\n",
    "    else:\n",
    "        return baha"
   ]
  },
  {
   "cell_type": "code",
   "execution_count": 99,
   "id": "a25994cb-1b4e-49ff-8994-22efe2c191f5",
   "metadata": {},
   "outputs": [
    {
     "data": {
      "text/plain": [
       "[2, 3, 4]"
      ]
     },
     "execution_count": 99,
     "metadata": {},
     "output_type": "execute_result"
    }
   ],
   "source": [
    "apple([5,1,1], [2,3,4])"
   ]
  },
  {
   "cell_type": "markdown",
   "id": "f4954784-b163-466f-ad60-2d49a49a5899",
   "metadata": {},
   "source": [
    "### 함수의 인수"
   ]
  },
  {
   "cell_type": "markdown",
   "id": "63b13ca6-0f12-4997-9676-ab29c29bccf9",
   "metadata": {},
   "source": [
    "### 위치인수\n",
    "- 기본적으로 함수는 위치를 기준으로 인수를 판단합니다."
   ]
  },
  {
   "cell_type": "code",
   "execution_count": 100,
   "id": "6cef312c-5355-47cd-a2d2-17d941d010c4",
   "metadata": {},
   "outputs": [],
   "source": [
    "# 원기둥의 부피 구하기\n",
    "def cylinder(r, h):\n",
    "    return 3.14 * r ** 2 *"
   ]
  },
  {
   "cell_type": "code",
   "execution_count": 104,
   "id": "b9285ba2-eb66-4591-9f26-8ef63d3882b2",
   "metadata": {},
   "outputs": [
    {
     "data": {
      "text/plain": [
       "282.6"
      ]
     },
     "execution_count": 104,
     "metadata": {},
     "output_type": "execute_result"
    }
   ],
   "source": [
    "cylinder(3, 10)"
   ]
  },
  {
   "cell_type": "code",
   "execution_count": 150,
   "id": "ad041a68-4456-4342-90be-8a7a01a2af13",
   "metadata": {},
   "outputs": [
    {
     "data": {
      "text/plain": [
       "942.0"
      ]
     },
     "execution_count": 150,
     "metadata": {},
     "output_type": "execute_result"
    }
   ],
   "source": [
    "cylinder(10, 3)"
   ]
  },
  {
   "cell_type": "code",
   "execution_count": 151,
   "id": "536b9df4-f589-49e2-b7b7-cdc700828e9e",
   "metadata": {},
   "outputs": [
    {
     "ename": "TypeError",
     "evalue": "cylinder() takes 2 positional arguments but 3 were given",
     "output_type": "error",
     "traceback": [
      "\u001b[1;31m---------------------------------------------------------------------------\u001b[0m",
      "\u001b[1;31mTypeError\u001b[0m                                 Traceback (most recent call last)",
      "Cell \u001b[1;32mIn[151], line 1\u001b[0m\n\u001b[1;32m----> 1\u001b[0m \u001b[43mcylinder\u001b[49m\u001b[43m(\u001b[49m\u001b[38;5;241;43m10\u001b[39;49m\u001b[43m,\u001b[49m\u001b[43m \u001b[49m\u001b[38;5;241;43m10\u001b[39;49m\u001b[43m,\u001b[49m\u001b[43m \u001b[49m\u001b[38;5;241;43m2\u001b[39;49m\u001b[43m)\u001b[49m\n",
      "\u001b[1;31mTypeError\u001b[0m: cylinder() takes 2 positional arguments but 3 were given"
     ]
    }
   ],
   "source": [
    "cylinder(10, 10, 2)"
   ]
  },
  {
   "cell_type": "markdown",
   "id": "084b144a-4e97-413e-9df9-c668be8a6d6d",
   "metadata": {},
   "source": [
    "### 기본값\n",
    "```python\n",
    "def func_name(p1=v1):\n",
    "    code1\n",
    "    return value\n",
    "```"
   ]
  },
  {
   "cell_type": "code",
   "execution_count": 112,
   "id": "b44e3541-04d9-4726-9015-ec00103bbb30",
   "metadata": {},
   "outputs": [],
   "source": [
    "def greeting(name='익명'):\n",
    "    return f'{name}님 반갑습니다.'"
   ]
  },
  {
   "cell_type": "code",
   "execution_count": 115,
   "id": "4e4eda56-d825-499e-ad95-0977bf1b211c",
   "metadata": {},
   "outputs": [
    {
     "data": {
      "text/plain": [
       "'익명님 반갑습니다.'"
      ]
     },
     "execution_count": 115,
     "metadata": {},
     "output_type": "execute_result"
    }
   ],
   "source": [
    "greeting()"
   ]
  },
  {
   "cell_type": "code",
   "execution_count": 129,
   "id": "c5d03c5b-b5e9-478c-9f3b-14362dacf6a3",
   "metadata": {},
   "outputs": [
    {
     "name": "stdout",
     "output_type": "stream",
     "text": [
      "안녕하세요 ? 반갑습니다.!!\n",
      "저는 김승현입니다.\n"
     ]
    }
   ],
   "source": [
    "print('안녕하세요', '반갑습니다.', sep=' ? ', end='!!\\n')\n",
    "print('저는 김승현입니다.')"
   ]
  },
  {
   "cell_type": "code",
   "execution_count": 139,
   "id": "0270aab9-564b-4872-91b1-7d09e6edab8e",
   "metadata": {},
   "outputs": [
    {
     "ename": "SyntaxError",
     "evalue": "parameter without a default follows parameter with a default (3185936571.py, line 1)",
     "output_type": "error",
     "traceback": [
      "\u001b[1;36m  Cell \u001b[1;32mIn[139], line 1\u001b[1;36m\u001b[0m\n\u001b[1;33m    def greeting(name='익명', age):\u001b[0m\n\u001b[1;37m                            ^\u001b[0m\n\u001b[1;31mSyntaxError\u001b[0m\u001b[1;31m:\u001b[0m parameter without a default follows parameter with a default\n"
     ]
    }
   ],
   "source": [
    "def greeting(name='익명', age):\n",
    "    return f'{name}님의 나이는 {age}살 입니다.'"
   ]
  },
  {
   "cell_type": "code",
   "execution_count": 142,
   "id": "999d4019-1aab-4330-a098-62710b309fcd",
   "metadata": {},
   "outputs": [],
   "source": [
    "def greeting(age, name='익명'):\n",
    "    return f'{name}님의 나이는 {age}살 입니다.'\n",
    "\n",
    "# 위치 인자보다 뒤에 있어야 해결."
   ]
  },
  {
   "cell_type": "code",
   "execution_count": 141,
   "id": "8c22008c-0f29-4367-a675-d5d45043e651",
   "metadata": {},
   "outputs": [
    {
     "data": {
      "text/plain": [
       "'익명님의 나이는 10살 입니다.'"
      ]
     },
     "execution_count": 141,
     "metadata": {},
     "output_type": "execute_result"
    }
   ],
   "source": [
    "greeting('승현', 10)\n",
    "greeting(10)"
   ]
  },
  {
   "cell_type": "markdown",
   "id": "45aa4dbf-bb72-43dc-ae61-5c41f511687d",
   "metadata": {},
   "source": [
    "## 키워드 인수\n",
    "- 함수를 호출(실행)할 때 내가 원하는 위치에 직접적으로 값을 전달."
   ]
  },
  {
   "cell_type": "code",
   "execution_count": 147,
   "id": "5c193f94-0b3c-452d-960d-4e6067b3c18e",
   "metadata": {},
   "outputs": [],
   "source": [
    "def greeting(age, name='익명'):\n",
    "    return f'{name}님은 {age}살입니다.'"
   ]
  },
  {
   "cell_type": "code",
   "execution_count": 148,
   "id": "a20cfb82-6f81-4630-9f49-19420bb1a335",
   "metadata": {},
   "outputs": [
    {
     "data": {
      "text/plain": [
       "'승현님은 10살입니다.'"
      ]
     },
     "execution_count": 148,
     "metadata": {},
     "output_type": "execute_result"
    }
   ],
   "source": [
    "greeting(10, '승현')\n",
    "greeting(10)\n",
    "greeting(name='승현', age=10)"
   ]
  },
  {
   "cell_type": "markdown",
   "id": "d7a6a168-8a31-4417-99e0-112b1b29c799",
   "metadata": {},
   "source": [
    "### 가변인자 리스트(*parms) - 변할 수 있는 인자들..\n",
    "```python\n",
    "def func_name(*parms):\n",
    "    code\n",
    "    ...\n",
    "    return value\n",
    "```"
   ]
  },
  {
   "cell_type": "code",
   "execution_count": 154,
   "id": "3f8cc2e2-d6b9-4e39-ab47-89bf8bb5d428",
   "metadata": {},
   "outputs": [
    {
     "name": "stdout",
     "output_type": "stream",
     "text": [
      "1 2 efef\n"
     ]
    }
   ],
   "source": [
    "print('1', '2', 'efef')"
   ]
  },
  {
   "cell_type": "code",
   "execution_count": 156,
   "id": "082b684e-5358-43c0-803d-d79131be8df3",
   "metadata": {},
   "outputs": [],
   "source": [
    "def my_print(*words):\n",
    "    print(words)"
   ]
  },
  {
   "cell_type": "code",
   "execution_count": 159,
   "id": "f8d02745-2727-41c6-9103-9e3dfa575a33",
   "metadata": {},
   "outputs": [
    {
     "name": "stdout",
     "output_type": "stream",
     "text": [
      "('my', 'name', 'is')\n"
     ]
    }
   ],
   "source": [
    "my_print('my', 'name', 'is')"
   ]
  },
  {
   "cell_type": "code",
   "execution_count": 160,
   "id": "4f5d9911-f452-466f-96b0-d7c3f681a13f",
   "metadata": {},
   "outputs": [
    {
     "data": {
      "text/plain": [
       "6"
      ]
     },
     "execution_count": 160,
     "metadata": {},
     "output_type": "execute_result"
    }
   ],
   "source": [
    "max(1, 3, 5, 6)"
   ]
  },
  {
   "cell_type": "code",
   "execution_count": 229,
   "id": "279592e3-89e5-4523-8f54-4fa8d38adae9",
   "metadata": {},
   "outputs": [],
   "source": [
    "def my_max(*sizes):\n",
    "    print(sizes)\n",
    "    # 나열까지는 가능, 이제 큰 수를 뽑아내야함.\n",
    "    # max_num = 0\n",
    "    max_num = sizes[0]  # 사과나무 예시 기억하기.\n",
    "\n",
    "    for sizes in sizes:\n",
    "        if max_num < sizes:\n",
    "            max_num = sizes\n",
    "\n",
    "    return max_num"
   ]
  },
  {
   "cell_type": "code",
   "execution_count": 231,
   "id": "3206ab36-1ae8-44c7-83fa-e518ff42a159",
   "metadata": {},
   "outputs": [
    {
     "name": "stdout",
     "output_type": "stream",
     "text": [
      "(-100, -999, -99, -6)\n"
     ]
    },
    {
     "data": {
      "text/plain": [
       "-6"
      ]
     },
     "execution_count": 231,
     "metadata": {},
     "output_type": "execute_result"
    }
   ],
   "source": [
    "my_max(-100, -999, -99, -6)"
   ]
  },
  {
   "cell_type": "code",
   "execution_count": 1,
   "id": "2b5ec57e-30b1-4187-b862-e545127c46d9",
   "metadata": {},
   "outputs": [
    {
     "ename": "NameError",
     "evalue": "name 'str' is not defined",
     "output_type": "error",
     "traceback": [
      "\u001b[1;31m---------------------------------------------------------------------------\u001b[0m",
      "\u001b[1;31mNameError\u001b[0m                                 Traceback (most recent call last)",
      "Cell \u001b[1;32mIn[1], line 1\u001b[0m\n\u001b[1;32m----> 1\u001b[0m \u001b[38;5;28;01mdel\u001b[39;00m \u001b[38;5;28;43mstr\u001b[39;49m\n",
      "\u001b[1;31mNameError\u001b[0m: name 'str' is not defined"
     ]
    }
   ],
   "source": [
    "del str"
   ]
  },
  {
   "cell_type": "code",
   "execution_count": 5,
   "id": "f1d14f15-a585-4fbb-b5ad-b48d1f6e176f",
   "metadata": {},
   "outputs": [
    {
     "ename": "TypeError",
     "evalue": "local_scope() takes 0 positional arguments but 1 was given",
     "output_type": "error",
     "traceback": [
      "\u001b[1;31m---------------------------------------------------------------------------\u001b[0m",
      "\u001b[1;31mTypeError\u001b[0m                                 Traceback (most recent call last)",
      "Cell \u001b[1;32mIn[5], line 7\u001b[0m\n\u001b[0;32m      4\u001b[0m     \u001b[38;5;28;01mreturn\u001b[39;00m a\n\u001b[0;32m      6\u001b[0m a \u001b[38;5;241m=\u001b[39m \u001b[38;5;124m'\u001b[39m\u001b[38;5;124m가나다라\u001b[39m\u001b[38;5;124m'\u001b[39m\n\u001b[1;32m----> 7\u001b[0m \u001b[43mlocal_scope\u001b[49m\u001b[43m(\u001b[49m\u001b[38;5;124;43m'\u001b[39;49m\u001b[38;5;124;43masdf\u001b[39;49m\u001b[38;5;124;43m'\u001b[39;49m\u001b[43m)\u001b[49m\n",
      "\u001b[1;31mTypeError\u001b[0m: local_scope() takes 0 positional arguments but 1 was given"
     ]
    }
   ],
   "source": [
    "a = 1\n",
    "\n",
    "def local_scope():\n",
    "    return a\n",
    "\n",
    "a = '가나다라'\n",
    "local_scope('asdf')"
   ]
  },
  {
   "cell_type": "code",
   "execution_count": 14,
   "id": "dced47be-f726-4bdd-b306-6f3efd22c7ca",
   "metadata": {},
   "outputs": [
    {
     "name": "stdout",
     "output_type": "stream",
     "text": [
      "1\n",
      "2\n",
      "3\n",
      "4\n",
      "5\n",
      "5\n"
     ]
    }
   ],
   "source": [
    "my_list = [1, 2, 3, 4, 5]\n",
    "for i in my_list:\n",
    "    # i = ...\n",
    "    print(i)\n",
    "print(i)"
   ]
  },
  {
   "cell_type": "code",
   "execution_count": 17,
   "id": "4d08a6aa-4c4a-45c0-a1d1-d6b97280d8f2",
   "metadata": {},
   "outputs": [
    {
     "data": {
      "text/plain": [
       "1"
      ]
     },
     "execution_count": 17,
     "metadata": {},
     "output_type": "execute_result"
    }
   ],
   "source": [
    "a = 0\n",
    "def global_scope():\n",
    "    global a\n",
    "    a = a + 1\n",
    "    return a\n",
    "\n",
    "global_scope()"
   ]
  },
  {
   "cell_type": "markdown",
   "id": "ccd57c6c-e602-4854-a74e-e0cde48eab02",
   "metadata": {},
   "source": [
    "### 정의되지 않은 키워드 인자 처리하기\n",
    "def func_name(**kwargs):\n",
    "    return value"
   ]
  },
  {
   "cell_type": "code",
   "execution_count": null,
   "id": "0bc66615-e985-4f47-8813-39b42d1674d1",
   "metadata": {},
   "outputs": [],
   "source": [
    "info = {\n",
    "    'name': 'hong',\n",
    "    'age': 10,\n",
    "}\n",
    "print(info)"
   ]
  },
  {
   "cell_type": "code",
   "execution_count": null,
   "id": "2b607544-8360-496d-bea4-dd2226aa11dc",
   "metadata": {},
   "outputs": [],
   "source": [
    "info = dict(name='kim', age=20, asdf='가나다라')\n",
    "print(info)"
   ]
  },
  {
   "cell_type": "code",
   "execution_count": null,
   "id": "d08c4a2a-2524-489e-91b3-fc0795efb98d",
   "metadata": {},
   "outputs": [],
   "source": [
    "def my_dict(**kwargs):\n",
    "    print(kwargs)\n",
    "\n",
    "my_dict(asdf='가나다', age=123, test='asdf')"
   ]
  },
  {
   "cell_type": "code",
   "execution_count": null,
   "id": "a087aaa8-51d6-4bda-b28c-fd5f04197e92",
   "metadata": {},
   "outputs": [],
   "source": [
    "def my_func(params1, params2='temp', *numbers, **kwargs):\n",
    "    return 0"
   ]
  },
  {
   "cell_type": "code",
   "execution_count": null,
   "id": "5c079e82-7cea-4c49-9665-dd4d5d21c9aa",
   "metadata": {},
   "outputs": [],
   "source": [
    "# my_func() => params1 부족으로 에러\n",
    "my_func(123) \n",
    "# => params1 = 123, params2 = 'temp'\n",
    "my_func(123, 234)\n",
    "# => params1 = 123, params2 = 234\n",
    "my_func(123, 234, 345, 567, 789, 890)\n",
    "# => parmas1 = 123, parmas2 = 234, numbers = (345, 567, 789, 890)\n",
    "my_func(123, 234, 345, 567, 789, 890, a=1, b=2, c=3)\n",
    "# kwargs = {a: 1, b: 2, c: 3}"
   ]
  },
  {
   "cell_type": "markdown",
   "id": "d184af75-4794-4175-a5a8-6b3906f81f55",
   "metadata": {},
   "source": [
    "### lambda 표현식\n",
    "lambda parameter: expression"
   ]
  },
  {
   "cell_type": "code",
   "execution_count": null,
   "id": "a5a220b8-cd02-4770-9fd8-84ce8217b008",
   "metadata": {},
   "outputs": [],
   "source": [
    "def my_sum(num1, num2):\n",
    "    return num1 + num2"
   ]
  },
  {
   "cell_type": "code",
   "execution_count": null,
   "id": "917ebd37-f768-47e2-80cb-b006127e55cd",
   "metadata": {},
   "outputs": [],
   "source": [
    "my_sum(100, 2)"
   ]
  },
  {
   "cell_type": "code",
   "execution_count": null,
   "id": "4056bb34-0c64-46af-a0e1-6eb084c92341",
   "metadata": {},
   "outputs": [],
   "source": [
    "(lambda num1, num2: num1 + num2)(1, 2)"
   ]
  },
  {
   "cell_type": "markdown",
   "id": "e5ae3f1a-179d-4dc4-b21b-85fcff695610",
   "metadata": {},
   "source": [
    "### 타입힌트"
   ]
  },
  {
   "cell_type": "code",
   "execution_count": null,
   "id": "c89f5280-a65f-4b95-a748-8c439fcab512",
   "metadata": {},
   "outputs": [],
   "source": [
    "def something(a: int, b: int) -> int:\n",
    "    return a + b\n",
    "\n",
    "something(1, 2)"
   ]
  },
  {
   "cell_type": "code",
   "execution_count": null,
   "id": "13af6b8d-87a4-41a3-9f21-f8f3d5a3e12e",
   "metadata": {},
   "outputs": [],
   "source": [
    "something('asdf', 'qwer')"
   ]
  },
  {
   "cell_type": "markdown",
   "id": "f84d7bfc-0324-4db7-ad8c-47adfb35a220",
   "metadata": {},
   "source": [
    "### 이름공간(namespace), 스코프(scope)\n",
    "python에서 사용하는 이름들은 이름공간에 저장되어있습니다. LEGB 룰에 따라 접근\n",
    "\n",
    "1. Local : 정의된 함수 내부\n",
    "2. Enclosed : 상위 함수\n",
    "3. Global : 함수 밖\n",
    "4. Built-in : python이 기본적으로 가지고 있는 함수"
   ]
  },
  {
   "cell_type": "code",
   "execution_count": 36,
   "id": "e8671a53-1478-41ec-8595-4d7b5405bbbb",
   "metadata": {},
   "outputs": [
    {
     "name": "stdout",
     "output_type": "stream",
     "text": [
      "123\n"
     ]
    }
   ],
   "source": [
    "result = str(123)\n",
    "print(result)"
   ]
  },
  {
   "cell_type": "code",
   "execution_count": null,
   "id": "0d16d57a-95fe-44e6-a69b-ac46a71b8570",
   "metadata": {},
   "outputs": [],
   "source": [
    "str = 'hello'"
   ]
  },
  {
   "cell_type": "code",
   "execution_count": 35,
   "id": "8c434bfa-300d-4567-b887-5ceb14b41eb3",
   "metadata": {},
   "outputs": [
    {
     "name": "stdout",
     "output_type": "stream",
     "text": [
      "123\n"
     ]
    }
   ],
   "source": [
    "result = str(123)\n",
    "print(result)"
   ]
  },
  {
   "cell_type": "code",
   "execution_count": null,
   "id": "a5eb1a72-cf06-43a4-a288-6602203e864d",
   "metadata": {},
   "outputs": [],
   "source": [
    "del str"
   ]
  },
  {
   "cell_type": "code",
   "execution_count": 34,
   "id": "a2bc2bbc-52cb-43bb-841e-54e562976e2a",
   "metadata": {},
   "outputs": [
    {
     "data": {
      "text/plain": [
       "'asdf'"
      ]
     },
     "execution_count": 34,
     "metadata": {},
     "output_type": "execute_result"
    }
   ],
   "source": [
    "a = 1\n",
    "\n",
    "def local_scope(a):\n",
    "    return a\n",
    "\n",
    "a = '가나다라'\n",
    "\n",
    "local_scope('asdf')"
   ]
  },
  {
   "cell_type": "code",
   "execution_count": 33,
   "id": "fa1e7a98-f080-4cf3-8550-4bd855b598ee",
   "metadata": {},
   "outputs": [
    {
     "data": {
      "text/plain": [
       "'가나다라'"
      ]
     },
     "execution_count": 33,
     "metadata": {},
     "output_type": "execute_result"
    }
   ],
   "source": [
    "a = 1\n",
    "\n",
    "def local_scope(b):\n",
    "    return a\n",
    "\n",
    "a = '가나다라'\n",
    "\n",
    "local_scope('asdf')"
   ]
  },
  {
   "cell_type": "code",
   "execution_count": 32,
   "id": "2a07269e-f5f0-4c9e-93c3-faf17560c672",
   "metadata": {},
   "outputs": [
    {
     "name": "stdout",
     "output_type": "stream",
     "text": [
      "1\n",
      "2\n",
      "3\n",
      "4\n",
      "5\n",
      "5\n"
     ]
    }
   ],
   "source": [
    "my_list = [1, 2, 3, 4, 5]\n",
    "for i in my_list:\n",
    "    # i = ...\n",
    "    print(i)\n",
    "print(i)"
   ]
  },
  {
   "cell_type": "code",
   "execution_count": 31,
   "id": "c989e1e4-a1eb-4a3f-9fff-c71d0fe40195",
   "metadata": {},
   "outputs": [
    {
     "data": {
      "text/plain": [
       "1"
      ]
     },
     "execution_count": 31,
     "metadata": {},
     "output_type": "execute_result"
    }
   ],
   "source": [
    "a = 0\n",
    "\n",
    "def global_scope():\n",
    "    global a\n",
    "    a = a + 1\n",
    "    return a\n",
    "\n",
    "global_scope()"
   ]
  },
  {
   "cell_type": "markdown",
   "id": "3b649c7d-0f02-4111-a681-f1c0aa19bdbb",
   "metadata": {},
   "source": [
    "### 재귀\n",
    "함수 내부에서 자기 자신을 호출하는 함수\n",
    "\n",
    "```\n",
    "n! = 1 * 2 * 3 * ... * n\n",
    "\n",
    "1! = 1\n",
    "2! = 1 * 2 = 1! * 2\n",
    "3! = 1 * 2 * 3 = 2! * 3\n",
    "n! = (n-1)! * n\n",
    "```"
   ]
  },
  {
   "cell_type": "code",
   "execution_count": 19,
   "id": "b09cb459-04d7-42eb-a234-e4e0de184864",
   "metadata": {},
   "outputs": [],
   "source": [
    "def fact(n):\n",
    "    if n == 1:\n",
    "        return 1\n",
    "    else:\n",
    "        return fact(n-1) * n"
   ]
  },
  {
   "cell_type": "code",
   "execution_count": 25,
   "id": "eca46807-525e-4cdf-a6d7-224dbfab4151",
   "metadata": {},
   "outputs": [
    {
     "data": {
      "text/plain": [
       "3628800"
      ]
     },
     "execution_count": 25,
     "metadata": {},
     "output_type": "execute_result"
    }
   ],
   "source": [
    "fact(10)"
   ]
  },
  {
   "cell_type": "code",
   "execution_count": 28,
   "id": "dfe7ae66-dff7-4b8a-828f-e814e10b3851",
   "metadata": {},
   "outputs": [],
   "source": [
    "# 피보나치 수열\n",
    "\n",
    "def fib():\n",
    "    if n == 0 or n == 1 :\n",
    "        return 1\n",
    "    else: \n",
    "        return fib(n-2) + fib(n-1)"
   ]
  },
  {
   "cell_type": "code",
   "execution_count": 30,
   "id": "e6306815-28eb-4aa7-8aeb-262056105331",
   "metadata": {},
   "outputs": [
    {
     "ename": "TypeError",
     "evalue": "fib() takes 0 positional arguments but 1 was given",
     "output_type": "error",
     "traceback": [
      "\u001b[1;31m---------------------------------------------------------------------------\u001b[0m",
      "\u001b[1;31mTypeError\u001b[0m                                 Traceback (most recent call last)",
      "Cell \u001b[1;32mIn[30], line 1\u001b[0m\n\u001b[1;32m----> 1\u001b[0m \u001b[43mfib\u001b[49m\u001b[43m(\u001b[49m\u001b[38;5;241;43m10\u001b[39;49m\u001b[43m)\u001b[49m\n",
      "\u001b[1;31mTypeError\u001b[0m: fib() takes 0 positional arguments but 1 was given"
     ]
    }
   ],
   "source": [
    "fib(10)"
   ]
  },
  {
   "cell_type": "code",
   "execution_count": null,
   "id": "b4c47b1f-dd1d-4738-9571-3ac649de5952",
   "metadata": {},
   "outputs": [],
   "source": []
  }
 ],
 "metadata": {
  "kernelspec": {
   "display_name": "Python 3 (ipykernel)",
   "language": "python",
   "name": "python3"
  },
  "language_info": {
   "codemirror_mode": {
    "name": "ipython",
    "version": 3
   },
   "file_extension": ".py",
   "mimetype": "text/x-python",
   "name": "python",
   "nbconvert_exporter": "python",
   "pygments_lexer": "ipython3",
   "version": "3.13.2"
  }
 },
 "nbformat": 4,
 "nbformat_minor": 5
}
