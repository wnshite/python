{
 "cells": [
  {
   "cell_type": "markdown",
   "id": "d8163ce8-eccc-4c6e-8b9e-44d0382c19fe",
   "metadata": {},
   "source": [
    "## 제어문"
   ]
  },
  {
   "cell_type": "markdown",
   "id": "2e02d403-43cc-4276-9c5e-90ebb4f91b1c",
   "metadata": {},
   "source": [
    "## 조건문(if문)\n",
    "\n",
    "1. if문은 반드시 참/거짓을 판단할 수 있는 `조건식`과 함께 사용한다.\n",
    "   - `if <조건식>:`\n",
    "2. `<조건식>` 참인경우 : `:` 이후의 문장을 실행\n",
    "3. `<조건식>` 거짓인경우 : `else:` 이후의 문장을 실행\n",
    "\n",
    "```\n",
    "if <조건식>:\n",
    "   if의 조건식이 참인 경우 실행\n",
    "else:\n",
    "   if의 조건식이 거짓인 경우 실행하는 코드\n",
    "```\n"
   ]
  },
  {
   "cell_type": "code",
   "execution_count": 10,
   "id": "d48e1350-e64e-4e37-8d6c-82b813c1e6be",
   "metadata": {},
   "outputs": [
    {
     "name": "stdin",
     "output_type": "stream",
     "text": [
      " 12/24\n"
     ]
    },
    {
     "name": "stdout",
     "output_type": "stream",
     "text": [
      "12/24\n",
      "no!\n"
     ]
    }
   ],
   "source": [
    "my_string = input()\n",
    "print(my_string)\n",
    "\n",
    "if my_string == '12/25':\n",
    "    print('merry christmas!!')\n",
    "else:\n",
    "    print('no!')"
   ]
  },
  {
   "cell_type": "code",
   "execution_count": 22,
   "id": "e9658e82-10b3-43ff-ae92-cbaf6c91cc10",
   "metadata": {},
   "outputs": [
    {
     "name": "stdin",
     "output_type": "stream",
     "text": [
      "숫자를 입력해주세요 10\n"
     ]
    },
    {
     "name": "stdout",
     "output_type": "stream",
     "text": [
      "even\n"
     ]
    }
   ],
   "source": [
    "num = input('숫자를 입력해주세요')\n",
    "\n",
    "if int(num) % 2 == 1:\n",
    "    print('odd')\n",
    "else:\n",
    "    print('even')"
   ]
  },
  {
   "cell_type": "code",
   "execution_count": 27,
   "id": "e1a152c6-8b28-422b-9b04-ee11f2279483",
   "metadata": {},
   "outputs": [
    {
     "name": "stdin",
     "output_type": "stream",
     "text": [
      " 1\n"
     ]
    },
    {
     "name": "stdout",
     "output_type": "stream",
     "text": [
      "odd\n"
     ]
    }
   ],
   "source": [
    "num = int(input())\n",
    "\n",
    "if num % 2 == 1:\n",
    "    print('odd')\n",
    "else:\n",
    "    print('even')"
   ]
  },
  {
   "cell_type": "code",
   "execution_count": 29,
   "id": "362f2357-8f5a-4084-b375-547403ac1792",
   "metadata": {},
   "outputs": [
    {
     "name": "stdin",
     "output_type": "stream",
     "text": [
      " 2\n"
     ]
    },
    {
     "name": "stdout",
     "output_type": "stream",
     "text": [
      "even\n"
     ]
    }
   ],
   "source": [
    "num = int(input())\n",
    "\n",
    "if num % 2 == 0:\n",
    "    print('even')\n",
    "else:\n",
    "    print('odd')"
   ]
  },
  {
   "cell_type": "code",
   "execution_count": 33,
   "id": "94eb2798-7b7a-4e94-9cd0-5dcf962f19d0",
   "metadata": {},
   "outputs": [
    {
     "name": "stdin",
     "output_type": "stream",
     "text": [
      " 3\n"
     ]
    },
    {
     "name": "stdout",
     "output_type": "stream",
     "text": [
      "odd\n"
     ]
    }
   ],
   "source": [
    "num = int(input())\n",
    "\n",
    "if num % 2:\n",
    "    print('odd')\n",
    "else: \n",
    "    print('even')"
   ]
  },
  {
   "cell_type": "code",
   "execution_count": 39,
   "id": "47a68532-ff8f-4e3c-a224-462f69e35ae3",
   "metadata": {},
   "outputs": [
    {
     "name": "stdin",
     "output_type": "stream",
     "text": [
      "5의 배수를 판단해드리겠습니다. 9\n"
     ]
    },
    {
     "name": "stdout",
     "output_type": "stream",
     "text": [
      "no\n"
     ]
    }
   ],
   "source": [
    "num = int(input('5의 배수를 판단해드리겠습니다.'))\n",
    "\n",
    "if num % 5 == 0:\n",
    "    print('yes')\n",
    "else:\n",
    "    print('no')"
   ]
  },
  {
   "cell_type": "code",
   "execution_count": 40,
   "id": "07086219-0207-4678-a442-8d2a293e44a3",
   "metadata": {},
   "outputs": [
    {
     "name": "stdin",
     "output_type": "stream",
     "text": [
      " 13\n"
     ]
    },
    {
     "name": "stdout",
     "output_type": "stream",
     "text": [
      "no\n"
     ]
    }
   ],
   "source": [
    "num = int(input())\n",
    "\n",
    "if num % 5:\n",
    "    print('no')\n",
    "else:\n",
    "    print('yes')\n"
   ]
  },
  {
   "cell_type": "markdown",
   "id": "6c91d4d7-9d4f-4a95-9850-4e61b0ccead2",
   "metadata": {},
   "source": [
    "### elif\n",
    "\n",
    "```\n",
    "if <조건식>:\n",
    "   if문이 참인경우\n",
    "elif <조건식>:\n",
    "   elif문이 참인경우\n",
    "else:\n",
    "   위의 모든 조건식이 거짓인경우\n",
    "```"
   ]
  },
  {
   "cell_type": "code",
   "execution_count": 48,
   "id": "afff7c56-b5d5-405c-8b5f-cb0cf1587398",
   "metadata": {},
   "outputs": [
    {
     "name": "stdin",
     "output_type": "stream",
     "text": [
      " 96\n"
     ]
    },
    {
     "name": "stdout",
     "output_type": "stream",
     "text": [
      "A\n",
      "great\n"
     ]
    }
   ],
   "source": [
    "score = int(input())\n",
    "\n",
    "if score >=  90:\n",
    "    print('A')\n",
    "    if score >= 95:\n",
    "        print('great')\n",
    "elif score >= 80:\n",
    "    print('B')\n",
    "elif score >= 70:\n",
    "    print('C')\n",
    "else:\n",
    "    print('F')\n",
    "    "
   ]
  },
  {
   "cell_type": "markdown",
   "id": "c4d2564b-1a9e-4888-a5bc-a583db9c0de8",
   "metadata": {},
   "source": [
    "### 조건표현식\n",
    "- `true_value if <조건식> else false_value`"
   ]
  },
  {
   "cell_type": "code",
   "execution_count": 112,
   "id": "e2c67188-f89f-4824-a57e-e0e77167073f",
   "metadata": {},
   "outputs": [
    {
     "name": "stdout",
     "output_type": "stream",
     "text": [
      "100\n"
     ]
    }
   ],
   "source": [
    "a = 0\n",
    "if True:\n",
    "    a = 100\n",
    "else:\n",
    "    a = -100\n",
    "\n",
    "print(a)"
   ]
  },
  {
   "cell_type": "code",
   "execution_count": 5,
   "id": "64336aa9-4963-4a4d-8912-93a30b641bfd",
   "metadata": {},
   "outputs": [
    {
     "name": "stdout",
     "output_type": "stream",
     "text": [
      "100\n"
     ]
    }
   ],
   "source": [
    "a = 100 if True else -100\n",
    "print(a)"
   ]
  },
  {
   "cell_type": "code",
   "execution_count": 11,
   "id": "0215d351-9fb0-4940-9dfa-fada62ccf97c",
   "metadata": {},
   "outputs": [
    {
     "name": "stdin",
     "output_type": "stream",
     "text": [
      " -200\n"
     ]
    },
    {
     "name": "stdout",
     "output_type": "stream",
     "text": [
      "0\n"
     ]
    }
   ],
   "source": [
    "num = int(input())\n",
    "\n",
    "if num >= 0:\n",
    "    result = num\n",
    "else:\n",
    "    result = 0\n",
    "print(result)"
   ]
  },
  {
   "cell_type": "code",
   "execution_count": 22,
   "id": "c5465f6d-5090-4e2d-acb1-ba18ac5d4030",
   "metadata": {},
   "outputs": [
    {
     "name": "stdin",
     "output_type": "stream",
     "text": [
      " -10\n"
     ]
    },
    {
     "name": "stdout",
     "output_type": "stream",
     "text": [
      "0\n"
     ]
    }
   ],
   "source": [
    "num = int(input())\n",
    "\n",
    "result = num if num >= 0 else 0\n",
    "print(result)"
   ]
  },
  {
   "cell_type": "code",
   "execution_count": 24,
   "id": "37c0c7b2-39ef-455b-bd06-a9c08931b15f",
   "metadata": {},
   "outputs": [
    {
     "name": "stdout",
     "output_type": "stream",
     "text": [
      "짝수\n"
     ]
    }
   ],
   "source": [
    "num = 10\n",
    "result = '홀수' if num % 2 else '짝수'\n",
    "print(result)"
   ]
  },
  {
   "cell_type": "code",
   "execution_count": 36,
   "id": "7a49730f-c17c-490b-9f2c-61cd612e69e2",
   "metadata": {},
   "outputs": [
    {
     "name": "stdout",
     "output_type": "stream",
     "text": [
      "짝수\n"
     ]
    }
   ],
   "source": [
    "num = 10\n",
    "\n",
    "if num % 2:\n",
    "    result = '홀수'\n",
    "else:\n",
    "    result = '짝수'\n",
    "print(result)"
   ]
  },
  {
   "cell_type": "markdown",
   "id": "b79bd26d-ff11-4669-803d-b85079893c32",
   "metadata": {},
   "source": [
    "## 반복문"
   ]
  },
  {
   "cell_type": "markdown",
   "id": "ef85ab49-e836-4866-b87a-21f1a70676b1",
   "metadata": {},
   "source": [
    "### while문\n",
    "```\n",
    "while <조건식>:\n",
    "      실행할 코드\n",
    "```"
   ]
  },
  {
   "cell_type": "code",
   "execution_count": 39,
   "id": "e72472fe-137b-47f0-abd9-636d75de2a59",
   "metadata": {},
   "outputs": [
    {
     "name": "stdout",
     "output_type": "stream",
     "text": [
      "0\n",
      "1\n",
      "2\n",
      "3\n",
      "4\n"
     ]
    }
   ],
   "source": [
    "a = 0\n",
    "\n",
    "while a < 5:\n",
    "    print(a)\n",
    "    a += 1"
   ]
  },
  {
   "cell_type": "markdown",
   "id": "d80baf86-cf5e-4394-922f-0ad3edbfa73c",
   "metadata": {},
   "source": [
    "### for 문\n",
    "- 정해진 범위 내의 반복\n",
    "```\n",
    "for var_name in sequence:\n",
    "    code\n",
    "```"
   ]
  },
  {
   "cell_type": "code",
   "execution_count": 41,
   "id": "785025d7-210c-46af-bed5-f9cacf1d4288",
   "metadata": {},
   "outputs": [
    {
     "name": "stdout",
     "output_type": "stream",
     "text": [
      "1\n",
      "2\n",
      "3\n",
      "4\n",
      "5\n"
     ]
    }
   ],
   "source": [
    "numbers = [1, 2, 3, 4, 5]\n",
    "\n",
    "for number in numbers:\n",
    "    print(number)\n"
   ]
  },
  {
   "cell_type": "code",
   "execution_count": 48,
   "id": "1e5894f5-e868-4603-b7b3-a40ce644fb5e",
   "metadata": {},
   "outputs": [
    {
     "name": "stdout",
     "output_type": "stream",
     "text": [
      "a\n",
      "p\n",
      "p\n",
      "l\n",
      "e\n"
     ]
    }
   ],
   "source": [
    "word = 'apple'\n",
    "\n",
    "for char in word:\n",
    "    print(char)"
   ]
  },
  {
   "cell_type": "code",
   "execution_count": 49,
   "id": "0712194f-9280-44be-b153-6b22ec6cbce3",
   "metadata": {},
   "outputs": [
    {
     "name": "stdout",
     "output_type": "stream",
     "text": [
      "0\n",
      "1\n",
      "2\n",
      "3\n",
      "4\n"
     ]
    }
   ],
   "source": [
    "for i in range(5):\n",
    "    print(i)"
   ]
  },
  {
   "cell_type": "code",
   "execution_count": 54,
   "id": "0669af2d-2b3e-4ab5-8271-a282fb09e932",
   "metadata": {},
   "outputs": [
    {
     "name": "stdout",
     "output_type": "stream",
     "text": [
      "5\n",
      "10\n",
      "15\n",
      "20\n",
      "25\n",
      "30\n",
      "35\n",
      "40\n",
      "45\n",
      "50\n"
     ]
    }
   ],
   "source": [
    "numbers = range(1, 51)\n",
    "\n",
    "for number in numbers:\n",
    "    if number % 5 == 0:\n",
    "        print(number)"
   ]
  },
  {
   "cell_type": "code",
   "execution_count": 57,
   "id": "98d3871d-c558-409b-ba03-74391ef857a5",
   "metadata": {},
   "outputs": [
    {
     "name": "stdout",
     "output_type": "stream",
     "text": [
      "(0, '서울')\n",
      "(1, '부산')\n",
      "(2, '대전')\n"
     ]
    }
   ],
   "source": [
    "locations = ['서울', '부산', '대전']\n",
    "for location in enumerate(locations):\n",
    "    print(location)"
   ]
  },
  {
   "cell_type": "code",
   "execution_count": 58,
   "id": "ae067400-6927-404f-8977-f8d96d3c68b2",
   "metadata": {},
   "outputs": [
    {
     "name": "stdout",
     "output_type": "stream",
     "text": [
      "0\n",
      "서울\n",
      "1\n",
      "부산\n",
      "2\n",
      "대전\n"
     ]
    }
   ],
   "source": [
    "locations = ['서울', '부산', '대전']\n",
    "for (index, location) in enumerate(locations):\n",
    "    print(index)\n",
    "    print(location)"
   ]
  },
  {
   "cell_type": "markdown",
   "id": "26c5a7c9-14ad-4b76-b294-b68f69c1e8c1",
   "metadata": {},
   "source": [
    "### dictionary 반복(key만 뽑아오는 경우, values를 반복하는 경우...)\n",
    "1. for key in dict\n",
    "2. for key in dict.keys():\n",
    "3. for value in dict.values():\n",
    "4. for key, value in dict.items():  ----- 제일 많이 쓰는 방법."
   ]
  },
  {
   "cell_type": "code",
   "execution_count": 83,
   "id": "c6dd2c4c-39b4-4d02-9d88-efc02d559235",
   "metadata": {},
   "outputs": [],
   "source": [
    "info = {\n",
    "    'name' : 'seunghyun',\n",
    "    'location' : 'seoul',\n",
    "    'phone' : '010-6789-6794',\n",
    "    'age' : 21,\n",
    "}\n"
   ]
  },
  {
   "cell_type": "code",
   "execution_count": 64,
   "id": "cf5eeccd-0643-4c28-9276-7cf47799e595",
   "metadata": {},
   "outputs": [
    {
     "name": "stdout",
     "output_type": "stream",
     "text": [
      "name\n",
      "location\n",
      "phone\n",
      "age\n"
     ]
    }
   ],
   "source": [
    "for k in info:\n",
    "    print(k)"
   ]
  },
  {
   "cell_type": "code",
   "execution_count": 66,
   "id": "1a6873c5-dea7-44d7-b221-9724e383fe1c",
   "metadata": {},
   "outputs": [
    {
     "name": "stdout",
     "output_type": "stream",
     "text": [
      "name\n",
      "seunghyun\n",
      "location\n",
      "seoul\n",
      "phone\n",
      "010-6789-6794\n",
      "age\n",
      "21\n"
     ]
    }
   ],
   "source": [
    "for k in info.keys():\n",
    "    print(k)\n",
    "    print(info[k])"
   ]
  },
  {
   "cell_type": "code",
   "execution_count": 67,
   "id": "73ee6222-5abc-4a5a-8706-06d31ec8cb29",
   "metadata": {},
   "outputs": [
    {
     "name": "stdout",
     "output_type": "stream",
     "text": [
      "seunghyun\n",
      "seoul\n",
      "010-6789-6794\n",
      "21\n"
     ]
    }
   ],
   "source": [
    "for v in info.values():\n",
    "    print(v)"
   ]
  },
  {
   "cell_type": "code",
   "execution_count": 69,
   "id": "35fc3d18-c564-4624-b331-be08e5a45e1f",
   "metadata": {},
   "outputs": [
    {
     "name": "stdout",
     "output_type": "stream",
     "text": [
      "name seunghyun\n",
      "location seoul\n",
      "phone 010-6789-6794\n",
      "age 21\n"
     ]
    }
   ],
   "source": [
    "for k, v in info.items():\n",
    "    print(k, v)"
   ]
  },
  {
   "cell_type": "code",
   "execution_count": 82,
   "id": "6f69dac6-1e37-4831-89cb-04dc71da93c4",
   "metadata": {},
   "outputs": [],
   "source": [
    "blood_type = {\n",
    "    'A' : 15,\n",
    "    'B': 8,\n",
    "    'O' : 6,\n",
    "    'AB': 3,\n",
    "}"
   ]
  },
  {
   "cell_type": "code",
   "execution_count": 74,
   "id": "41559414-1b06-4b30-b7a8-b1f755871b4d",
   "metadata": {},
   "outputs": [
    {
     "name": "stdout",
     "output_type": "stream",
     "text": [
      "혈액형의 종류는 다음과 같습니다.\n",
      "A\n",
      "B\n",
      "O\n",
      "AB\n"
     ]
    }
   ],
   "source": [
    "# 혈액형은 ~가 있습니다.\n",
    "print('혈액형의 종류는 다음과 같습니다.')\n",
    "\n",
    "for blood in blood_type:\n",
    "    print(blood)\n"
   ]
  },
  {
   "cell_type": "code",
   "execution_count": 80,
   "id": "688c18ac-6027-4d1b-9d32-58703ee29315",
   "metadata": {},
   "outputs": [
    {
     "name": "stdout",
     "output_type": "stream",
     "text": [
      "총 학생은 다음과 같습니다.\n",
      "32\n"
     ]
    }
   ],
   "source": [
    "# 총 학생은 몇 명입니다.\n",
    "print('총 학생은 다음과 같습니다.')\n",
    "\n",
    "result = 0\n",
    "for number in blood_type.values():\n",
    "    result = result + number\n",
    "print(result)"
   ]
  },
  {
   "cell_type": "code",
   "execution_count": 84,
   "id": "861b8064-d1a1-4325-96ac-c6ee84fcb4ec",
   "metadata": {},
   "outputs": [
    {
     "name": "stdout",
     "output_type": "stream",
     "text": [
      "A형은 15명입니다.\n",
      "B형은 8명입니다.\n",
      "O형은 6명입니다.\n",
      "AB형은 3명입니다.\n"
     ]
    }
   ],
   "source": [
    "for k, v in blood_type.items():\n",
    "    print(f'{k}형은 {v}명입니다.')"
   ]
  },
  {
   "cell_type": "markdown",
   "id": "76c2859b-cb5b-4b93-873a-0a3544123bd5",
   "metadata": {},
   "source": [
    "### break\n",
    "반복문을 종료시키는 키워드"
   ]
  },
  {
   "cell_type": "code",
   "execution_count": 93,
   "id": "26319f16-3bc5-49a4-9d0d-0cd9683c552a",
   "metadata": {},
   "outputs": [
    {
     "name": "stdout",
     "output_type": "stream",
     "text": [
      "여기는 for문 0\n",
      "여기는 for문 1\n",
      "여기는 for문 2\n",
      "여기는 for문 3\n",
      "여기는 for문 4\n",
      "여기는 for문 5\n",
      "여기는 for문 6\n",
      "브레이크\n"
     ]
    }
   ],
   "source": [
    "for i in range(100):\n",
    "    print('여기는 for문', i)\n",
    "    if i > 5:\n",
    "        print('브레이크')\n",
    "        break;"
   ]
  },
  {
   "cell_type": "code",
   "execution_count": 95,
   "id": "a27f24c4-46bf-4ce0-ac73-2f0ffc2e2a8f",
   "metadata": {},
   "outputs": [
    {
     "name": "stdin",
     "output_type": "stream",
     "text": [
      " asdf\n",
      " asdf'asdf\n",
      " 보리\n",
      " 보리\n",
      " 보리\n",
      " 쌀\n"
     ]
    },
    {
     "name": "stdout",
     "output_type": "stream",
     "text": [
      "잡았다~!\n"
     ]
    }
   ],
   "source": [
    "while True:\n",
    "    rice = input()\n",
    "    if rice == '쌀':\n",
    "        print('잡았다~!')\n",
    "        break;"
   ]
  },
  {
   "cell_type": "markdown",
   "id": "2828fa4d-eadc-4d7b-b9cb-7f21a95a4b96",
   "metadata": {},
   "source": [
    "### continue\n",
    "continue 이후의 코드를 실행하지 않고 다음 반복을 진행(특정 상황에서 스킵하고 싶을 때 사용)"
   ]
  },
  {
   "cell_type": "code",
   "execution_count": 99,
   "id": "4e717639-2b12-4f91-bd01-a31ac0c73a02",
   "metadata": {},
   "outputs": [
    {
     "name": "stdout",
     "output_type": "stream",
     "text": [
      "0\n",
      "2\n",
      "4\n",
      "6\n",
      "8\n",
      "10\n",
      "12\n",
      "14\n",
      "16\n",
      "18\n"
     ]
    }
   ],
   "source": [
    "for i in range(20):\n",
    "    if i % 2 == 1:\n",
    "        continue\n",
    "    print(i)"
   ]
  },
  {
   "cell_type": "code",
   "execution_count": 100,
   "id": "ecd33fde-b16b-4dbc-a20b-6409ea7313eb",
   "metadata": {},
   "outputs": [
    {
     "name": "stdout",
     "output_type": "stream",
     "text": [
      "20살은 성인입니다.\n",
      "30살은 성인입니다.\n"
     ]
    }
   ],
   "source": [
    "ages = [10, 20, 30, 9, 6, 7]\n",
    "for age in ages:\n",
    "    if age < 20:\n",
    "        continue\n",
    "    print(f'{age}살은 성인입니다.')"
   ]
  },
  {
   "cell_type": "markdown",
   "id": "d7d2f550-b81d-4126-9529-a46435a29f6e",
   "metadata": {},
   "source": [
    "### else\n",
    "else 문은 끝까지 반복된 경우 실행됩니다.\n",
    "break를 만나지 않은 경우에 실행됩니다."
   ]
  },
  {
   "cell_type": "code",
   "execution_count": 110,
   "id": "7936cde3-27bc-40e7-b6d9-780dd833438e",
   "metadata": {},
   "outputs": [
    {
     "name": "stdout",
     "output_type": "stream",
     "text": [
      "0\n",
      "1\n",
      "2\n",
      "3\n",
      "4\n",
      "5\n",
      "6\n",
      "7\n",
      "8\n",
      "9\n",
      "모두 완료입니다.\n"
     ]
    }
   ],
   "source": [
    "for i in range(10):\n",
    "    if i > 10:\n",
    "        break;\n",
    "    print(i)\n",
    "else:\n",
    "    print('모두 완료입니다.')"
   ]
  },
  {
   "cell_type": "code",
   "execution_count": null,
   "id": "b88caaa1-beec-4f65-8597-0c87f0bc363e",
   "metadata": {},
   "outputs": [],
   "source": []
  },
  {
   "cell_type": "code",
   "execution_count": null,
   "id": "7ad1942c-27dd-4357-9f76-62658c1e7721",
   "metadata": {},
   "outputs": [],
   "source": []
  },
  {
   "cell_type": "code",
   "execution_count": null,
   "id": "4d50e246-46cc-425b-b25b-97454f8ab068",
   "metadata": {},
   "outputs": [],
   "source": []
  },
  {
   "cell_type": "code",
   "execution_count": null,
   "id": "7ff4b3e2-7a07-4132-b8eb-ea15c9c68d52",
   "metadata": {},
   "outputs": [],
   "source": []
  }
 ],
 "metadata": {
  "kernelspec": {
   "display_name": "Python 3 (ipykernel)",
   "language": "python",
   "name": "python3"
  },
  "language_info": {
   "codemirror_mode": {
    "name": "ipython",
    "version": 3
   },
   "file_extension": ".py",
   "mimetype": "text/x-python",
   "name": "python",
   "nbconvert_exporter": "python",
   "pygments_lexer": "ipython3",
   "version": "3.13.2"
  }
 },
 "nbformat": 4,
 "nbformat_minor": 5
}
