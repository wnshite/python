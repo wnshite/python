{
 "cells": [
  {
   "cell_type": "markdown",
   "id": "92fc6baf-edd7-4274-8c37-eca9ff080142",
   "metadata": {},
   "source": [
    "## 객체지향 프로그래밍(OOP)\n",
    "\n",
    "- 클래스(class): 같은 종류의 집단에 속하는 `속성`과 `행동`을 정의한 것\n",
    "- 속성(attribute): 클래스/인스턴스가 가지고 있는 데이터/값\n",
    "- 행동(method): 클래스/인스턴스가 가지고 있는 함수/기능\n",
    "- 인스턴스(instance): 클래스를 실제로 메모리상에 할당한 것"
   ]
  },
  {
   "cell_type": "code",
   "execution_count": 9,
   "id": "09d7a654-3251-45c8-80a3-3b9376675d32",
   "metadata": {},
   "outputs": [],
   "source": [
    "number = 1 + 2j"
   ]
  },
  {
   "cell_type": "code",
   "execution_count": 10,
   "id": "4fdfad14-28af-4e5d-ac3a-7df887e89cd3",
   "metadata": {},
   "outputs": [
    {
     "name": "stdout",
     "output_type": "stream",
     "text": [
      "<class 'complex'>\n"
     ]
    }
   ],
   "source": [
    "print(type(number))"
   ]
  },
  {
   "cell_type": "code",
   "execution_count": 11,
   "id": "fcc66de8-5f98-47d5-a8e8-0e6ed22d09e9",
   "metadata": {},
   "outputs": [
    {
     "name": "stdout",
     "output_type": "stream",
     "text": [
      "1.0\n",
      "2.0\n"
     ]
    }
   ],
   "source": [
    "print(number.real) # ->실수\n",
    "print(number.imag) # ->허수"
   ]
  },
  {
   "cell_type": "code",
   "execution_count": 25,
   "id": "825b9919-50d8-49df-8d3a-1842c868fb9e",
   "metadata": {},
   "outputs": [],
   "source": [
    "numbers = [4, 5, 6]"
   ]
  },
  {
   "cell_type": "code",
   "execution_count": 26,
   "id": "850189ae-2b6d-490c-bb99-7ead36f9fa2b",
   "metadata": {},
   "outputs": [
    {
     "name": "stdout",
     "output_type": "stream",
     "text": [
      "<class 'list'>\n"
     ]
    }
   ],
   "source": [
    "print(type(numbers))"
   ]
  },
  {
   "cell_type": "code",
   "execution_count": 27,
   "id": "dcbf21fc-09c3-40dc-a95b-1580c4a1fef4",
   "metadata": {},
   "outputs": [
    {
     "name": "stdout",
     "output_type": "stream",
     "text": [
      "[6, 5, 4]\n"
     ]
    }
   ],
   "source": [
    "numbers.reverse()\n",
    "print(numbers)"
   ]
  },
  {
   "cell_type": "code",
   "execution_count": 29,
   "id": "0c3e7afb-8a49-4baa-acc7-56d8e75e7eee",
   "metadata": {},
   "outputs": [
    {
     "ename": "NameError",
     "evalue": "name 'Duck' is not defined",
     "output_type": "error",
     "traceback": [
      "\u001b[1;31m---------------------------------------------------------------------------\u001b[0m",
      "\u001b[1;31mNameError\u001b[0m                                 Traceback (most recent call last)",
      "Cell \u001b[1;32mIn[29], line 1\u001b[0m\n\u001b[1;32m----> 1\u001b[0m \u001b[43mDuck\u001b[49m\u001b[38;5;241m.\u001b[39mrun()  \u001b[38;5;66;03m# ->오리가 달린다.......\u001b[39;00m\n",
      "\u001b[1;31mNameError\u001b[0m: name 'Duck' is not defined"
     ]
    }
   ],
   "source": [
    "Duck.run()  # ->오리가 달린다......."
   ]
  },
  {
   "cell_type": "code",
   "execution_count": 31,
   "id": "1a357a05-c61f-4f07-bfce-1ee83fbd5d3b",
   "metadata": {},
   "outputs": [
    {
     "name": "stdout",
     "output_type": "stream",
     "text": [
      "010-1234-5678가 010-0000-0000한테 전화 거는 중\n"
     ]
    }
   ],
   "source": [
    "number = '010-1234-5678'\n",
    "power = True\n",
    "phone_book = {\n",
    "    'kim' : '010-0000-0000',\n",
    "    'pyo' : '010-3333-3333',\n",
    "}\n",
    "\n",
    "def call(from_num, to_num):\n",
    "    print(f'{from_num}가 {to_num}한테 전화 거는 중')\n",
    "\n",
    "call(number, phone_book['kim'])\n"
   ]
  },
  {
   "cell_type": "markdown",
   "id": "e29d98b5-e183-4e9a-9da3-c0fd3b76999d",
   "metadata": {},
   "source": [
    "## class\n",
    "\n",
    "- 클래스 선언/정의\n",
    "```python\n",
    "class ClassName():\n",
    "    attribute1 = value1\n",
    "    attribute2 = value2\n",
    "    ...\n",
    "\n",
    "    def method_name1(self):\n",
    "        code\n",
    "    def method_numbe2(self):\n",
    "        code\n",
    "    ...\n",
    "    \n",
    "```\n",
    "- 인스턴스화 (클래스 실행)\n",
    "```python\n",
    "c = ClassName()\n",
    "```"
   ]
  },
  {
   "cell_type": "code",
   "execution_count": 33,
   "id": "ff6c0c77-4b07-4622-9f1e-531674bb1ea7",
   "metadata": {},
   "outputs": [],
   "source": [
    "# 변수선언해서 데이터 넣고, 함수 선언해서 결과값 출력 --> 이걸 클래스로 묶을 뿐."
   ]
  },
  {
   "cell_type": "code",
   "execution_count": 34,
   "id": "817b0a81-800c-420d-8981-a80727461237",
   "metadata": {},
   "outputs": [],
   "source": [
    "# 선언\n",
    "class MyClass():\n",
    "    name = 'kim'\n",
    "\n",
    "    def hello(self):\n",
    "        return 'hihihi'"
   ]
  },
  {
   "cell_type": "code",
   "execution_count": 36,
   "id": "df49b48c-e4d1-46fd-a781-6e3fb373a280",
   "metadata": {},
   "outputs": [],
   "source": [
    "# 인스턴스화\n",
    "m = MyClass()"
   ]
  },
  {
   "cell_type": "code",
   "execution_count": 39,
   "id": "df6a3e44-66cd-4cd1-9414-68bfa731f717",
   "metadata": {},
   "outputs": [
    {
     "name": "stdout",
     "output_type": "stream",
     "text": [
      "<class '__main__.MyClass'>\n"
     ]
    }
   ],
   "source": [
    "print(type(m))"
   ]
  },
  {
   "cell_type": "code",
   "execution_count": 42,
   "id": "e627c64f-d0d0-44ed-92e5-df2d9c966dae",
   "metadata": {},
   "outputs": [
    {
     "name": "stdout",
     "output_type": "stream",
     "text": [
      "kim\n",
      "hihihi\n"
     ]
    }
   ],
   "source": [
    "print(m.name)\n",
    "print(m.hello())"
   ]
  },
  {
   "cell_type": "code",
   "execution_count": 43,
   "id": "381f0386-7649-47b2-8e1d-d3b29e069aaf",
   "metadata": {},
   "outputs": [],
   "source": [
    "m2 = MyClass()"
   ]
  },
  {
   "cell_type": "code",
   "execution_count": 44,
   "id": "ceed8973-e5ee-495b-95c5-87ec121d5e67",
   "metadata": {},
   "outputs": [
    {
     "name": "stdout",
     "output_type": "stream",
     "text": [
      "kim\n",
      "hihihi\n"
     ]
    }
   ],
   "source": [
    "print(m2.name)\n",
    "print(m2.hello())"
   ]
  },
  {
   "cell_type": "code",
   "execution_count": 48,
   "id": "35992a65-faf6-497b-b222-b4bd51c17641",
   "metadata": {},
   "outputs": [
    {
     "name": "stdout",
     "output_type": "stream",
     "text": [
      "kim\n",
      "pyo\n"
     ]
    }
   ],
   "source": [
    "m2.name = 'pyo'\n",
    "\n",
    "print(m.name)\n",
    "print(m2.name)"
   ]
  },
  {
   "cell_type": "code",
   "execution_count": 73,
   "id": "e0129807-ac38-4b13-af50-1bc2ea5b68d5",
   "metadata": {},
   "outputs": [],
   "source": [
    "class Phone():\n",
    "    power = False\n",
    "    number = '010-0000-0000'\n",
    "    book = {}\n",
    "    model = ''\n",
    "\n",
    "    def on(self):\n",
    "        if self.power == False:\n",
    "            self.power = True\n",
    "            \n",
    "    def off(self):\n",
    "        if self.power == True:\n",
    "            self.power = False\n",
    "\n",
    "    def call(self, target):\n",
    "        if self.power == True:\n",
    "            print(f'{self.number}가 {target.number}한테 전화거는 중...')\n",
    "        else:\n",
    "            print('핸드폰이 꺼져있습니다.')"
   ]
  },
  {
   "cell_type": "code",
   "execution_count": 74,
   "id": "95cdc656-0361-4532-bd1c-9cea9520360d",
   "metadata": {},
   "outputs": [],
   "source": [
    "my_phone = Phone()\n",
    "your_phone = Phone()"
   ]
  },
  {
   "cell_type": "code",
   "execution_count": 75,
   "id": "c1ccc1e6-2479-407a-8a2c-9688bef4e354",
   "metadata": {},
   "outputs": [
    {
     "data": {
      "text/plain": [
       "'010-0000-0000'"
      ]
     },
     "execution_count": 75,
     "metadata": {},
     "output_type": "execute_result"
    }
   ],
   "source": [
    "my_phone.number"
   ]
  },
  {
   "cell_type": "code",
   "execution_count": 76,
   "id": "38cef4d8-8818-45b2-8567-e930410f960f",
   "metadata": {},
   "outputs": [
    {
     "data": {
      "text/plain": [
       "'010-0000-0000'"
      ]
     },
     "execution_count": 76,
     "metadata": {},
     "output_type": "execute_result"
    }
   ],
   "source": [
    "your_phone.number"
   ]
  },
  {
   "cell_type": "code",
   "execution_count": 77,
   "id": "6ceee3e7-b360-4e85-8c20-9039effa7575",
   "metadata": {},
   "outputs": [
    {
     "name": "stdout",
     "output_type": "stream",
     "text": [
      "010-2345-6783\n"
     ]
    }
   ],
   "source": [
    "my_phone.number = '010-2345-6783'\n",
    "print(my_phone.number)"
   ]
  },
  {
   "cell_type": "code",
   "execution_count": 78,
   "id": "88ba16d9-0925-420d-ad5a-8230b222eeb1",
   "metadata": {},
   "outputs": [
    {
     "data": {
      "text/plain": [
       "False"
      ]
     },
     "execution_count": 78,
     "metadata": {},
     "output_type": "execute_result"
    }
   ],
   "source": [
    "my_phone.power"
   ]
  },
  {
   "cell_type": "code",
   "execution_count": 79,
   "id": "6c7e7a8d-2e90-40dc-b6e7-023b90d54160",
   "metadata": {},
   "outputs": [],
   "source": [
    "my_phone.on()"
   ]
  },
  {
   "cell_type": "code",
   "execution_count": 80,
   "id": "5a63a368-cf5c-49e8-a2b8-3f81a1958fcc",
   "metadata": {},
   "outputs": [
    {
     "data": {
      "text/plain": [
       "True"
      ]
     },
     "execution_count": 80,
     "metadata": {},
     "output_type": "execute_result"
    }
   ],
   "source": [
    "my_phone.power"
   ]
  },
  {
   "cell_type": "code",
   "execution_count": 81,
   "id": "91613f57-5765-431c-b555-c1b79f1b6f03",
   "metadata": {},
   "outputs": [
    {
     "data": {
      "text/plain": [
       "False"
      ]
     },
     "execution_count": 81,
     "metadata": {},
     "output_type": "execute_result"
    }
   ],
   "source": [
    "your_phone.power"
   ]
  },
  {
   "cell_type": "code",
   "execution_count": 86,
   "id": "cbec1f2a-c65c-4714-b8b5-465485191013",
   "metadata": {},
   "outputs": [
    {
     "name": "stdout",
     "output_type": "stream",
     "text": [
      "010-2345-6783가 010-0000-0000한테 전화거는 중...\n"
     ]
    }
   ],
   "source": [
    "my_phone.call(your_phone)"
   ]
  },
  {
   "cell_type": "code",
   "execution_count": 87,
   "id": "2880c37f-f9a1-45db-b106-cacb6a3aa0df",
   "metadata": {},
   "outputs": [
    {
     "name": "stdout",
     "output_type": "stream",
     "text": [
      "핸드폰이 꺼져있습니다.\n"
     ]
    }
   ],
   "source": [
    "your_phone.call(my_phone)"
   ]
  },
  {
   "cell_type": "code",
   "execution_count": 90,
   "id": "432656c1-0ca8-496c-b874-891dca552dec",
   "metadata": {},
   "outputs": [],
   "source": [
    "class Person():\n",
    "    name = ''\n",
    "    age = 0\n",
    "    gender = ''\n",
    "    job = ''\n",
    "\n",
    "    def greeting(self):\n",
    "        print(f'안녕하세요. 나는 {self.name}입니다.')\n",
    "\n",
    "    def grow(self):\n",
    "        self.age += 1"
   ]
  },
  {
   "cell_type": "code",
   "execution_count": 97,
   "id": "1040a441-2442-4623-a73a-be404e3c139b",
   "metadata": {},
   "outputs": [],
   "source": [
    "# 인스턴스화\n",
    "p1 = Person()\n",
    "p2 = Person()"
   ]
  },
  {
   "cell_type": "code",
   "execution_count": 98,
   "id": "6e33954d-919c-43c1-8313-096b6ff5eb5c",
   "metadata": {},
   "outputs": [],
   "source": [
    "p1.name = 'pyo'\n",
    "p2.name = 'kim'\n",
    "\n",
    "p1.gender = 'F'\n",
    "p2.gender = 'M'\n",
    "\n",
    "p1.age = 24\n",
    "p1.age = 23\n",
    "\n",
    "p1.job = 'cook'\n",
    "p2.job = 'trip'  # --> 사람이라는 존재를 먼저 정의하고 그 후의 값을 넣자... 는 식의 방식."
   ]
  },
  {
   "cell_type": "code",
   "execution_count": 99,
   "id": "01e992bf-d594-4e0b-aacc-97a754ca1fdc",
   "metadata": {},
   "outputs": [
    {
     "name": "stdout",
     "output_type": "stream",
     "text": [
      "안녕하세요. 나는 pyo입니다.\n"
     ]
    }
   ],
   "source": [
    "p1.greeting()"
   ]
  },
  {
   "cell_type": "code",
   "execution_count": 100,
   "id": "92bdd238-56d7-4c94-a739-a7bd8b0ef941",
   "metadata": {},
   "outputs": [
    {
     "name": "stdout",
     "output_type": "stream",
     "text": [
      "안녕하세요. 나는 kim입니다.\n"
     ]
    }
   ],
   "source": [
    "p2.greeting()"
   ]
  },
  {
   "cell_type": "code",
   "execution_count": 110,
   "id": "48b14314-6c59-409e-84c4-52d46fbfad8a",
   "metadata": {},
   "outputs": [
    {
     "name": "stdout",
     "output_type": "stream",
     "text": [
      "안녕하세요. 나는 pyo입니다.\n",
      "안녕하세요. 나는 pyo입니다.\n"
     ]
    }
   ],
   "source": [
    "Person.greeting(p1)\n",
    "p1.greeting()"
   ]
  },
  {
   "cell_type": "markdown",
   "id": "89b668a4-7a16-4f53-af1c-655698f94907",
   "metadata": {},
   "source": [
    "## 생성자, 소멸자\n",
    "\n",
    "```python\n",
    "class MyClass():\n",
    "\n",
    "    def __init__(self):\n",
    "        pass\n",
    "    def __del__(self):\n",
    "        pass\n",
    "```\n"
   ]
  },
  {
   "cell_type": "code",
   "execution_count": 148,
   "id": "51393dbb-b6ba-4804-90ac-2b45cb08032a",
   "metadata": {},
   "outputs": [],
   "source": [
    "class Person():\n",
    "    name = ''\n",
    "\n",
    "    def __init__(self, name):\n",
    "        self.name = name\n",
    "        print('생성됨')\n",
    "\n",
    "    def __del__(self):\n",
    "        print('소멸됨')"
   ]
  },
  {
   "cell_type": "code",
   "execution_count": 163,
   "id": "6614ec66-7761-4f18-9cac-53d893e22af2",
   "metadata": {},
   "outputs": [
    {
     "name": "stdout",
     "output_type": "stream",
     "text": [
      "생성됨\n",
      "소멸됨\n",
      "생성됨\n",
      "소멸됨\n"
     ]
    }
   ],
   "source": [
    "# 인스턴스화\n",
    "p1 = Person('pyo')  # --> Person.__init__(p1, ????)\n",
    "p2 = Person('Lee')"
   ]
  },
  {
   "cell_type": "code",
   "execution_count": 164,
   "id": "2ce01211-3bf6-4b62-bd29-37882fe8881e",
   "metadata": {},
   "outputs": [
    {
     "name": "stdout",
     "output_type": "stream",
     "text": [
      "소멸됨\n"
     ]
    }
   ],
   "source": [
    "del p1"
   ]
  },
  {
   "cell_type": "code",
   "execution_count": 165,
   "id": "2a11b120-346a-4bac-9bbb-07437917087b",
   "metadata": {},
   "outputs": [
    {
     "name": "stdout",
     "output_type": "stream",
     "text": [
      "소멸됨\n"
     ]
    }
   ],
   "source": [
    "del p2"
   ]
  },
  {
   "cell_type": "code",
   "execution_count": 210,
   "id": "d7071e92-14a4-48e7-bd61-4912e35384a4",
   "metadata": {},
   "outputs": [],
   "source": [
    "class Circle():\n",
    "    pi = 3.14\n",
    "    \n",
    "    def __init__(self, r, x=0, y=0):\n",
    "        self.r = r\n",
    "        self.x = x\n",
    "        self.y = y\n",
    "\n",
    "    def info(self):\n",
    "        print(f'반지름:{self.r} , 중심점:{self.x}, {self.y} ')\n",
    "\n",
    "    def area(self):\n",
    "        return self.r ** 2 ** self.pi\n",
    "\n",
    "    def round(self):\n",
    "        return self.r * self.pi * 2\n",
    "\n",
    "    def move(self, x, y):\n",
    "        self.x = x\n",
    "        self.y = y"
   ]
  },
  {
   "cell_type": "code",
   "execution_count": 211,
   "id": "6fa18864-be72-4b58-b7a0-48568afcecd0",
   "metadata": {},
   "outputs": [],
   "source": [
    "c1 = Circle(5)\n",
    "c2 = Circle(3, 1, 1)"
   ]
  },
  {
   "cell_type": "code",
   "execution_count": 212,
   "id": "b4a76993-51d2-42f6-a8b2-d88530973566",
   "metadata": {},
   "outputs": [
    {
     "name": "stdout",
     "output_type": "stream",
     "text": [
      "반지름:5 , 중심점:0, 0 \n",
      "반지름:3 , 중심점:1, 1 \n"
     ]
    }
   ],
   "source": [
    "c1.info()\n",
    "c2.info()"
   ]
  },
  {
   "cell_type": "code",
   "execution_count": 213,
   "id": "dfe2a431-c450-4eb7-9f04-bd41b660b2f4",
   "metadata": {},
   "outputs": [
    {
     "name": "stdout",
     "output_type": "stream",
     "text": [
      "1450738.0068769094\n",
      "16067.148651657151\n"
     ]
    }
   ],
   "source": [
    "print(c1.area())\n",
    "print(c2.area())"
   ]
  },
  {
   "cell_type": "code",
   "execution_count": 216,
   "id": "8b33fa88-f431-405b-af7b-11e07504a450",
   "metadata": {},
   "outputs": [
    {
     "name": "stdout",
     "output_type": "stream",
     "text": [
      "31.400000000000002\n"
     ]
    }
   ],
   "source": [
    "print(c1.round())"
   ]
  },
  {
   "cell_type": "code",
   "execution_count": 215,
   "id": "3dae0fe0-ff85-4be0-9ec2-d8aa7e5920ec",
   "metadata": {},
   "outputs": [
    {
     "name": "stdout",
     "output_type": "stream",
     "text": [
      "반지름:5 , 중심점:100, 100 \n"
     ]
    }
   ],
   "source": [
    "c1.move(100, 100)\n",
    "c1.info()"
   ]
  },
  {
   "cell_type": "code",
   "execution_count": 230,
   "id": "ab0d5218-0579-425c-8466-f371ab3bb981",
   "metadata": {},
   "outputs": [],
   "source": [
    "class Point():\n",
    "    def __init__(self, x, y):\n",
    "        self.x = x\n",
    "        self.y = y\n",
    "\n",
    "    def into(self):\n",
    "        print(f'{self.x}, {self.y}')"
   ]
  },
  {
   "cell_type": "code",
   "execution_count": 231,
   "id": "f19ec665-cdbc-44e3-89eb-d2c4cdb56b01",
   "metadata": {},
   "outputs": [],
   "source": [
    "p1 = Point(1, 1)\n",
    "p2 = Point(2, 3)"
   ]
  },
  {
   "cell_type": "code",
   "execution_count": 258,
   "id": "1d7f5691-c398-4426-9676-be654262d7c2",
   "metadata": {},
   "outputs": [],
   "source": [
    "# 선언\n",
    "class Circle():\n",
    "    def __init__(self, r, point):\n",
    "        self.r = r\n",
    "        self.point = point  # --> 재사용성을 편하게 하는데 class를 계속 사용...\n",
    "        \n",
    "    def info(self):\n",
    "        point = self.point\n",
    "        x = point.x\n",
    "        y = point.y\n",
    "        print(f'반지름: {self.r} 중심점: {x}, {y}')"
   ]
  },
  {
   "cell_type": "code",
   "execution_count": 259,
   "id": "a04ee516-0689-463c-a35f-ce9c1d7a9830",
   "metadata": {},
   "outputs": [],
   "source": [
    "# 생성\n",
    "c1 = Circle(10, p1)\n",
    "c2 = Circle(5, p2)"
   ]
  },
  {
   "cell_type": "code",
   "execution_count": 260,
   "id": "9cc35aef-940c-4f10-96ae-74cdb76b475c",
   "metadata": {},
   "outputs": [
    {
     "name": "stdout",
     "output_type": "stream",
     "text": [
      "반지름: 10 중심점: 1, 1\n"
     ]
    }
   ],
   "source": [
    "c1.info()"
   ]
  },
  {
   "cell_type": "code",
   "execution_count": 270,
   "id": "8f50bf26-76e3-485c-89e0-23e20565e5e9",
   "metadata": {},
   "outputs": [],
   "source": [
    "class Cook():\n",
    "    name = ''\n",
    "\n",
    "    def __init__(self, okay, no):\n",
    "        self.okay = okay\n",
    "        self.no = no\n",
    "\n",
    "    def info(self):\n",
    "        print(f'{self.okay}점에 {self.no}점 입니다.')"
   ]
  },
  {
   "cell_type": "code",
   "execution_count": 271,
   "id": "267d7d30-bd05-4dd2-a341-6900c76b1088",
   "metadata": {},
   "outputs": [],
   "source": [
    "m1 = Cook(10, 10)"
   ]
  },
  {
   "cell_type": "code",
   "execution_count": 272,
   "id": "0dace75a-3fac-4574-8686-446499c83006",
   "metadata": {},
   "outputs": [
    {
     "name": "stdout",
     "output_type": "stream",
     "text": [
      "10점에 10점 입니다.\n"
     ]
    }
   ],
   "source": [
    "m1.info()"
   ]
  },
  {
   "cell_type": "markdown",
   "id": "e68a5c91-85e7-4897-95ef-b017f7996a11",
   "metadata": {},
   "source": [
    "### 클래스 변수 / 인스턴스 변수\n",
    "\n",
    "- 클래스 변수 : 클래스 선언 블록 최상단에 위치\n",
    "- 인스턴스 변수 : 인스턴스 내부에서 생성한 변수\n",
    "\n",
    "```python\n",
    "class MyClass():\n",
    "    class_variable = '클래스변수'\n",
    "\n",
    "    def __init__(self):\n",
    "        self.instance_variable = '인스턴스변수'\n",
    "```"
   ]
  },
  {
   "cell_type": "code",
   "execution_count": 279,
   "id": "bf5192ec-df2f-4035-acdc-681abcbacd9a",
   "metadata": {},
   "outputs": [],
   "source": [
    "class Person():\n",
    "    name = 'hong'\n",
    "    age = 10\n",
    "\n",
    "    def __init__(self, name):\n",
    "        self.name = name"
   ]
  },
  {
   "cell_type": "code",
   "execution_count": 280,
   "id": "081de0e0-ade4-4a3f-84c0-971286708d11",
   "metadata": {},
   "outputs": [
    {
     "name": "stdout",
     "output_type": "stream",
     "text": [
      "oh\n",
      "10\n"
     ]
    }
   ],
   "source": [
    "p1 = Person('oh')\n",
    "print(p1.name)\n",
    "print(p1.age)"
   ]
  },
  {
   "cell_type": "markdown",
   "id": "c208f470-fe25-4e61-bab1-8daeb9cbef01",
   "metadata": {},
   "source": [
    "### 클래스 메소드/ 인스턴스 메소드/ 스태틱메소드\n",
    "\n",
    "```python\n",
    "class MyClass():\n",
    "\n",
    "    def instance_method(self):\n",
    "        pass\n",
    "\n",
    "    @classmethod\n",
    "    def class_method(cls):\n",
    "        pass\n",
    "\n",
    "    @staticmethod\n",
    "    def static_method():\n",
    "        pass\n",
    "```"
   ]
  },
  {
   "cell_type": "code",
   "execution_count": 281,
   "id": "4f04c9cc-2033-4163-8081-316f901ee816",
   "metadata": {},
   "outputs": [],
   "source": [
    "class MyClass():\n",
    "    def instance_method(self):\n",
    "        print(self)\n",
    "\n",
    "    @classmethod\n",
    "    def class_method(cls):\n",
    "        print(cls)\n",
    "\n",
    "    @staticmethod\n",
    "    def static_method():\n",
    "        print('static')"
   ]
  },
  {
   "cell_type": "code",
   "execution_count": 287,
   "id": "bd5272b4-bc45-481a-a297-a1888605c366",
   "metadata": {},
   "outputs": [
    {
     "name": "stdout",
     "output_type": "stream",
     "text": [
      "<__main__.MyClass object at 0x00000167D2AF5350>\n",
      "<__main__.MyClass object at 0x00000167D2AF5350>\n"
     ]
    }
   ],
   "source": [
    "mc = MyClass()\n",
    "mc.instance_method() # -> self\n",
    "print(mc)"
   ]
  },
  {
   "cell_type": "code",
   "execution_count": 288,
   "id": "afbb83b0-a033-4437-925e-8db845694752",
   "metadata": {},
   "outputs": [
    {
     "name": "stdout",
     "output_type": "stream",
     "text": [
      "<class '__main__.MyClass'>\n",
      "<class '__main__.MyClass'>\n"
     ]
    }
   ],
   "source": [
    "mc.class_method() # -> cls\n",
    "print(MyClass)"
   ]
  },
  {
   "cell_type": "code",
   "execution_count": 289,
   "id": "46a39d64-ef9c-4297-885b-540a29198a0d",
   "metadata": {},
   "outputs": [
    {
     "name": "stdout",
     "output_type": "stream",
     "text": [
      "static\n"
     ]
    }
   ],
   "source": [
    "mc.static_method()"
   ]
  },
  {
   "cell_type": "code",
   "execution_count": 317,
   "id": "e3c0c6e9-702c-4405-8647-001e5dbf1819",
   "metadata": {},
   "outputs": [],
   "source": [
    "class Puppy():\n",
    "    num_of_puppy = 0\n",
    "\n",
    "    def __init__(self, name):\n",
    "        self.name = name\n",
    "        Puppy.num_of_puppy += 1\n",
    "\n",
    "    @classmethod  # -> self에 입력값을 넣어야 한다면 classmethod. 사용 빈도 많음.\n",
    "    def info(cls):\n",
    "        print(f'현재 강아지는 {cls.num_of_puppy}마리입니다.')\n",
    "\n",
    "    def bark(self):\n",
    "        print(f'멍멍! {self.name}입니다.')\n",
    "\n",
    "    @staticmethod  # -> self에 입력값을 넣지 않아도 된다면 staticmethod. 사용 빈도 낮음.\n",
    "    def bark2():\n",
    "        print('왈왈!')\n",
    "    "
   ]
  },
  {
   "cell_type": "code",
   "execution_count": 318,
   "id": "6da1b705-4304-4479-a6f3-8362eefde5d9",
   "metadata": {},
   "outputs": [
    {
     "name": "stdout",
     "output_type": "stream",
     "text": [
      "현재 강아지는 3마리입니다.\n"
     ]
    }
   ],
   "source": [
    "p1 = Puppy('딸기')\n",
    "p2 = Puppy('초코')\n",
    "p3 = Puppy('인절미')\n",
    "\n",
    "Puppy.info()"
   ]
  },
  {
   "cell_type": "code",
   "execution_count": 319,
   "id": "b83b7c61-2440-470f-943c-5c16cef9eb5f",
   "metadata": {},
   "outputs": [
    {
     "name": "stdout",
     "output_type": "stream",
     "text": [
      "멍멍! 딸기입니다.\n",
      "왈왈!\n",
      "멍멍! 초코입니다.\n"
     ]
    }
   ],
   "source": [
    "p1.bark()\n",
    "p2.bark2()\n",
    "p2.bark()"
   ]
  },
  {
   "cell_type": "markdown",
   "id": "2ef5fa44-c97e-482d-b1e8-ffa23e711a90",
   "metadata": {},
   "source": [
    "## 상속"
   ]
  },
  {
   "cell_type": "code",
   "execution_count": 331,
   "id": "6d77907f-cb57-43bd-aff1-95b062acf180",
   "metadata": {},
   "outputs": [],
   "source": [
    "class Person():\n",
    "    ident = ''\n",
    "\n",
    "    def __init__(self, name):\n",
    "        self.name = name\n",
    "\n",
    "    def greeting(self):\n",
    "        print(f'안녕하세요. {self.name}입니다.')\n",
    "        "
   ]
  },
  {
   "cell_type": "code",
   "execution_count": 332,
   "id": "769c6d3b-d79c-4b68-b2ed-47159c6d9cd4",
   "metadata": {},
   "outputs": [],
   "source": [
    "p1 = Person('pyo')\n",
    "p2 = Person('kim')"
   ]
  },
  {
   "cell_type": "code",
   "execution_count": 333,
   "id": "e179f7ab-3a42-40e0-89ce-5a5177474679",
   "metadata": {},
   "outputs": [
    {
     "name": "stdout",
     "output_type": "stream",
     "text": [
      "안녕하세요. pyo입니다.\n",
      "안녕하세요. kim입니다.\n"
     ]
    }
   ],
   "source": [
    "p1.greeting()\n",
    "p2.greeting()"
   ]
  },
  {
   "cell_type": "code",
   "execution_count": 355,
   "id": "947bd3f6-3170-403a-9a07-718dad01435e",
   "metadata": {},
   "outputs": [],
   "source": [
    "class Soldier(Person):  # --> 상속 개념\n",
    "    def greeting(self):\n",
    "        print(f'충성! {self.name}입니다.')\n",
    "    # ident = ''\n",
    "\n",
    "    # def __init__(self, name):\n",
    "    #     self.name = name\n",
    "\n",
    "    # def greeting(self):\n",
    "    #     print(f'안녕하세요. {self.name}입니다.')\n",
    "    "
   ]
  },
  {
   "cell_type": "code",
   "execution_count": 356,
   "id": "266a951d-7083-4ac4-ab51-cfe624157fb6",
   "metadata": {},
   "outputs": [
    {
     "name": "stdout",
     "output_type": "stream",
     "text": [
      "충성! 굳건이입니다.\n"
     ]
    }
   ],
   "source": [
    "s1 = Soldier('굳건이')\n",
    "s1.greeting()\n",
    "# s1.soldier_greeting()"
   ]
  },
  {
   "cell_type": "code",
   "execution_count": 357,
   "id": "e6017ea4-3ef8-4f79-88a7-b38bf0a78076",
   "metadata": {},
   "outputs": [
    {
     "data": {
      "text/plain": [
       "'1234-1234'"
      ]
     },
     "execution_count": 357,
     "metadata": {},
     "output_type": "execute_result"
    }
   ],
   "source": [
    "s1.ident = '1234-1234'\n",
    "s1.ident"
   ]
  },
  {
   "cell_type": "code",
   "execution_count": 362,
   "id": "c3bd13ae-aafe-4ad9-96f8-c172ffbe3109",
   "metadata": {},
   "outputs": [],
   "source": [
    "class Person():\n",
    "    def __init__(self, name, age, email, phone):\n",
    "        self.name = name\n",
    "        self.age = age\n",
    "        self.email = email\n",
    "        self.phone = phone\n",
    "\n",
    "class Student(Person):\n",
    "    def __init__(self, name, age, email, phone, student_id):\n",
    "        super().__init__(name, age, email, phone)\n",
    "        self.student_id = student_id"
   ]
  },
  {
   "cell_type": "markdown",
   "id": "3c15f8e9-4484-4cbf-b572-6c30064c7311",
   "metadata": {},
   "source": [
    "## 다중상속(다이아몬드 상속)"
   ]
  },
  {
   "cell_type": "code",
   "execution_count": 364,
   "id": "4fd0e23a-cf29-4435-a0b8-d1a1fd31287c",
   "metadata": {},
   "outputs": [],
   "source": [
    "class Person():\n",
    "    def __init__(self, name):\n",
    "        self.name = name\n",
    "\n",
    "    def breath(self):\n",
    "        print('후하')\n",
    "    "
   ]
  },
  {
   "cell_type": "code",
   "execution_count": 368,
   "id": "ea649495-af14-4cd8-b63a-2217115126c3",
   "metadata": {},
   "outputs": [],
   "source": [
    "class Mom(Person):\n",
    "    gene = 'xx'\n",
    "\n",
    "    def swim(self):\n",
    "        print('어푸어푸')"
   ]
  },
  {
   "cell_type": "code",
   "execution_count": 369,
   "id": "7558258c-c52e-4c99-800a-c6df8c4c79bb",
   "metadata": {},
   "outputs": [],
   "source": [
    "class Dad(Person):\n",
    "    gene = 'xy'\n",
    "\n",
    "    def run(self):\n",
    "        print('다다다')"
   ]
  },
  {
   "cell_type": "code",
   "execution_count": 379,
   "id": "499474fe-8521-49f6-a992-01eb1bbf7780",
   "metadata": {},
   "outputs": [],
   "source": [
    "class Child(Dad, Mom):\n",
    "    pass\n",
    "    "
   ]
  },
  {
   "cell_type": "code",
   "execution_count": 380,
   "id": "a8142515-6008-41fe-8aa5-ac3d5cace79b",
   "metadata": {},
   "outputs": [
    {
     "name": "stdout",
     "output_type": "stream",
     "text": [
      "어푸어푸\n",
      "다다다\n",
      "후하\n"
     ]
    }
   ],
   "source": [
    "c = Child('금쪽이')\n",
    "c.swim()\n",
    "c.run()\n",
    "c.breath()"
   ]
  },
  {
   "cell_type": "code",
   "execution_count": 381,
   "id": "06c1ba04-48bc-421b-a88d-82aae2032f76",
   "metadata": {},
   "outputs": [
    {
     "data": {
      "text/plain": [
       "'xy'"
      ]
     },
     "execution_count": 381,
     "metadata": {},
     "output_type": "execute_result"
    }
   ],
   "source": [
    "c.gene"
   ]
  },
  {
   "cell_type": "code",
   "execution_count": null,
   "id": "fa1c71c5-8662-461e-9683-3795796f5295",
   "metadata": {},
   "outputs": [],
   "source": []
  }
 ],
 "metadata": {
  "kernelspec": {
   "display_name": "Python 3 (ipykernel)",
   "language": "python",
   "name": "python3"
  },
  "language_info": {
   "codemirror_mode": {
    "name": "ipython",
    "version": 3
   },
   "file_extension": ".py",
   "mimetype": "text/x-python",
   "name": "python",
   "nbconvert_exporter": "python",
   "pygments_lexer": "ipython3",
   "version": "3.13.2"
  }
 },
 "nbformat": 4,
 "nbformat_minor": 5
}
