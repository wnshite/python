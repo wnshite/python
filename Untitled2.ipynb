{
 "cells": [
  {
   "cell_type": "code",
   "execution_count": 7,
   "id": "62362d5d-f82e-4251-ba4b-7ea2016cd746",
   "metadata": {},
   "outputs": [],
   "source": [
    "money = '3,000'"
   ]
  },
  {
   "cell_type": "code",
   "execution_count": 8,
   "id": "93b7bd20-35b6-4f6c-b6ff-94c3a8f0ed5a",
   "metadata": {},
   "outputs": [
    {
     "name": "stdout",
     "output_type": "stream",
     "text": [
      "아이스티는 3,000원 입니다.\n"
     ]
    }
   ],
   "source": [
    "print(f'아이스티는 {money}원 입니다.')"
   ]
  },
  {
   "cell_type": "code",
   "execution_count": 13,
   "id": "5f02a848-70b0-4ee0-baaa-b9ffd068ec91",
   "metadata": {},
   "outputs": [],
   "source": [
    "a = '아이스티'\n",
    "b = '맛있어'"
   ]
  },
  {
   "cell_type": "code",
   "execution_count": 14,
   "id": "55b0cfba-7800-4fc5-bb1f-3c921e8d598a",
   "metadata": {},
   "outputs": [
    {
     "name": "stdout",
     "output_type": "stream",
     "text": [
      "아이스티맛있어\n"
     ]
    }
   ],
   "source": [
    "print(a + b)"
   ]
  },
  {
   "cell_type": "code",
   "execution_count": 15,
   "id": "25fc164b-07da-41a6-acbf-0235af085915",
   "metadata": {},
   "outputs": [],
   "source": [
    "c = 1 + 1j"
   ]
  },
  {
   "cell_type": "code",
   "execution_count": 16,
   "id": "4f779117-f1df-46ec-a107-c57772323a2e",
   "metadata": {},
   "outputs": [
    {
     "data": {
      "text/plain": [
       "(1+1j)"
      ]
     },
     "execution_count": 16,
     "metadata": {},
     "output_type": "execute_result"
    }
   ],
   "source": [
    "c"
   ]
  },
  {
   "cell_type": "code",
   "execution_count": 18,
   "id": "45c278a7-63b7-40d4-b4de-755c8e0ba925",
   "metadata": {},
   "outputs": [],
   "source": [
    "a = 'hello'\n",
    "b = 'hi'"
   ]
  },
  {
   "cell_type": "code",
   "execution_count": 20,
   "id": "71898ebf-6a0a-42ae-8a16-cb5dbfb39204",
   "metadata": {},
   "outputs": [
    {
     "name": "stdout",
     "output_type": "stream",
     "text": [
      "hellohi\n"
     ]
    }
   ],
   "source": [
    "print(a + b)"
   ]
  },
  {
   "cell_type": "code",
   "execution_count": 28,
   "id": "2be53cbc-a6c2-4bfa-b68c-d35aef4d947c",
   "metadata": {},
   "outputs": [
    {
     "name": "stdout",
     "output_type": "stream",
     "text": [
      "hello my name is seunghyun\n"
     ]
    }
   ],
   "source": [
    "print('hello my name is seunghyun')"
   ]
  },
  {
   "cell_type": "code",
   "execution_count": 34,
   "id": "09d2b236-06f5-4cff-a678-6b4c6c5dd320",
   "metadata": {},
   "outputs": [],
   "source": [
    "a = '''\n",
    "hi\n",
    "my name\n",
    "seunghyun\n",
    "'''"
   ]
  },
  {
   "cell_type": "code",
   "execution_count": 36,
   "id": "6f7d0c84-602e-45bb-bbb3-5264833ba60d",
   "metadata": {},
   "outputs": [
    {
     "data": {
      "text/plain": [
       "'\\nhi\\nmy name\\nseunghyun\\n'"
      ]
     },
     "execution_count": 36,
     "metadata": {},
     "output_type": "execute_result"
    }
   ],
   "source": [
    "a"
   ]
  },
  {
   "cell_type": "code",
   "execution_count": 38,
   "id": "21dd12d3-654b-44fc-b525-c24cb50e60c7",
   "metadata": {},
   "outputs": [
    {
     "name": "stdout",
     "output_type": "stream",
     "text": [
      "hi\n",
      "my name\n",
      "seunghyun\n"
     ]
    }
   ],
   "source": [
    "print('hi\\nmy name\\nseunghyun')"
   ]
  },
  {
   "cell_type": "code",
   "execution_count": 55,
   "id": "eda6a7bb-1bcd-4476-99c4-ced43fb09877",
   "metadata": {},
   "outputs": [],
   "source": [
    "a = '30000'\n",
    "b = '원 가방'"
   ]
  },
  {
   "cell_type": "code",
   "execution_count": 57,
   "id": "65c893de-44c7-45fd-883e-da512ddd1c22",
   "metadata": {},
   "outputs": [
    {
     "name": "stdout",
     "output_type": "stream",
     "text": [
      "30000원 가방\n"
     ]
    }
   ],
   "source": [
    "print(str(a + b))"
   ]
  },
  {
   "cell_type": "code",
   "execution_count": 60,
   "id": "9270d84b-64a4-4524-8980-48999def5e40",
   "metadata": {},
   "outputs": [],
   "source": [
    "c = 3\n",
    "d = float(c)"
   ]
  },
  {
   "cell_type": "code",
   "execution_count": 61,
   "id": "f2dfe464-307f-4ce1-885c-656e149f0eee",
   "metadata": {},
   "outputs": [
    {
     "data": {
      "text/plain": [
       "3"
      ]
     },
     "execution_count": 61,
     "metadata": {},
     "output_type": "execute_result"
    }
   ],
   "source": [
    "c"
   ]
  },
  {
   "cell_type": "code",
   "execution_count": 63,
   "id": "a5105bf4-3661-4e19-a69c-19c261ad9147",
   "metadata": {},
   "outputs": [
    {
     "data": {
      "text/plain": [
       "False"
      ]
     },
     "execution_count": 63,
     "metadata": {},
     "output_type": "execute_result"
    }
   ],
   "source": [
    "1 > 2"
   ]
  },
  {
   "cell_type": "code",
   "execution_count": 65,
   "id": "b873b750-5f09-4ecc-8d0f-e4bf11b8f782",
   "metadata": {},
   "outputs": [
    {
     "name": "stdout",
     "output_type": "stream",
     "text": [
      "False\n"
     ]
    }
   ],
   "source": [
    "print(1 > 2)"
   ]
  },
  {
   "cell_type": "code",
   "execution_count": 66,
   "id": "cb3ef23f-030c-4e6d-892b-258c57ce1fd1",
   "metadata": {},
   "outputs": [
    {
     "name": "stdout",
     "output_type": "stream",
     "text": [
      "False\n",
      "True\n"
     ]
    }
   ],
   "source": [
    "print(bool([]))\n",
    "print(bool([1, 2, 3]))"
   ]
  },
  {
   "cell_type": "code",
   "execution_count": 69,
   "id": "184ea38b-3831-4fbf-9957-35cc9478f2f1",
   "metadata": {},
   "outputs": [
    {
     "name": "stdout",
     "output_type": "stream",
     "text": [
      "True\n",
      "True\n"
     ]
    }
   ],
   "source": [
    "print(bool([1, 2, 3, 4]))\n",
    "print(bool([1, 2, 3]))"
   ]
  },
  {
   "cell_type": "code",
   "execution_count": 73,
   "id": "e16ee1be-ab92-4ce4-b1ef-bb6972bfd128",
   "metadata": {},
   "outputs": [],
   "source": [
    "c = '3'\n",
    "d = int(c)"
   ]
  },
  {
   "cell_type": "code",
   "execution_count": 78,
   "id": "f15d19d5-29bc-4dcc-8071-59026ee13fa1",
   "metadata": {},
   "outputs": [
    {
     "name": "stdout",
     "output_type": "stream",
     "text": [
      "3\n"
     ]
    }
   ],
   "source": [
    "print(c)"
   ]
  },
  {
   "cell_type": "code",
   "execution_count": null,
   "id": "8afa6bc6-7bf9-4e94-84e5-adddc5609307",
   "metadata": {},
   "outputs": [],
   "source": []
  },
  {
   "cell_type": "markdown",
   "id": "22e9ad9d-6806-4b31-9223-a1e9fb94ec7a",
   "metadata": {},
   "source": [
    "##### num= int(input('정수를 입력하세요.'))\n",
    "\n",
    "total_sum = 0\n",
    "a = 1\n",
    "\n",
    "while a < num:\n",
    "    total_sum += a\n",
    "    a += 1\n",
    "print('합:', total_sum)"
   ]
  },
  {
   "cell_type": "code",
   "execution_count": 26,
   "id": "d85b4ada-013e-4df1-a42c-e66501fbde48",
   "metadata": {},
   "outputs": [
    {
     "name": "stdin",
     "output_type": "stream",
     "text": [
      " -200\n"
     ]
    },
    {
     "name": "stdout",
     "output_type": "stream",
     "text": [
      "0\n"
     ]
    }
   ],
   "source": [
    "num = int(input())\n",
    "\n",
    "if num >= 0:\n",
    "    result = num\n",
    "else:\n",
    "    result = 0\n",
    "print(result)"
   ]
  },
  {
   "cell_type": "code",
   "execution_count": 44,
   "id": "de1cd01a-6d90-4a59-90b9-be917e90f509",
   "metadata": {},
   "outputs": [
    {
     "name": "stdin",
     "output_type": "stream",
     "text": [
      " 40\n"
     ]
    },
    {
     "name": "stdout",
     "output_type": "stream",
     "text": [
      "50\n"
     ]
    }
   ],
   "source": [
    "num = int(input())\n",
    "\n",
    "if num >= 50:\n",
    "    result = num\n",
    "else:\n",
    "    result = 50\n",
    "print(result)"
   ]
  },
  {
   "cell_type": "code",
   "execution_count": 47,
   "id": "7517bdc9-e56f-4a25-9b27-386f50b7f56f",
   "metadata": {},
   "outputs": [
    {
     "name": "stdin",
     "output_type": "stream",
     "text": [
      " -2\n"
     ]
    },
    {
     "name": "stdout",
     "output_type": "stream",
     "text": [
      "0\n"
     ]
    }
   ],
   "source": [
    "num = int(input())\n",
    "\n",
    "result = num if num >= 0 else 0\n",
    "print(result)"
   ]
  },
  {
   "cell_type": "code",
   "execution_count": 53,
   "id": "d0084606-2358-46c8-8b00-a04ff309aaf6",
   "metadata": {},
   "outputs": [
    {
     "ename": "KeyboardInterrupt",
     "evalue": "Interrupted by user",
     "output_type": "error",
     "traceback": [
      "\u001b[1;31m---------------------------------------------------------------------------\u001b[0m",
      "\u001b[1;31mKeyboardInterrupt\u001b[0m                         Traceback (most recent call last)",
      "Cell \u001b[1;32mIn[53], line 1\u001b[0m\n\u001b[1;32m----> 1\u001b[0m num \u001b[38;5;241m=\u001b[39m \u001b[38;5;28mint\u001b[39m(\u001b[38;5;28;43minput\u001b[39;49m\u001b[43m(\u001b[49m\u001b[43m)\u001b[49m)\n\u001b[0;32m      3\u001b[0m result \u001b[38;5;241m=\u001b[39m \u001b[38;5;124m'\u001b[39m\u001b[38;5;124m크다\u001b[39m\u001b[38;5;124m'\u001b[39m \u001b[38;5;28;01mif\u001b[39;00m num \u001b[38;5;241m>\u001b[39m\u001b[38;5;241m=\u001b[39m \u001b[38;5;241m100\u001b[39m \u001b[38;5;28;01melse\u001b[39;00m \u001b[38;5;124m'\u001b[39m\u001b[38;5;124m중간\u001b[39m\u001b[38;5;124m'\u001b[39m \u001b[38;5;28;01mif\u001b[39;00m num \u001b[38;5;241m>\u001b[39m\u001b[38;5;241m=\u001b[39m \u001b[38;5;241m50\u001b[39m \u001b[38;5;28;01melse\u001b[39;00m \u001b[38;5;124m'\u001b[39m\u001b[38;5;124m작다\u001b[39m\u001b[38;5;124m'\u001b[39m\n\u001b[0;32m      4\u001b[0m \u001b[38;5;28mprint\u001b[39m(result)\n",
      "File \u001b[1;32m~\\AppData\\Local\\Programs\\Python\\Python313\\Lib\\site-packages\\ipykernel\\kernelbase.py:1282\u001b[0m, in \u001b[0;36mKernel.raw_input\u001b[1;34m(self, prompt)\u001b[0m\n\u001b[0;32m   1280\u001b[0m     msg \u001b[38;5;241m=\u001b[39m \u001b[38;5;124m\"\u001b[39m\u001b[38;5;124mraw_input was called, but this frontend does not support input requests.\u001b[39m\u001b[38;5;124m\"\u001b[39m\n\u001b[0;32m   1281\u001b[0m     \u001b[38;5;28;01mraise\u001b[39;00m StdinNotImplementedError(msg)\n\u001b[1;32m-> 1282\u001b[0m \u001b[38;5;28;01mreturn\u001b[39;00m \u001b[38;5;28;43mself\u001b[39;49m\u001b[38;5;241;43m.\u001b[39;49m\u001b[43m_input_request\u001b[49m\u001b[43m(\u001b[49m\n\u001b[0;32m   1283\u001b[0m \u001b[43m    \u001b[49m\u001b[38;5;28;43mstr\u001b[39;49m\u001b[43m(\u001b[49m\u001b[43mprompt\u001b[49m\u001b[43m)\u001b[49m\u001b[43m,\u001b[49m\n\u001b[0;32m   1284\u001b[0m \u001b[43m    \u001b[49m\u001b[38;5;28;43mself\u001b[39;49m\u001b[38;5;241;43m.\u001b[39;49m\u001b[43m_parent_ident\u001b[49m\u001b[43m[\u001b[49m\u001b[38;5;124;43m\"\u001b[39;49m\u001b[38;5;124;43mshell\u001b[39;49m\u001b[38;5;124;43m\"\u001b[39;49m\u001b[43m]\u001b[49m\u001b[43m,\u001b[49m\n\u001b[0;32m   1285\u001b[0m \u001b[43m    \u001b[49m\u001b[38;5;28;43mself\u001b[39;49m\u001b[38;5;241;43m.\u001b[39;49m\u001b[43mget_parent\u001b[49m\u001b[43m(\u001b[49m\u001b[38;5;124;43m\"\u001b[39;49m\u001b[38;5;124;43mshell\u001b[39;49m\u001b[38;5;124;43m\"\u001b[39;49m\u001b[43m)\u001b[49m\u001b[43m,\u001b[49m\n\u001b[0;32m   1286\u001b[0m \u001b[43m    \u001b[49m\u001b[43mpassword\u001b[49m\u001b[38;5;241;43m=\u001b[39;49m\u001b[38;5;28;43;01mFalse\u001b[39;49;00m\u001b[43m,\u001b[49m\n\u001b[0;32m   1287\u001b[0m \u001b[43m\u001b[49m\u001b[43m)\u001b[49m\n",
      "File \u001b[1;32m~\\AppData\\Local\\Programs\\Python\\Python313\\Lib\\site-packages\\ipykernel\\kernelbase.py:1325\u001b[0m, in \u001b[0;36mKernel._input_request\u001b[1;34m(self, prompt, ident, parent, password)\u001b[0m\n\u001b[0;32m   1322\u001b[0m \u001b[38;5;28;01mexcept\u001b[39;00m \u001b[38;5;167;01mKeyboardInterrupt\u001b[39;00m:\n\u001b[0;32m   1323\u001b[0m     \u001b[38;5;66;03m# re-raise KeyboardInterrupt, to truncate traceback\u001b[39;00m\n\u001b[0;32m   1324\u001b[0m     msg \u001b[38;5;241m=\u001b[39m \u001b[38;5;124m\"\u001b[39m\u001b[38;5;124mInterrupted by user\u001b[39m\u001b[38;5;124m\"\u001b[39m\n\u001b[1;32m-> 1325\u001b[0m     \u001b[38;5;28;01mraise\u001b[39;00m \u001b[38;5;167;01mKeyboardInterrupt\u001b[39;00m(msg) \u001b[38;5;28;01mfrom\u001b[39;00m\u001b[38;5;250m \u001b[39m\u001b[38;5;28;01mNone\u001b[39;00m\n\u001b[0;32m   1326\u001b[0m \u001b[38;5;28;01mexcept\u001b[39;00m \u001b[38;5;167;01mException\u001b[39;00m:\n\u001b[0;32m   1327\u001b[0m     \u001b[38;5;28mself\u001b[39m\u001b[38;5;241m.\u001b[39mlog\u001b[38;5;241m.\u001b[39mwarning(\u001b[38;5;124m\"\u001b[39m\u001b[38;5;124mInvalid Message:\u001b[39m\u001b[38;5;124m\"\u001b[39m, exc_info\u001b[38;5;241m=\u001b[39m\u001b[38;5;28;01mTrue\u001b[39;00m)\n",
      "\u001b[1;31mKeyboardInterrupt\u001b[0m: Interrupted by user"
     ]
    }
   ],
   "source": [
    "num = int(input())\n",
    "\n",
    "result = '크다' if num >= 100 else '중간' if num >= 50 else '작다'\n",
    "print(result)"
   ]
  },
  {
   "cell_type": "code",
   "execution_count": 58,
   "id": "5f69ea34-3c18-486e-a1ef-61d013dbf01b",
   "metadata": {},
   "outputs": [
    {
     "name": "stdin",
     "output_type": "stream",
     "text": [
      " 22\n"
     ]
    },
    {
     "name": "stdout",
     "output_type": "stream",
     "text": [
      "청소년/성인영화\n"
     ]
    }
   ],
   "source": [
    "num = int(input())\n",
    "\n",
    "result = '청소년/성인영화' if num >= 18 else '청소년 영화' if num >= 13 else '어린이 영화' if num >= 10 else '유아 영화'\n",
    "print(result)"
   ]
  },
  {
   "cell_type": "code",
   "execution_count": 64,
   "id": "ded55d4e-1a5b-4afe-801d-ac29b5ce3186",
   "metadata": {},
   "outputs": [
    {
     "name": "stdin",
     "output_type": "stream",
     "text": [
      " -1\n"
     ]
    },
    {
     "name": "stdout",
     "output_type": "stream",
     "text": [
      "음수\n"
     ]
    }
   ],
   "source": [
    "num = int(input())\n",
    "result = '양수' if num > 0 else '0' if num == 0 else '음수'\n",
    "print(result)"
   ]
  },
  {
   "cell_type": "code",
   "execution_count": 70,
   "id": "b4153bd7-4764-4a69-a20c-7efd3185de70",
   "metadata": {},
   "outputs": [
    {
     "ename": "SyntaxError",
     "evalue": "unterminated string literal (detected at line 5) (25243320.py, line 5)",
     "output_type": "error",
     "traceback": [
      "\u001b[1;36m  Cell \u001b[1;32mIn[70], line 5\u001b[1;36m\u001b[0m\n\u001b[1;33m    print('happy valentine's day')\u001b[0m\n\u001b[1;37m                                ^\u001b[0m\n\u001b[1;31mSyntaxError\u001b[0m\u001b[1;31m:\u001b[0m unterminated string literal (detected at line 5)\n"
     ]
    }
   ],
   "source": [
    "my_string = input()\n",
    "print(my_string)\n",
    "\n",
    "if my_string == '02/14':\n",
    "    print('happy valentine's day')\n",
    "else:\n",
    "    print('not valentine's day')"
   ]
  },
  {
   "cell_type": "code",
   "execution_count": 81,
   "id": "79aee4c5-1657-4a18-8c99-404e0238ca22",
   "metadata": {},
   "outputs": [
    {
     "ename": "IndentationError",
     "evalue": "expected an indented block after 'if' statement on line 4 (4040466537.py, line 5)",
     "output_type": "error",
     "traceback": [
      "\u001b[1;36m  Cell \u001b[1;32mIn[81], line 5\u001b[1;36m\u001b[0m\n\u001b[1;33m    print(i)\u001b[0m\n\u001b[1;37m    ^\u001b[0m\n\u001b[1;31mIndentationError\u001b[0m\u001b[1;31m:\u001b[0m expected an indented block after 'if' statement on line 4\n"
     ]
    }
   ],
   "source": [
    "num = int(input())\n",
    "\n",
    "for i in range(1, num + 1):\n",
    "    if i % 2 != 0:\n",
    "    print(i)"
   ]
  },
  {
   "cell_type": "code",
   "execution_count": 85,
   "id": "80501cec-b49a-4a92-a15a-a44ba1fd226f",
   "metadata": {},
   "outputs": [
    {
     "name": "stdout",
     "output_type": "stream",
     "text": [
      "'번호' : 0, '이름' : 김\n",
      "'번호' : 1, '이름' : 박\n",
      "'번호' : 2, '이름' : 최\n",
      "'번호' : 3, '이름' : 이\n",
      "'번호' : 4, '이름' : 정\n"
     ]
    }
   ],
   "source": [
    "students = ['김', '박', '최', '이', '정']\n",
    "for number, name in enumerate(students):\n",
    "    print(f\"'번호' : {number}, '이름' : {name}\")"
   ]
  },
  {
   "cell_type": "code",
   "execution_count": 89,
   "id": "5daab145-98c8-4aef-8b37-b30040132f74",
   "metadata": {},
   "outputs": [
    {
     "name": "stdout",
     "output_type": "stream",
     "text": [
      "'테이블 번호' : 0 '(음식 이름)' : 떡볶이\n",
      "'테이블 번호' : 1 '(음식 이름)' : 순대\n",
      "'테이블 번호' : 2 '(음식 이름)' : 오뎅\n",
      "'테이블 번호' : 3 '(음식 이름)' : 알밥\n"
     ]
    }
   ],
   "source": [
    "menu = ['떡볶이', '순대', '오뎅', '알밥']\n",
    "for table_number, name in enumerate(menu):\n",
    "    print(f\"'테이블 번호' : {table_number} '(음식 이름)' : {name}\")"
   ]
  },
  {
   "cell_type": "code",
   "execution_count": 91,
   "id": "c841d7fd-85d8-4ab1-b9c2-a5924f4abbd4",
   "metadata": {},
   "outputs": [
    {
     "name": "stdout",
     "output_type": "stream",
     "text": [
      "'합격자' : 김하나\n",
      "'합격자' : 김둘\n",
      "'합격자' : 김셋\n",
      "'합격자' : 김넷\n"
     ]
    }
   ],
   "source": [
    "people = ['김하나', '김둘', '김셋', '김넷']\n",
    "for contact in (people):\n",
    "    print(f\"'합격자' : {contact}\")"
   ]
  },
  {
   "cell_type": "code",
   "execution_count": null,
   "id": "1fc8d8b1-32ff-4a69-884c-800d0ffc5008",
   "metadata": {},
   "outputs": [],
   "source": []
  },
  {
   "cell_type": "code",
   "execution_count": null,
   "id": "893ea1a0-930b-48f5-b40b-c2b60e7ee321",
   "metadata": {},
   "outputs": [],
   "source": []
  },
  {
   "cell_type": "code",
   "execution_count": null,
   "id": "1443ca1c-3270-4684-9794-0237b11b0e4b",
   "metadata": {},
   "outputs": [],
   "source": []
  }
 ],
 "metadata": {
  "kernelspec": {
   "display_name": "Python 3 (ipykernel)",
   "language": "python",
   "name": "python3"
  },
  "language_info": {
   "codemirror_mode": {
    "name": "ipython",
    "version": 3
   },
   "file_extension": ".py",
   "mimetype": "text/x-python",
   "name": "python",
   "nbconvert_exporter": "python",
   "pygments_lexer": "ipython3",
   "version": "3.13.2"
  }
 },
 "nbformat": 4,
 "nbformat_minor": 5
}
