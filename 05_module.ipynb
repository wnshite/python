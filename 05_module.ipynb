{
 "cells": [
  {
   "cell_type": "markdown",
   "id": "bd896140-7d19-4f24-8246-42c01b7d6e5d",
   "metadata": {},
   "source": [
    "# 모듈"
   ]
  },
  {
   "cell_type": "code",
   "execution_count": null,
   "id": "09930715-6c29-4d19-b2da-29b6442070b4",
   "metadata": {},
   "outputs": [],
   "source": [
    "import fact"
   ]
  },
  {
   "cell_type": "code",
   "execution_count": null,
   "id": "17d102f8-8365-4001-af42-ace69565fb47",
   "metadata": {},
   "outputs": [],
   "source": [
    "print(fact)"
   ]
  },
  {
   "cell_type": "code",
   "execution_count": null,
   "id": "7d4d9e1f-469b-47d5-bd9e-9c08f2770d8b",
   "metadata": {},
   "outputs": [],
   "source": [
    "fact.factorial(5)"
   ]
  },
  {
   "cell_type": "code",
   "execution_count": null,
   "id": "c10d36e5-d423-48c9-a476-0ceb8a5bb685",
   "metadata": {},
   "outputs": [],
   "source": [
    "fact.my_max(2, 3)"
   ]
  },
  {
   "cell_type": "markdown",
   "id": "37eb8fb4-1ead-44dd-97e3-f81222e5038d",
   "metadata": {},
   "source": [
    "## 패키지\n",
    "```\n",
    "myPackage/\n",
    "    __init__.py\n",
    "    math/\n",
    "        __init__.py\n",
    "```\n",
    "- 패키지 안에 __init__.py 파일이 존재해야 패키지로 인식"
   ]
  },
  {
   "cell_type": "code",
   "execution_count": 1,
   "id": "d15be410-ec8e-4210-ad0c-41be0354fcfd",
   "metadata": {},
   "outputs": [],
   "source": [
    "import myPackage"
   ]
  },
  {
   "cell_type": "code",
   "execution_count": 2,
   "id": "c71d8ddc-d75f-46e7-9278-fb692045bbbb",
   "metadata": {},
   "outputs": [
    {
     "name": "stdout",
     "output_type": "stream",
     "text": [
      "<module 'myPackage' from 'C:\\\\Users\\\\1-01\\\\Desktop\\\\DAMF2\\\\python\\\\myPackage\\\\__init__.py'>\n"
     ]
    }
   ],
   "source": [
    "print(myPackage)"
   ]
  },
  {
   "cell_type": "code",
   "execution_count": 3,
   "id": "41aad71e-59c9-4723-9356-2595d1886007",
   "metadata": {},
   "outputs": [
    {
     "ename": "AttributeError",
     "evalue": "module 'myPackage' has no attribute 'math'",
     "output_type": "error",
     "traceback": [
      "\u001b[1;31m---------------------------------------------------------------------------\u001b[0m",
      "\u001b[1;31mAttributeError\u001b[0m                            Traceback (most recent call last)",
      "Cell \u001b[1;32mIn[3], line 1\u001b[0m\n\u001b[1;32m----> 1\u001b[0m \u001b[43mmyPackage\u001b[49m\u001b[38;5;241;43m.\u001b[39;49m\u001b[43mmath\u001b[49m\u001b[38;5;241m.\u001b[39mfomula\u001b[38;5;241m.\u001b[39mmy_max(\u001b[38;5;241m2\u001b[39m, \u001b[38;5;241m3\u001b[39m)\n",
      "\u001b[1;31mAttributeError\u001b[0m: module 'myPackage' has no attribute 'math'"
     ]
    }
   ],
   "source": [
    "myPackage.math.fomula.my_max(2, 3)"
   ]
  },
  {
   "cell_type": "code",
   "execution_count": 5,
   "id": "8a88bd83-845b-4461-8938-5b249475ad80",
   "metadata": {},
   "outputs": [],
   "source": [
    "from myPackage.math.fomula import my_max"
   ]
  },
  {
   "cell_type": "code",
   "execution_count": 7,
   "id": "1d883746-94dd-4bdd-b35a-22f5727e678e",
   "metadata": {},
   "outputs": [
    {
     "data": {
      "text/plain": [
       "3"
      ]
     },
     "execution_count": 7,
     "metadata": {},
     "output_type": "execute_result"
    }
   ],
   "source": [
    "my_max(2, 3)"
   ]
  },
  {
   "cell_type": "code",
   "execution_count": 9,
   "id": "d2255198-a682-4053-b56d-d9ca14e3f461",
   "metadata": {},
   "outputs": [
    {
     "data": {
      "text/plain": [
       "3"
      ]
     },
     "execution_count": 9,
     "metadata": {},
     "output_type": "execute_result"
    }
   ],
   "source": [
    "from myPackage.math import fomula\n",
    "fomula.my_max(2, 3)"
   ]
  },
  {
   "cell_type": "code",
   "execution_count": 15,
   "id": "b4403381-4f1c-4468-88a0-8cd3078fe496",
   "metadata": {},
   "outputs": [
    {
     "name": "stdout",
     "output_type": "stream",
     "text": [
      "3.14\n"
     ]
    }
   ],
   "source": [
    "from myPackage.math.fomula import *\n",
    "print(pi)"
   ]
  },
  {
   "cell_type": "code",
   "execution_count": 19,
   "id": "834cf0af-e1d5-4d3c-b847-2cce10b4e95b",
   "metadata": {},
   "outputs": [
    {
     "name": "stdout",
     "output_type": "stream",
     "text": [
      "1234\n",
      "<module 'myPackage.math.fomula' from 'C:\\\\Users\\\\1-01\\\\Desktop\\\\DAMF2\\\\python\\\\myPackage\\\\math\\\\fomula.py'>\n"
     ]
    }
   ],
   "source": [
    "fomula = 1234\n",
    "from myPackage.math import fomula as f\n",
    "print(fomula)\n",
    "print(f)"
   ]
  },
  {
   "cell_type": "markdown",
   "id": "ce3a5102-1227-4b94-a7e7-cfd8ddc93a3d",
   "metadata": {},
   "source": [
    "## 파이썬 내장 패키지"
   ]
  },
  {
   "cell_type": "code",
   "execution_count": 21,
   "id": "ea88ccf5-083e-48cf-a672-65073daad241",
   "metadata": {},
   "outputs": [],
   "source": [
    "import math"
   ]
  },
  {
   "cell_type": "code",
   "execution_count": 24,
   "id": "d1ab15ee-87d9-43da-ad47-f9a82f82762a",
   "metadata": {},
   "outputs": [
    {
     "data": {
      "text/plain": [
       "2.718281828459045"
      ]
     },
     "execution_count": 24,
     "metadata": {},
     "output_type": "execute_result"
    }
   ],
   "source": [
    "math.e"
   ]
  },
  {
   "cell_type": "code",
   "execution_count": 26,
   "id": "ef5789e2-0b0d-4e80-b5cc-b399643ede9f",
   "metadata": {},
   "outputs": [
    {
     "data": {
      "text/plain": [
       "3"
      ]
     },
     "execution_count": 26,
     "metadata": {},
     "output_type": "execute_result"
    }
   ],
   "source": [
    "math.ceil(math.e)"
   ]
  },
  {
   "cell_type": "code",
   "execution_count": 27,
   "id": "8358ca23-7092-42d2-a171-4e13d935b8dc",
   "metadata": {},
   "outputs": [
    {
     "data": {
      "text/plain": [
       "2"
      ]
     },
     "execution_count": 27,
     "metadata": {},
     "output_type": "execute_result"
    }
   ],
   "source": [
    "math.floor(math.e)"
   ]
  },
  {
   "cell_type": "code",
   "execution_count": 29,
   "id": "7cffa733-f8bb-4dad-89bf-a6132861cfd6",
   "metadata": {},
   "outputs": [
    {
     "data": {
      "text/plain": [
       "3.0"
      ]
     },
     "execution_count": 29,
     "metadata": {},
     "output_type": "execute_result"
    }
   ],
   "source": [
    "math.sqrt(9)"
   ]
  },
  {
   "cell_type": "code",
   "execution_count": 32,
   "id": "0c5966f2-7442-4aa6-8a37-7b19867a7ef5",
   "metadata": {},
   "outputs": [
    {
     "data": {
      "text/plain": [
       "121645100408832000"
      ]
     },
     "execution_count": 32,
     "metadata": {},
     "output_type": "execute_result"
    }
   ],
   "source": [
    "math.factorial(19)"
   ]
  },
  {
   "cell_type": "code",
   "execution_count": 34,
   "id": "d11f118d-8a93-471f-9fb5-a16573ae9146",
   "metadata": {},
   "outputs": [],
   "source": [
    "from math import sqrt, factorial"
   ]
  },
  {
   "cell_type": "code",
   "execution_count": 35,
   "id": "f5f809f1-d99d-4d18-b78d-f35af89cbd7e",
   "metadata": {},
   "outputs": [
    {
     "data": {
      "text/plain": [
       "4.0"
      ]
     },
     "execution_count": 35,
     "metadata": {},
     "output_type": "execute_result"
    }
   ],
   "source": [
    "sqrt(16)"
   ]
  },
  {
   "cell_type": "code",
   "execution_count": 37,
   "id": "ba18ecf8-c105-463c-a430-c4173e17bcd1",
   "metadata": {},
   "outputs": [
    {
     "data": {
      "text/plain": [
       "120"
      ]
     },
     "execution_count": 37,
     "metadata": {},
     "output_type": "execute_result"
    }
   ],
   "source": [
    "factorial(5)"
   ]
  },
  {
   "cell_type": "markdown",
   "id": "8cbac0cd-23b2-43e1-8810-d8df8bff1a24",
   "metadata": {},
   "source": [
    "## random"
   ]
  },
  {
   "cell_type": "code",
   "execution_count": 39,
   "id": "a82bc981-ca12-4dfe-911a-cfdb7c8dbeb4",
   "metadata": {},
   "outputs": [],
   "source": [
    "import random"
   ]
  },
  {
   "cell_type": "code",
   "execution_count": 51,
   "id": "808f6f99-603f-4036-a5da-91077f776cfd",
   "metadata": {},
   "outputs": [
    {
     "data": {
      "text/plain": [
       "0.24630850226875478"
      ]
     },
     "execution_count": 51,
     "metadata": {},
     "output_type": "execute_result"
    }
   ],
   "source": [
    "random.random() # ->random 이라는 파일 안에 random이라는 데이터가 들어있다."
   ]
  },
  {
   "cell_type": "code",
   "execution_count": 58,
   "id": "9b89c8a7-17f4-4f5b-a9b0-fbdaded6c115",
   "metadata": {},
   "outputs": [
    {
     "data": {
      "text/plain": [
       "7"
      ]
     },
     "execution_count": 58,
     "metadata": {},
     "output_type": "execute_result"
    }
   ],
   "source": [
    "random.randint(1, 10)"
   ]
  },
  {
   "cell_type": "code",
   "execution_count": 67,
   "id": "8fcdbf7b-4ee4-4b36-94f6-60928f7fd856",
   "metadata": {},
   "outputs": [
    {
     "data": {
      "text/plain": [
       "0.052363598850944326"
      ]
     },
     "execution_count": 67,
     "metadata": {},
     "output_type": "execute_result"
    }
   ],
   "source": [
    "random.seed(123) # --> 랜덤 실행을 중지.\n",
    "random.random()"
   ]
  },
  {
   "cell_type": "code",
   "execution_count": 68,
   "id": "7c196885-c183-487f-9ffa-34e356c51728",
   "metadata": {},
   "outputs": [],
   "source": [
    "numbers = [1, 2, 3, 4, 5]"
   ]
  },
  {
   "cell_type": "code",
   "execution_count": 109,
   "id": "72db1494-0ad7-423c-9224-4d4f7a6e74e7",
   "metadata": {},
   "outputs": [
    {
     "name": "stdout",
     "output_type": "stream",
     "text": [
      "[5, 2, 1, 4, 3]\n"
     ]
    }
   ],
   "source": [
    "random.shuffle(numbers)\n",
    "print(numbers)"
   ]
  },
  {
   "cell_type": "code",
   "execution_count": 152,
   "id": "8a87a17d-4166-48d0-aec3-478eb70befc3",
   "metadata": {},
   "outputs": [
    {
     "name": "stdout",
     "output_type": "stream",
     "text": [
      "1\n",
      "3\n"
     ]
    }
   ],
   "source": [
    "print(random.choice(numbers))\n",
    "print(random.choice(numbers))"
   ]
  },
  {
   "cell_type": "code",
   "execution_count": 203,
   "id": "6a25eb2a-f059-46aa-9786-e7260ba5b2eb",
   "metadata": {},
   "outputs": [
    {
     "data": {
      "text/plain": [
       "[6, 4]"
      ]
     },
     "execution_count": 203,
     "metadata": {},
     "output_type": "execute_result"
    }
   ],
   "source": [
    "random.sample(numbers, 2)"
   ]
  },
  {
   "cell_type": "code",
   "execution_count": 201,
   "id": "8db8d2cf-b411-484e-b030-0dded0459b06",
   "metadata": {},
   "outputs": [
    {
     "data": {
      "text/plain": [
       "[4, 1, 5, 2, 3, 6]"
      ]
     },
     "execution_count": 201,
     "metadata": {},
     "output_type": "execute_result"
    }
   ],
   "source": [
    "numbers = [1, 2, 3, 4, 5, 6]\n",
    "random.sample(numbers, 6)"
   ]
  },
  {
   "cell_type": "markdown",
   "id": "e9790c9f-38a1-4048-aa7a-72bb733d4352",
   "metadata": {},
   "source": [
    "## datetime"
   ]
  },
  {
   "cell_type": "code",
   "execution_count": 204,
   "id": "c8512965-4aa2-4f2f-9f1c-3569d08a1464",
   "metadata": {},
   "outputs": [],
   "source": [
    "from datetime import datetime"
   ]
  },
  {
   "cell_type": "code",
   "execution_count": 205,
   "id": "42a4787a-f22d-44c9-ba07-9144fdc655b3",
   "metadata": {},
   "outputs": [
    {
     "data": {
      "text/plain": [
       "datetime.datetime(2025, 2, 18, 14, 39, 6, 241734)"
      ]
     },
     "execution_count": 205,
     "metadata": {},
     "output_type": "execute_result"
    }
   ],
   "source": [
    "datetime.now()"
   ]
  },
  {
   "cell_type": "code",
   "execution_count": 206,
   "id": "0d7e7712-2770-425e-89ef-bf87fd135a9c",
   "metadata": {},
   "outputs": [
    {
     "data": {
      "text/plain": [
       "datetime.datetime(2025, 2, 18, 14, 39, 56, 85837)"
      ]
     },
     "execution_count": 206,
     "metadata": {},
     "output_type": "execute_result"
    }
   ],
   "source": [
    "datetime.today()"
   ]
  },
  {
   "cell_type": "code",
   "execution_count": 215,
   "id": "c46a9fb2-eafc-421d-863c-573d7b8c80b9",
   "metadata": {},
   "outputs": [
    {
     "ename": "NameError",
     "evalue": "name 'timezone' is not defined",
     "output_type": "error",
     "traceback": [
      "\u001b[1;31m---------------------------------------------------------------------------\u001b[0m",
      "\u001b[1;31mNameError\u001b[0m                                 Traceback (most recent call last)",
      "Cell \u001b[1;32mIn[215], line 2\u001b[0m\n\u001b[0;32m      1\u001b[0m \u001b[38;5;66;03m# datetime.utcnow()\u001b[39;00m\n\u001b[1;32m----> 2\u001b[0m datetime\u001b[38;5;241m.\u001b[39mnow(\u001b[43mtimezone\u001b[49m\u001b[38;5;241m.\u001b[39mutc)\n",
      "\u001b[1;31mNameError\u001b[0m: name 'timezone' is not defined"
     ]
    }
   ],
   "source": [
    "# datetime.utcnow()\n",
    "datetime.now(timezone.utc)"
   ]
  },
  {
   "cell_type": "code",
   "execution_count": 216,
   "id": "72e26021-b890-40fc-95a1-53527e9174a4",
   "metadata": {},
   "outputs": [],
   "source": [
    "now = datetime.now()"
   ]
  },
  {
   "cell_type": "code",
   "execution_count": 217,
   "id": "5985527a-5c56-4a8f-bb9c-c9c50a963bd7",
   "metadata": {},
   "outputs": [
    {
     "data": {
      "text/plain": [
       "datetime.datetime(2025, 2, 18, 14, 44, 14, 656114)"
      ]
     },
     "execution_count": 217,
     "metadata": {},
     "output_type": "execute_result"
    }
   ],
   "source": [
    "now"
   ]
  },
  {
   "cell_type": "code",
   "execution_count": 219,
   "id": "2f5b793d-8937-4fd8-8818-93ca4e0d4755",
   "metadata": {},
   "outputs": [
    {
     "data": {
      "text/plain": [
       "2025"
      ]
     },
     "execution_count": 219,
     "metadata": {},
     "output_type": "execute_result"
    }
   ],
   "source": [
    "now.year"
   ]
  },
  {
   "cell_type": "code",
   "execution_count": 220,
   "id": "ce3e51e2-66fc-4879-ae9f-b229fbe28c7d",
   "metadata": {},
   "outputs": [
    {
     "data": {
      "text/plain": [
       "2"
      ]
     },
     "execution_count": 220,
     "metadata": {},
     "output_type": "execute_result"
    }
   ],
   "source": [
    "now.month"
   ]
  },
  {
   "cell_type": "code",
   "execution_count": 222,
   "id": "2c9ea191-65b6-4282-89f9-0f12a35b9ac2",
   "metadata": {},
   "outputs": [
    {
     "data": {
      "text/plain": [
       "18"
      ]
     },
     "execution_count": 222,
     "metadata": {},
     "output_type": "execute_result"
    }
   ],
   "source": [
    "now.day"
   ]
  },
  {
   "cell_type": "code",
   "execution_count": 223,
   "id": "d2a00968-2d14-459b-a5a3-04a89e766970",
   "metadata": {},
   "outputs": [
    {
     "data": {
      "text/plain": [
       "1"
      ]
     },
     "execution_count": 223,
     "metadata": {},
     "output_type": "execute_result"
    }
   ],
   "source": [
    "now.weekday()"
   ]
  },
  {
   "cell_type": "code",
   "execution_count": 225,
   "id": "c8beb771-8a77-45f4-893e-3aecae80799d",
   "metadata": {},
   "outputs": [
    {
     "name": "stdout",
     "output_type": "stream",
     "text": [
      "2025-02-18 14:44:14.656114\n"
     ]
    }
   ],
   "source": [
    "print(now)"
   ]
  },
  {
   "cell_type": "code",
   "execution_count": 236,
   "id": "0c7d1c29-e55c-4ec8-8e5b-df0b6e11de49",
   "metadata": {},
   "outputs": [
    {
     "data": {
      "text/plain": [
       "'2025년 Feb월 18일'"
      ]
     },
     "execution_count": 236,
     "metadata": {},
     "output_type": "execute_result"
    }
   ],
   "source": [
    "now.strftime('%Y년 %b월 %d일')"
   ]
  },
  {
   "cell_type": "code",
   "execution_count": 238,
   "id": "7bc992c3-0c1f-4dd3-96fd-8e717bf0b78c",
   "metadata": {},
   "outputs": [
    {
     "name": "stdout",
     "output_type": "stream",
     "text": [
      "2025-12-25 00:00:00\n"
     ]
    }
   ],
   "source": [
    "x_mas = datetime(2025, 12, 25)\n",
    "print(x_mas)"
   ]
  },
  {
   "cell_type": "code",
   "execution_count": 239,
   "id": "39b64ce0-a9bf-4777-9156-2d41025850b3",
   "metadata": {},
   "outputs": [],
   "source": [
    "from datetime import timedelta"
   ]
  },
  {
   "cell_type": "code",
   "execution_count": 241,
   "id": "1901f8ac-8316-409f-8a1b-eb23bf0512b7",
   "metadata": {},
   "outputs": [
    {
     "name": "stdout",
     "output_type": "stream",
     "text": [
      "2025-12-28 00:00:00\n"
     ]
    }
   ],
   "source": [
    "future = timedelta(days = 3)\n",
    "print(x_mas + future)"
   ]
  },
  {
   "cell_type": "code",
   "execution_count": 242,
   "id": "dba8eb64-c811-4b33-82ca-e83444569b9d",
   "metadata": {},
   "outputs": [
    {
     "name": "stdout",
     "output_type": "stream",
     "text": [
      "2025-09-17 00:00:00\n"
     ]
    }
   ],
   "source": [
    "future = timedelta(days =1 -100)\n",
    "print(x_mas + future)"
   ]
  },
  {
   "cell_type": "code",
   "execution_count": 243,
   "id": "aee962f8-44d7-4413-bc6e-da8baf94ac11",
   "metadata": {},
   "outputs": [
    {
     "data": {
      "text/plain": [
       "datetime.timedelta(days=309, seconds=33345, microseconds=343886)"
      ]
     },
     "execution_count": 243,
     "metadata": {},
     "output_type": "execute_result"
    }
   ],
   "source": [
    "x_mas - now"
   ]
  },
  {
   "cell_type": "code",
   "execution_count": null,
   "id": "34606879-bb14-4cf4-a15d-dbdb59d86f23",
   "metadata": {},
   "outputs": [],
   "source": []
  },
  {
   "cell_type": "code",
   "execution_count": null,
   "id": "2f363608-7e77-4690-893e-44a774f31231",
   "metadata": {},
   "outputs": [],
   "source": []
  },
  {
   "cell_type": "code",
   "execution_count": null,
   "id": "597a7d62-7622-4b45-b319-dfeb97bd6f53",
   "metadata": {},
   "outputs": [],
   "source": []
  },
  {
   "cell_type": "code",
   "execution_count": null,
   "id": "7c5ff715-3b56-4ee3-84d2-a3dc6a5dcfe4",
   "metadata": {},
   "outputs": [],
   "source": []
  },
  {
   "cell_type": "code",
   "execution_count": null,
   "id": "4df8e23b-d744-4201-80ca-63a0eb509481",
   "metadata": {},
   "outputs": [],
   "source": []
  },
  {
   "cell_type": "code",
   "execution_count": null,
   "id": "d49d8a0f-85fd-447a-adf8-4dd150f89a26",
   "metadata": {},
   "outputs": [],
   "source": []
  }
 ],
 "metadata": {
  "kernelspec": {
   "display_name": "Python 3 (ipykernel)",
   "language": "python",
   "name": "python3"
  },
  "language_info": {
   "codemirror_mode": {
    "name": "ipython",
    "version": 3
   },
   "file_extension": ".py",
   "mimetype": "text/x-python",
   "name": "python",
   "nbconvert_exporter": "python",
   "pygments_lexer": "ipython3",
   "version": "3.13.2"
  }
 },
 "nbformat": 4,
 "nbformat_minor": 5
}
