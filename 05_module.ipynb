{
 "cells": [
  {
   "cell_type": "markdown",
   "id": "bd896140-7d19-4f24-8246-42c01b7d6e5d",
   "metadata": {},
   "source": [
    "# 모듈"
   ]
  },
  {
   "cell_type": "code",
   "execution_count": null,
   "id": "09930715-6c29-4d19-b2da-29b6442070b4",
   "metadata": {},
   "outputs": [],
   "source": [
    "import fact"
   ]
  },
  {
   "cell_type": "code",
   "execution_count": null,
   "id": "17d102f8-8365-4001-af42-ace69565fb47",
   "metadata": {},
   "outputs": [],
   "source": [
    "print(fact)"
   ]
  },
  {
   "cell_type": "code",
   "execution_count": null,
   "id": "7d4d9e1f-469b-47d5-bd9e-9c08f2770d8b",
   "metadata": {},
   "outputs": [],
   "source": [
    "fact.factorial(5)"
   ]
  },
  {
   "cell_type": "code",
   "execution_count": null,
   "id": "c10d36e5-d423-48c9-a476-0ceb8a5bb685",
   "metadata": {},
   "outputs": [],
   "source": [
    "fact.my_max(2, 3)"
   ]
  },
  {
   "cell_type": "markdown",
   "id": "37eb8fb4-1ead-44dd-97e3-f81222e5038d",
   "metadata": {},
   "source": [
    "## 패키지\n",
    "```\n",
    "myPackage/\n",
    "    __init__.py\n",
    "    math/\n",
    "        __init__.py\n",
    "```\n",
    "- 패키지 안에 __init__.py 파일이 존재해야 패키지로 인식"
   ]
  },
  {
   "cell_type": "code",
   "execution_count": null,
   "id": "d15be410-ec8e-4210-ad0c-41be0354fcfd",
   "metadata": {},
   "outputs": [],
   "source": [
    "import myPackage"
   ]
  },
  {
   "cell_type": "code",
   "execution_count": null,
   "id": "c71d8ddc-d75f-46e7-9278-fb692045bbbb",
   "metadata": {},
   "outputs": [],
   "source": [
    "print(myPackage)"
   ]
  },
  {
   "cell_type": "code",
   "execution_count": null,
   "id": "41aad71e-59c9-4723-9356-2595d1886007",
   "metadata": {},
   "outputs": [],
   "source": [
    "myPackage.math.fomula.my_max(2, 3)"
   ]
  },
  {
   "cell_type": "code",
   "execution_count": null,
   "id": "8a88bd83-845b-4461-8938-5b249475ad80",
   "metadata": {},
   "outputs": [],
   "source": [
    "from myPackage.math.fomula import my_max"
   ]
  },
  {
   "cell_type": "code",
   "execution_count": null,
   "id": "1d883746-94dd-4bdd-b35a-22f5727e678e",
   "metadata": {},
   "outputs": [],
   "source": [
    "my_max(2, 3)"
   ]
  },
  {
   "cell_type": "code",
   "execution_count": null,
   "id": "d2255198-a682-4053-b56d-d9ca14e3f461",
   "metadata": {},
   "outputs": [],
   "source": [
    "from myPackage.math import fomula\n",
    "fomula.my_max(2, 3)"
   ]
  },
  {
   "cell_type": "code",
   "execution_count": null,
   "id": "b4403381-4f1c-4468-88a0-8cd3078fe496",
   "metadata": {},
   "outputs": [],
   "source": [
    "from myPackage.math.fomula import *\n",
    "print(pi)"
   ]
  },
  {
   "cell_type": "code",
   "execution_count": null,
   "id": "834cf0af-e1d5-4d3c-b847-2cce10b4e95b",
   "metadata": {},
   "outputs": [],
   "source": [
    "fomula = 1234\n",
    "from myPackage.math import fomula as f\n",
    "print(fomula)\n",
    "print(f)"
   ]
  },
  {
   "cell_type": "markdown",
   "id": "ce3a5102-1227-4b94-a7e7-cfd8ddc93a3d",
   "metadata": {},
   "source": [
    "## 파이썬 내장 패키지"
   ]
  },
  {
   "cell_type": "code",
   "execution_count": null,
   "id": "ea88ccf5-083e-48cf-a672-65073daad241",
   "metadata": {},
   "outputs": [],
   "source": [
    "import math"
   ]
  },
  {
   "cell_type": "code",
   "execution_count": null,
   "id": "d1ab15ee-87d9-43da-ad47-f9a82f82762a",
   "metadata": {},
   "outputs": [],
   "source": [
    "math.e"
   ]
  },
  {
   "cell_type": "code",
   "execution_count": null,
   "id": "ef5789e2-0b0d-4e80-b5cc-b399643ede9f",
   "metadata": {},
   "outputs": [],
   "source": [
    "math.ceil(math.e)"
   ]
  },
  {
   "cell_type": "code",
   "execution_count": null,
   "id": "8358ca23-7092-42d2-a171-4e13d935b8dc",
   "metadata": {},
   "outputs": [],
   "source": [
    "math.floor(math.e)"
   ]
  },
  {
   "cell_type": "code",
   "execution_count": null,
   "id": "7cffa733-f8bb-4dad-89bf-a6132861cfd6",
   "metadata": {},
   "outputs": [],
   "source": [
    "math.sqrt(9)"
   ]
  },
  {
   "cell_type": "code",
   "execution_count": null,
   "id": "0c5966f2-7442-4aa6-8a37-7b19867a7ef5",
   "metadata": {},
   "outputs": [],
   "source": [
    "math.factorial(19)"
   ]
  },
  {
   "cell_type": "code",
   "execution_count": null,
   "id": "d11f118d-8a93-471f-9fb5-a16573ae9146",
   "metadata": {},
   "outputs": [],
   "source": [
    "from math import sqrt, factorial"
   ]
  },
  {
   "cell_type": "code",
   "execution_count": null,
   "id": "f5f809f1-d99d-4d18-b78d-f35af89cbd7e",
   "metadata": {},
   "outputs": [],
   "source": [
    "sqrt(16)"
   ]
  },
  {
   "cell_type": "code",
   "execution_count": null,
   "id": "ba18ecf8-c105-463c-a430-c4173e17bcd1",
   "metadata": {},
   "outputs": [],
   "source": [
    "factorial(5)"
   ]
  },
  {
   "cell_type": "markdown",
   "id": "8cbac0cd-23b2-43e1-8810-d8df8bff1a24",
   "metadata": {},
   "source": [
    "## random"
   ]
  },
  {
   "cell_type": "code",
   "execution_count": null,
   "id": "a82bc981-ca12-4dfe-911a-cfdb7c8dbeb4",
   "metadata": {},
   "outputs": [],
   "source": [
    "import random"
   ]
  },
  {
   "cell_type": "code",
   "execution_count": null,
   "id": "808f6f99-603f-4036-a5da-91077f776cfd",
   "metadata": {},
   "outputs": [],
   "source": [
    "random.random() # ->random 이라는 파일 안에 random이라는 데이터가 들어있다."
   ]
  },
  {
   "cell_type": "code",
   "execution_count": null,
   "id": "9b89c8a7-17f4-4f5b-a9b0-fbdaded6c115",
   "metadata": {},
   "outputs": [],
   "source": [
    "random.randint(1, 10)"
   ]
  },
  {
   "cell_type": "code",
   "execution_count": null,
   "id": "8fcdbf7b-4ee4-4b36-94f6-60928f7fd856",
   "metadata": {},
   "outputs": [],
   "source": [
    "random.seed(123) # --> 랜덤 실행을 중지.\n",
    "random.random()"
   ]
  },
  {
   "cell_type": "code",
   "execution_count": null,
   "id": "7c196885-c183-487f-9ffa-34e356c51728",
   "metadata": {},
   "outputs": [],
   "source": [
    "numbers = [1, 2, 3, 4, 5]"
   ]
  },
  {
   "cell_type": "code",
   "execution_count": null,
   "id": "72db1494-0ad7-423c-9224-4d4f7a6e74e7",
   "metadata": {},
   "outputs": [],
   "source": [
    "random.shuffle(numbers)\n",
    "print(numbers)"
   ]
  },
  {
   "cell_type": "code",
   "execution_count": null,
   "id": "8a87a17d-4166-48d0-aec3-478eb70befc3",
   "metadata": {},
   "outputs": [],
   "source": [
    "print(random.choice(numbers))\n",
    "print(random.choice(numbers))"
   ]
  },
  {
   "cell_type": "code",
   "execution_count": null,
   "id": "6a25eb2a-f059-46aa-9786-e7260ba5b2eb",
   "metadata": {},
   "outputs": [],
   "source": [
    "random.sample(numbers, 2)"
   ]
  },
  {
   "cell_type": "code",
   "execution_count": null,
   "id": "8db8d2cf-b411-484e-b030-0dded0459b06",
   "metadata": {},
   "outputs": [],
   "source": [
    "numbers = [1, 2, 3, 4, 5, 6]\n",
    "random.sample(numbers, 6)"
   ]
  },
  {
   "cell_type": "markdown",
   "id": "e9790c9f-38a1-4048-aa7a-72bb733d4352",
   "metadata": {},
   "source": [
    "## datetime"
   ]
  },
  {
   "cell_type": "code",
   "execution_count": null,
   "id": "c8512965-4aa2-4f2f-9f1c-3569d08a1464",
   "metadata": {},
   "outputs": [],
   "source": [
    "from datetime import datetime"
   ]
  },
  {
   "cell_type": "code",
   "execution_count": null,
   "id": "42a4787a-f22d-44c9-ba07-9144fdc655b3",
   "metadata": {},
   "outputs": [],
   "source": [
    "datetime.now()"
   ]
  },
  {
   "cell_type": "code",
   "execution_count": null,
   "id": "0d7e7712-2770-425e-89ef-bf87fd135a9c",
   "metadata": {},
   "outputs": [],
   "source": [
    "datetime.today()"
   ]
  },
  {
   "cell_type": "code",
   "execution_count": null,
   "id": "c46a9fb2-eafc-421d-863c-573d7b8c80b9",
   "metadata": {},
   "outputs": [],
   "source": [
    "# datetime.utcnow()\n",
    "datetime.now(timezone.utc)"
   ]
  },
  {
   "cell_type": "code",
   "execution_count": null,
   "id": "72e26021-b890-40fc-95a1-53527e9174a4",
   "metadata": {},
   "outputs": [],
   "source": [
    "now = datetime.now()"
   ]
  },
  {
   "cell_type": "code",
   "execution_count": null,
   "id": "5985527a-5c56-4a8f-bb9c-c9c50a963bd7",
   "metadata": {},
   "outputs": [],
   "source": [
    "now"
   ]
  },
  {
   "cell_type": "code",
   "execution_count": null,
   "id": "2f5b793d-8937-4fd8-8818-93ca4e0d4755",
   "metadata": {},
   "outputs": [],
   "source": [
    "now.year"
   ]
  },
  {
   "cell_type": "code",
   "execution_count": null,
   "id": "ce3e51e2-66fc-4879-ae9f-b229fbe28c7d",
   "metadata": {},
   "outputs": [],
   "source": [
    "now.month"
   ]
  },
  {
   "cell_type": "code",
   "execution_count": null,
   "id": "2c9ea191-65b6-4282-89f9-0f12a35b9ac2",
   "metadata": {},
   "outputs": [],
   "source": [
    "now.day"
   ]
  },
  {
   "cell_type": "code",
   "execution_count": null,
   "id": "d2a00968-2d14-459b-a5a3-04a89e766970",
   "metadata": {},
   "outputs": [],
   "source": [
    "now.weekday()"
   ]
  },
  {
   "cell_type": "code",
   "execution_count": null,
   "id": "c8beb771-8a77-45f4-893e-3aecae80799d",
   "metadata": {},
   "outputs": [],
   "source": [
    "print(now)"
   ]
  },
  {
   "cell_type": "code",
   "execution_count": null,
   "id": "0c7d1c29-e55c-4ec8-8e5b-df0b6e11de49",
   "metadata": {},
   "outputs": [],
   "source": [
    "now.strftime('%Y년 %b월 %d일')"
   ]
  },
  {
   "cell_type": "code",
   "execution_count": null,
   "id": "7bc992c3-0c1f-4dd3-96fd-8e717bf0b78c",
   "metadata": {},
   "outputs": [],
   "source": [
    "x_mas = datetime(2025, 12, 25)\n",
    "print(x_mas)"
   ]
  },
  {
   "cell_type": "code",
   "execution_count": null,
   "id": "39b64ce0-a9bf-4777-9156-2d41025850b3",
   "metadata": {},
   "outputs": [],
   "source": [
    "from datetime import timedelta"
   ]
  },
  {
   "cell_type": "code",
   "execution_count": null,
   "id": "1901f8ac-8316-409f-8a1b-eb23bf0512b7",
   "metadata": {},
   "outputs": [],
   "source": [
    "future = timedelta(days = 3)\n",
    "print(x_mas + future)"
   ]
  },
  {
   "cell_type": "code",
   "execution_count": null,
   "id": "dba8eb64-c811-4b33-82ca-e83444569b9d",
   "metadata": {},
   "outputs": [],
   "source": [
    "future = timedelta(days =1 -100)\n",
    "print(x_mas + future)"
   ]
  },
  {
   "cell_type": "code",
   "execution_count": null,
   "id": "aee962f8-44d7-4413-bc6e-da8baf94ac11",
   "metadata": {},
   "outputs": [],
   "source": [
    "x_mas - now"
   ]
  },
  {
   "cell_type": "markdown",
   "id": "9081ebde-d58d-4cc0-b1e6-de0adb4bf447",
   "metadata": {},
   "source": [
    "## 외부 라이브러리"
   ]
  },
  {
   "cell_type": "markdown",
   "id": "85f0bff8-d00d-4eaf-8b2f-fe878cf5e49c",
   "metadata": {},
   "source": [
    "### requests"
   ]
  },
  {
   "cell_type": "code",
   "execution_count": null,
   "id": "597a7d62-7622-4b45-b319-dfeb97bd6f53",
   "metadata": {},
   "outputs": [],
   "source": [
    "import requests"
   ]
  },
  {
   "cell_type": "code",
   "execution_count": null,
   "id": "7c5ff715-3b56-4ee3-84d2-a3dc6a5dcfe4",
   "metadata": {},
   "outputs": [],
   "source": [
    "r = requests.get('https://api.github.com/events')"
   ]
  },
  {
   "cell_type": "code",
   "execution_count": null,
   "id": "4df8e23b-d744-4201-80ca-63a0eb509481",
   "metadata": {},
   "outputs": [],
   "source": [
    "print(r.text)"
   ]
  },
  {
   "cell_type": "code",
   "execution_count": null,
   "id": "d49d8a0f-85fd-447a-adf8-4dd150f89a26",
   "metadata": {},
   "outputs": [],
   "source": [
    "r = requests.get('https://naver.com')\n",
    "print(r.text)"
   ]
  },
  {
   "cell_type": "code",
   "execution_count": null,
   "id": "876f11d2-65ae-43fc-8735-398fccf67900",
   "metadata": {},
   "outputs": [],
   "source": [
    "payload = {'key1': 'value1', 'key2': 'value2'}\n",
    "r = requests.get('https://httpbin.org/get', params = payload)\n",
    "print(r.url)\n",
    "print(r.text)"
   ]
  },
  {
   "cell_type": "code",
   "execution_count": null,
   "id": "481b2d3a-b421-4fc8-a3bd-cdd31f1a36c3",
   "metadata": {},
   "outputs": [],
   "source": [
    "payload = {'qurery': '파이썬'}\n",
    "r = requests.get('https://search.naver.com/search.naver', params = payload)\n",
    "print(r.url)"
   ]
  },
  {
   "cell_type": "code",
   "execution_count": null,
   "id": "b825e591-69b2-4c01-86d7-dee74dfc9ee4",
   "metadata": {},
   "outputs": [],
   "source": [
    "r = requests.get('https://api.github.com/events')\n",
    "print(type(r.json()))\n",
    "print(r.json()['message'])"
   ]
  },
  {
   "cell_type": "code",
   "execution_count": null,
   "id": "ae78f2f3-1639-4a2a-80c6-3e098f91a0ec",
   "metadata": {},
   "outputs": [],
   "source": [
    "lotto_url = 'https://www.dhlottery.co.kr/common.do'\n",
    "\n",
    "payload = {\n",
    "    'method' : 'getLottoNumber',\n",
    "    'drwNo' : 1159,\n",
    "}\n",
    "\n",
    "r = requests.get(lotto_url, params = payload)\n",
    "print(r.url)\n",
    "# --> \"\" json을 dict로 바꿔주는 역할.\n",
    "print(r.text) # --> ''\n",
    "\n",
    "lotto_dict = r.json()\n",
    "\n",
    "print(lotto_dict['drwNoDate'])\n",
    "print(lotto_dict['drwtNo1'])\n",
    "#print(lotto_dict['drwtNo2'])\n",
    "#print(lotto_dict['drwtNo3'])\n",
    "#print(lotto_dict['drwtNo4'])\n",
    "#print(lotto_dict['drwtNo5'])\n",
    "#print(lotto_dict['drwtNo6'])\n",
    "\n",
    "for i in range(1, 7):\n",
    "    print(lotto_dict[f'drwtNo{i}'])"
   ]
  },
  {
   "cell_type": "markdown",
   "id": "b2b8b237-a667-4060-a972-cc72ad7b6570",
   "metadata": {},
   "source": [
    "## 페어프로그래밍(로또)\n",
    "- 로또 5000원 구매하기\n",
    "  > 랜덤으로 5세트의 로또 번호를 생성합니다.\n",
    "- 등수 확인하기\n",
    "  > 최신회차의 당첨번호와 비교하여 몇등인지 출력합니다.\n",
    "  > 1, 3, 4, 5 꽝\n",
    "  > 2등"
   ]
  },
  {
   "cell_type": "code",
   "execution_count": null,
   "id": "e9a7a36d-c73d-42f0-b7da-98c1240aba3e",
   "metadata": {},
   "outputs": [],
   "source": [
    "import random\n",
    "\n",
    "for i in range(1, 6):\n",
    "    for j in range(6):\n",
    "\n",
    "        print(random.randint(1, 45), end = ',')\n",
    "    print()"
   ]
  },
  {
   "cell_type": "code",
   "execution_count": null,
   "id": "2e5d1715-520b-42cc-9ef6-389094e6c11e",
   "metadata": {},
   "outputs": [],
   "source": [
    "import random\n",
    "\n",
    "numbers = range(1, 46)\n",
    "Lucky = random.sample(numbers, 6)\n",
    "game_five = []\n",
    "\n",
    "for i in range(5):\n",
    "    Lucky = random.sample(numbers, 6)\n",
    "    game_five.append(Lucky)\n",
    "    print(Lucky)\n",
    "print(game_five)"
   ]
  },
  {
   "cell_type": "code",
   "execution_count": null,
   "id": "6a50ba97-42b0-456c-a6ca-8e317556567e",
   "metadata": {},
   "outputs": [],
   "source": [
    "lotto_url = 'https://www.dhlottery.co.kr/common.do'\n",
    "\n",
    "payload = {\n",
    "    'method' : 'getLottoNumber',\n",
    "    'drwNo' : 1159,\n",
    "}\n",
    "\n",
    "r = requests.get(lotto_url, params = payload)\n",
    "lotto_dict = r.json()\n",
    "\n",
    "print(lotto_dict['drwNoDate'])\n",
    "print(lotto_dict['bnusNo'])\n",
    "\n",
    "my_list = []\n",
    "\n",
    "for i in range(1, 7):\n",
    "    print(lotto_dict[f'drwtNo{i}'])\n",
    "    my_list.append(lotto_dict[f'drwtNo{i}'])\n",
    "my_list.append(lotto_dict['bnusNo'])\n",
    "print(my_list)"
   ]
  },
  {
   "cell_type": "code",
   "execution_count": null,
   "id": "7c0e0264-5be2-40b9-a2f6-cd2e63989d23",
   "metadata": {},
   "outputs": [],
   "source": [
    "for i in game_five:\n",
    "    correct_count = 0\n",
    "    for k in my_list[:6]:\n",
    "        if k in i:\n",
    "            correct_count += 1\n",
    "        print(correct_count)\n",
    "    if correct_count == 6:\n",
    "        print('1등입니다.')\n",
    "        continue\n",
    "        \n",
    "    for j in my_list:\n",
    "        if j in i:\n",
    "            correct_count += 1\n",
    "        print(correct_count)\n",
    "    if correct_count == 6:\n",
    "        print('2등입니다.')\n",
    "    elif correct_count == 5:\n",
    "        print('3등입니다.')\n",
    "    elif correct_count == 4:\n",
    "        print('4등입니다.')\n",
    "    elif correct_count == 3:\n",
    "        print('5등입니다.')\n",
    "    else:\n",
    "        print('꽝입니다.')"
   ]
  },
  {
   "cell_type": "code",
   "execution_count": null,
   "id": "5196ff39-207d-41c1-b2ef-3da8ccd6c5f5",
   "metadata": {},
   "outputs": [],
   "source": [
    "print(my_list)\n",
    "print(my_list[:6])"
   ]
  },
  {
   "cell_type": "code",
   "execution_count": 21,
   "id": "a1423290-2f64-4663-bba7-b4333115fc1e",
   "metadata": {},
   "outputs": [
    {
     "name": "stdout",
     "output_type": "stream",
     "text": [
      "{1: [9, 15, 16, 27, 33, 44], 2: [10, 13, 23, 38, 39, 40], 3: [7, 11, 16, 19, 36, 37], 4: [4, 5, 13, 25, 38, 40], 5: [7, 19, 28, 31, 36, 38]}\n"
     ]
    }
   ],
   "source": [
    "# 강사님 풀이\n",
    "# 1. 로또 번호 생성하기\n",
    "\n",
    "import random\n",
    "\n",
    "my_numbers = {}\n",
    "\n",
    "for i in range(1, 6):\n",
    "    random_numbers = random.sample(range(1, 46), 6)\n",
    "    random_numbers.sort()\n",
    "    my_numbers[i] = random_numbers\n",
    "print(my_numbers)"
   ]
  },
  {
   "cell_type": "code",
   "execution_count": 22,
   "id": "f9fef75d-c9e9-41cb-bf7c-e614e9e7f8b8",
   "metadata": {},
   "outputs": [
    {
     "name": "stdout",
     "output_type": "stream",
     "text": [
      "[39, 28, 38, 9, 27, 3]\n"
     ]
    }
   ],
   "source": [
    "# 2. 최신회차 당첨번호 수집\n",
    "import requests\n",
    "\n",
    "LOTTO_URL = 'https://www.dhlottery.co.kr/common.do'\n",
    "payload = {\n",
    "    'method' : 'getLottoNumber',\n",
    "    'drwNo' : 1159,\n",
    "}\n",
    "\n",
    "r = requests.get(LOTTO_URL, params = payload)\n",
    "lotto_dict = r.json()\n",
    "\n",
    "lucky_numbers = []\n",
    "bonus_number = lotto_dict['bnusNo']\n",
    "\n",
    "for k, v in lotto_dict.items():\n",
    "    if 'drwtNo' in k:\n",
    "        lucky_numbers.append(v)\n",
    "\n",
    "print(lucky_numbers)"
   ]
  },
  {
   "cell_type": "code",
   "execution_count": 23,
   "id": "db50b3e1-8cb9-4ec6-851c-7be5607e4046",
   "metadata": {},
   "outputs": [
    {
     "name": "stdout",
     "output_type": "stream",
     "text": [
      "{1: [9, 15, 16, 27, 33, 44], 2: [10, 13, 23, 38, 39, 40], 3: [7, 11, 16, 19, 36, 37], 4: [4, 5, 13, 25, 38, 40], 5: [7, 19, 28, 31, 36, 38]}\n",
      "[39, 28, 38, 9, 27, 3]\n"
     ]
    },
    {
     "ename": "NameError",
     "evalue": "name 'bonus_numbers' is not defined",
     "output_type": "error",
     "traceback": [
      "\u001b[1;31m---------------------------------------------------------------------------\u001b[0m",
      "\u001b[1;31mNameError\u001b[0m                                 Traceback (most recent call last)",
      "Cell \u001b[1;32mIn[23], line 3\u001b[0m\n\u001b[0;32m      1\u001b[0m \u001b[38;5;28mprint\u001b[39m(my_numbers)\n\u001b[0;32m      2\u001b[0m \u001b[38;5;28mprint\u001b[39m(lucky_numbers)\n\u001b[1;32m----> 3\u001b[0m \u001b[38;5;28mprint\u001b[39m(\u001b[43mbonus_numbers\u001b[49m)\n",
      "\u001b[1;31mNameError\u001b[0m: name 'bonus_numbers' is not defined"
     ]
    }
   ],
   "source": [
    "print(my_numbers)\n",
    "print(lucky_numbers)\n",
    "print(bonus_numbers)"
   ]
  },
  {
   "cell_type": "code",
   "execution_count": 26,
   "id": "0afd98bb-1c4e-4ae7-94a6-0e3009a5d0c6",
   "metadata": {},
   "outputs": [
    {
     "name": "stdout",
     "output_type": "stream",
     "text": [
      "꽝\n",
      "꽝\n",
      "꽝\n",
      "꽝\n",
      "꽝\n"
     ]
    }
   ],
   "source": [
    "# 3. 등수 확인하기\n",
    "\n",
    "# my_numbers = {\n",
    "#    '1': [39, 28, 38, 9, 27, 100\n",
    "# } ----> 강제로 변수를 설정해서 아래 코드 확인해보기.\n",
    "\n",
    "for my_number in my_numbers.values():\n",
    "    my_number_set = set(my_number)\n",
    "    lucky_numbers_set = set(lucky_numbers)\n",
    "\n",
    "    match_count = len(my_number_set & lucky_numbers_set)\n",
    "\n",
    "    if match_count == 6:\n",
    "        print('1등')\n",
    "    elif match_count == 5 and bonus_number in my_number:\n",
    "        print('2등')\n",
    "    elif match_count == 5:\n",
    "        print('3등')\n",
    "    elif match_count == 4:\n",
    "        print('4등')\n",
    "    elif match_count == 3:\n",
    "        print('5등')\n",
    "    else:\n",
    "        print('꽝')\n",
    "    "
   ]
  },
  {
   "cell_type": "code",
   "execution_count": 27,
   "id": "b9e0afcb-6074-468b-9178-4573a62d3e12",
   "metadata": {},
   "outputs": [
    {
     "ename": "SyntaxError",
     "evalue": "invalid syntax (2979481731.py, line 2)",
     "output_type": "error",
     "traceback": [
      "\u001b[1;36m  Cell \u001b[1;32mIn[27], line 2\u001b[1;36m\u001b[0m\n\u001b[1;33m    - 로또 5000원 구매하기\u001b[0m\n\u001b[1;37m         ^\u001b[0m\n\u001b[1;31mSyntaxError\u001b[0m\u001b[1;31m:\u001b[0m invalid syntax\n"
     ]
    }
   ],
   "source": [
    "## 페어프로그래밍(로또)\n",
    "- 로또 5000원 구매하기\n",
    "  > 랜덤으로 5세트의 로또 번호를 생성합니다.\n",
    "- 등수 확인하기\n",
    "  > 최신회차의 당첨번호와 비교하여 몇등인지 출력합니다.\n",
    "  > 1, 3, 4, 5 꽝\n",
    "  > 2등"
   ]
  },
  {
   "cell_type": "code",
   "execution_count": 46,
   "id": "b70210d6-5751-42d8-a1c9-02dfb31ff2ed",
   "metadata": {},
   "outputs": [
    {
     "name": "stdout",
     "output_type": "stream",
     "text": [
      "[23, 43, 31, 25, 30, 17]\n"
     ]
    }
   ],
   "source": [
    "import random\n",
    "\n",
    "num_6_45 = random.sample(range(1, 46), 6)\n",
    "print(num_6_45)"
   ]
  },
  {
   "cell_type": "code",
   "execution_count": null,
   "id": "41143a57-4297-4f04-b140-b435f475feaf",
   "metadata": {},
   "outputs": [],
   "source": [
    "random.samples(range(1, 46), 6)\n",
    "url -> playload -> r = requests.get(~) --> 파이썬을 이용한 http통신이 필요할 때."
   ]
  },
  {
   "cell_type": "code",
   "execution_count": 50,
   "id": "56dc6ea9-c6ae-4246-99b7-8e3c8b7dd7b9",
   "metadata": {},
   "outputs": [
    {
     "name": "stdout",
     "output_type": "stream",
     "text": [
      "['2025-02-15', 1159]\n"
     ]
    }
   ],
   "source": [
    "import requests\n",
    "\n",
    "LOTTO_URL = 'https://www.dhlottery.co.kr/common.do'\n",
    "payload = {\n",
    "    'method' : 'getLottoNumber',\n",
    "    'drwNo' : 1159,\n",
    "}\n",
    "r = requests.get(LOTTO_URL, params = payload)\n",
    "lotto_dict = r.json()\n",
    "\n",
    "lucky_numbers = []\n",
    "bonus_number = lotto_dict['bnusNo']\n",
    "\n",
    "for k, v in lotto_dict.items():\n",
    "    if 'drwNo' in k:\n",
    "        lucky_numbers.append(v)\n",
    "print(lucky_numbers)"
   ]
  },
  {
   "cell_type": "code",
   "execution_count": null,
   "id": "e58a7d84-dd5e-4c93-ac39-34a9d650e34c",
   "metadata": {},
   "outputs": [],
   "source": []
  }
 ],
 "metadata": {
  "kernelspec": {
   "display_name": "Python 3 (ipykernel)",
   "language": "python",
   "name": "python3"
  },
  "language_info": {
   "codemirror_mode": {
    "name": "ipython",
    "version": 3
   },
   "file_extension": ".py",
   "mimetype": "text/x-python",
   "name": "python",
   "nbconvert_exporter": "python",
   "pygments_lexer": "ipython3",
   "version": "3.13.2"
  }
 },
 "nbformat": 4,
 "nbformat_minor": 5
}
